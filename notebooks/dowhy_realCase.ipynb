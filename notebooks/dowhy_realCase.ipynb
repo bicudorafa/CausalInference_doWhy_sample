{
 "cells": [
  {
   "cell_type": "markdown",
   "metadata": {},
   "source": [
    "# Observational Study Using DoWhy"
   ]
  },
  {
   "cell_type": "markdown",
   "metadata": {},
   "source": [
    "Estudo de Caso: Lalonde dataset\n",
    "- Características\n",
    "- Objetivo"
   ]
  },
  {
   "cell_type": "markdown",
   "metadata": {},
   "source": [
    "### Etapas de Execucao"
   ]
  },
  {
   "cell_type": "markdown",
   "metadata": {},
   "source": [
    "Data Extraction:\n",
    "- etl dos dados, análise básica, limpeza basica e busca por inconsistencias\n",
    "\n",
    "\n",
    "Data Exploration:\n",
    "- entender melhor o case com os dados, quais dados temos a disposicao, como se parecem, correlações, e assim sucessivamente\n",
    "- analise naive do que seria o impacto observado da intervencao\n",
    "\n",
    "\n",
    "Data Preparation: (olhar outros materiais, principalmente o MCX, para entender real aplicação desses passos ou o que mais agregar/retirar)\n",
    "- assess covariate balance\n",
    "- estimate propensity score\n",
    "- trim sample\n",
    "- stratify sample\n",
    "\n",
    "Causal Inference:\n",
    "- Model\n",
    "- Identify\n",
    "- Estimate\n",
    "- Refute"
   ]
  },
  {
   "cell_type": "code",
   "execution_count": null,
   "metadata": {},
   "outputs": [],
   "source": []
  },
  {
   "cell_type": "code",
   "execution_count": null,
   "metadata": {},
   "outputs": [],
   "source": []
  }
 ],
 "metadata": {
  "kernelspec": {
   "display_name": "Python 3",
   "language": "python",
   "name": "python3"
  },
  "language_info": {
   "codemirror_mode": {
    "name": "ipython",
    "version": 3
   },
   "file_extension": ".py",
   "mimetype": "text/x-python",
   "name": "python",
   "nbconvert_exporter": "python",
   "pygments_lexer": "ipython3",
   "version": "3.7.6"
  }
 },
 "nbformat": 4,
 "nbformat_minor": 4
}
