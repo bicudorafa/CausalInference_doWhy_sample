{
 "cells": [
  {
   "cell_type": "markdown",
   "metadata": {},
   "source": [
    "# Using DoWhy for Causal Inference\n",
    "This notebook aims to demonstrate the capabilites of using the Causal Framework to make causal inference from observational data, and the tools we have available to validate our conclusions, all of them powered by Microsoft's DoWHy package.\n",
    "\n",
    "First, let us add the required path for Python to find the DoWhy code and load all required packages."
   ]
  },
  {
   "cell_type": "markdown",
   "metadata": {},
   "source": [
    "## Loading Packages and Dependencies"
   ]
  },
  {
   "cell_type": "code",
   "execution_count": 1,
   "metadata": {},
   "outputs": [],
   "source": [
    "import os, sys\n",
    "sys.path.append(os.path.abspath(\"../../../\"))"
   ]
  },
  {
   "cell_type": "markdown",
   "metadata": {},
   "source": [
    "Let's check the python version. "
   ]
  },
  {
   "cell_type": "code",
   "execution_count": 2,
   "metadata": {},
   "outputs": [],
   "source": [
    "import numpy as np\n",
    "import pandas as pd\n",
    "import logging # implement a flexible event logging system for applications and libraries.\n",
    "import seaborn as sns\n",
    "# dowhy framework\n",
    "import dowhy\n",
    "from dowhy import CausalModel\n",
    "import dowhy.datasets"
   ]
  },
  {
   "cell_type": "markdown",
   "metadata": {},
   "source": [
    "Now, let us load a dataset. For simplicity, we simulate a dataset with linear relationships between common causes and treatment, and common causes and outcome. \n",
    "\n",
    "Beta is the true causal effect. "
   ]
  },
  {
   "cell_type": "code",
   "execution_count": 3,
   "metadata": {
    "scrolled": true
   },
   "outputs": [
    {
     "data": {
      "text/html": [
       "<div>\n",
       "<style scoped>\n",
       "    .dataframe tbody tr th:only-of-type {\n",
       "        vertical-align: middle;\n",
       "    }\n",
       "\n",
       "    .dataframe tbody tr th {\n",
       "        vertical-align: top;\n",
       "    }\n",
       "\n",
       "    .dataframe thead th {\n",
       "        text-align: right;\n",
       "    }\n",
       "</style>\n",
       "<table border=\"1\" class=\"dataframe\">\n",
       "  <thead>\n",
       "    <tr style=\"text-align: right;\">\n",
       "      <th></th>\n",
       "      <th>Z0</th>\n",
       "      <th>Z1</th>\n",
       "      <th>W0</th>\n",
       "      <th>W1</th>\n",
       "      <th>W2</th>\n",
       "      <th>W3</th>\n",
       "      <th>W4</th>\n",
       "      <th>W5</th>\n",
       "      <th>W6</th>\n",
       "      <th>v0</th>\n",
       "      <th>y</th>\n",
       "    </tr>\n",
       "  </thead>\n",
       "  <tbody>\n",
       "    <tr>\n",
       "      <th>0</th>\n",
       "      <td>0.0</td>\n",
       "      <td>0.250747</td>\n",
       "      <td>-2.083592</td>\n",
       "      <td>-0.152957</td>\n",
       "      <td>-1.260406</td>\n",
       "      <td>1.326353</td>\n",
       "      <td>-0.343434</td>\n",
       "      <td>0.226673</td>\n",
       "      <td>1.059219</td>\n",
       "      <td>True</td>\n",
       "      <td>4.626234</td>\n",
       "    </tr>\n",
       "    <tr>\n",
       "      <th>1</th>\n",
       "      <td>0.0</td>\n",
       "      <td>0.535169</td>\n",
       "      <td>-0.570740</td>\n",
       "      <td>1.635073</td>\n",
       "      <td>0.249719</td>\n",
       "      <td>1.797575</td>\n",
       "      <td>0.043275</td>\n",
       "      <td>0.573568</td>\n",
       "      <td>-0.654881</td>\n",
       "      <td>True</td>\n",
       "      <td>17.436801</td>\n",
       "    </tr>\n",
       "    <tr>\n",
       "      <th>2</th>\n",
       "      <td>0.0</td>\n",
       "      <td>0.483765</td>\n",
       "      <td>1.510878</td>\n",
       "      <td>1.334690</td>\n",
       "      <td>-1.140147</td>\n",
       "      <td>-0.633943</td>\n",
       "      <td>-0.071771</td>\n",
       "      <td>0.175938</td>\n",
       "      <td>1.013321</td>\n",
       "      <td>True</td>\n",
       "      <td>16.652371</td>\n",
       "    </tr>\n",
       "    <tr>\n",
       "      <th>3</th>\n",
       "      <td>0.0</td>\n",
       "      <td>0.799261</td>\n",
       "      <td>0.683044</td>\n",
       "      <td>0.694600</td>\n",
       "      <td>0.148568</td>\n",
       "      <td>1.213144</td>\n",
       "      <td>0.834386</td>\n",
       "      <td>-0.624956</td>\n",
       "      <td>-1.116376</td>\n",
       "      <td>True</td>\n",
       "      <td>15.106106</td>\n",
       "    </tr>\n",
       "    <tr>\n",
       "      <th>4</th>\n",
       "      <td>0.0</td>\n",
       "      <td>0.246524</td>\n",
       "      <td>-1.392199</td>\n",
       "      <td>-0.352836</td>\n",
       "      <td>-0.068560</td>\n",
       "      <td>-0.616154</td>\n",
       "      <td>2.023430</td>\n",
       "      <td>-0.295892</td>\n",
       "      <td>-0.296643</td>\n",
       "      <td>False</td>\n",
       "      <td>-7.888055</td>\n",
       "    </tr>\n",
       "  </tbody>\n",
       "</table>\n",
       "</div>"
      ],
      "text/plain": [
       "    Z0        Z1        W0        W1        W2        W3        W4        W5  \\\n",
       "0  0.0  0.250747 -2.083592 -0.152957 -1.260406  1.326353 -0.343434  0.226673   \n",
       "1  0.0  0.535169 -0.570740  1.635073  0.249719  1.797575  0.043275  0.573568   \n",
       "2  0.0  0.483765  1.510878  1.334690 -1.140147 -0.633943 -0.071771  0.175938   \n",
       "3  0.0  0.799261  0.683044  0.694600  0.148568  1.213144  0.834386 -0.624956   \n",
       "4  0.0  0.246524 -1.392199 -0.352836 -0.068560 -0.616154  2.023430 -0.295892   \n",
       "\n",
       "         W6     v0          y  \n",
       "0  1.059219   True   4.626234  \n",
       "1 -0.654881   True  17.436801  \n",
       "2  1.013321   True  16.652371  \n",
       "3 -1.116376   True  15.106106  \n",
       "4 -0.296643  False  -7.888055  "
      ]
     },
     "execution_count": 3,
     "metadata": {},
     "output_type": "execute_result"
    }
   ],
   "source": [
    "data = dowhy.datasets.linear_dataset(\n",
    "    beta=10, # causal coef\n",
    "    num_common_causes=7, # cofounders\n",
    "    num_instruments = 2, #vi\n",
    "    num_treatments=1, # treatment\n",
    "    num_samples=10000, # sample\n",
    "    treatment_is_binary=True,\n",
    "    outcome_is_binary=False\n",
    ")\n",
    "df = data[\"df\"]\n",
    "df.head()"
   ]
  },
  {
   "cell_type": "markdown",
   "metadata": {},
   "source": [
    "Note that we are using a pandas dataframe to load the data. At present, DoWhy only supports pandas dataframe as input."
   ]
  },
  {
   "cell_type": "markdown",
   "metadata": {},
   "source": [
    "## Data Exploration"
   ]
  },
  {
   "cell_type": "code",
   "execution_count": 4,
   "metadata": {},
   "outputs": [
    {
     "name": "stdout",
     "output_type": "stream",
     "text": [
      "<class 'pandas.core.frame.DataFrame'>\n",
      "RangeIndex: 10000 entries, 0 to 9999\n",
      "Data columns (total 11 columns):\n",
      " #   Column  Non-Null Count  Dtype  \n",
      "---  ------  --------------  -----  \n",
      " 0   Z0      10000 non-null  float64\n",
      " 1   Z1      10000 non-null  float64\n",
      " 2   W0      10000 non-null  float64\n",
      " 3   W1      10000 non-null  float64\n",
      " 4   W2      10000 non-null  float64\n",
      " 5   W3      10000 non-null  float64\n",
      " 6   W4      10000 non-null  float64\n",
      " 7   W5      10000 non-null  float64\n",
      " 8   W6      10000 non-null  float64\n",
      " 9   v0      10000 non-null  bool   \n",
      " 10  y       10000 non-null  float64\n",
      "dtypes: bool(1), float64(10)\n",
      "memory usage: 791.1 KB\n"
     ]
    }
   ],
   "source": [
    "df.info()"
   ]
  },
  {
   "cell_type": "code",
   "execution_count": 5,
   "metadata": {},
   "outputs": [
    {
     "data": {
      "text/html": [
       "<style  type=\"text/css\" >\n",
       "    #T_45158808_8a94_11ea_af80_0242ac110002row0_col0 {\n",
       "            background-color:  #b40426;\n",
       "            color:  #f1f1f1;\n",
       "        }    #T_45158808_8a94_11ea_af80_0242ac110002row0_col1 {\n",
       "            background-color:  #3d50c3;\n",
       "            color:  #f1f1f1;\n",
       "        }    #T_45158808_8a94_11ea_af80_0242ac110002row0_col2 {\n",
       "            background-color:  #3f53c6;\n",
       "            color:  #f1f1f1;\n",
       "        }    #T_45158808_8a94_11ea_af80_0242ac110002row0_col3 {\n",
       "            background-color:  #3b4cc0;\n",
       "            color:  #f1f1f1;\n",
       "        }    #T_45158808_8a94_11ea_af80_0242ac110002row0_col4 {\n",
       "            background-color:  #3c4ec2;\n",
       "            color:  #f1f1f1;\n",
       "        }    #T_45158808_8a94_11ea_af80_0242ac110002row0_col5 {\n",
       "            background-color:  #4961d2;\n",
       "            color:  #f1f1f1;\n",
       "        }    #T_45158808_8a94_11ea_af80_0242ac110002row0_col6 {\n",
       "            background-color:  #4055c8;\n",
       "            color:  #f1f1f1;\n",
       "        }    #T_45158808_8a94_11ea_af80_0242ac110002row0_col7 {\n",
       "            background-color:  #4358cb;\n",
       "            color:  #f1f1f1;\n",
       "        }    #T_45158808_8a94_11ea_af80_0242ac110002row0_col8 {\n",
       "            background-color:  #3b4cc0;\n",
       "            color:  #f1f1f1;\n",
       "        }    #T_45158808_8a94_11ea_af80_0242ac110002row0_col9 {\n",
       "            background-color:  #5b7ae5;\n",
       "            color:  #000000;\n",
       "        }    #T_45158808_8a94_11ea_af80_0242ac110002row0_col10 {\n",
       "            background-color:  #3b4cc0;\n",
       "            color:  #f1f1f1;\n",
       "        }    #T_45158808_8a94_11ea_af80_0242ac110002row1_col0 {\n",
       "            background-color:  #3d50c3;\n",
       "            color:  #f1f1f1;\n",
       "        }    #T_45158808_8a94_11ea_af80_0242ac110002row1_col1 {\n",
       "            background-color:  #b40426;\n",
       "            color:  #f1f1f1;\n",
       "        }    #T_45158808_8a94_11ea_af80_0242ac110002row1_col2 {\n",
       "            background-color:  #3b4cc0;\n",
       "            color:  #f1f1f1;\n",
       "        }    #T_45158808_8a94_11ea_af80_0242ac110002row1_col3 {\n",
       "            background-color:  #4055c8;\n",
       "            color:  #f1f1f1;\n",
       "        }    #T_45158808_8a94_11ea_af80_0242ac110002row1_col4 {\n",
       "            background-color:  #3b4cc0;\n",
       "            color:  #f1f1f1;\n",
       "        }    #T_45158808_8a94_11ea_af80_0242ac110002row1_col5 {\n",
       "            background-color:  #465ecf;\n",
       "            color:  #f1f1f1;\n",
       "        }    #T_45158808_8a94_11ea_af80_0242ac110002row1_col6 {\n",
       "            background-color:  #3b4cc0;\n",
       "            color:  #f1f1f1;\n",
       "        }    #T_45158808_8a94_11ea_af80_0242ac110002row1_col7 {\n",
       "            background-color:  #455cce;\n",
       "            color:  #f1f1f1;\n",
       "        }    #T_45158808_8a94_11ea_af80_0242ac110002row1_col8 {\n",
       "            background-color:  #3e51c5;\n",
       "            color:  #f1f1f1;\n",
       "        }    #T_45158808_8a94_11ea_af80_0242ac110002row1_col9 {\n",
       "            background-color:  #7093f3;\n",
       "            color:  #000000;\n",
       "        }    #T_45158808_8a94_11ea_af80_0242ac110002row1_col10 {\n",
       "            background-color:  #3f53c6;\n",
       "            color:  #f1f1f1;\n",
       "        }    #T_45158808_8a94_11ea_af80_0242ac110002row2_col0 {\n",
       "            background-color:  #3f53c6;\n",
       "            color:  #f1f1f1;\n",
       "        }    #T_45158808_8a94_11ea_af80_0242ac110002row2_col1 {\n",
       "            background-color:  #3b4cc0;\n",
       "            color:  #f1f1f1;\n",
       "        }    #T_45158808_8a94_11ea_af80_0242ac110002row2_col2 {\n",
       "            background-color:  #b40426;\n",
       "            color:  #f1f1f1;\n",
       "        }    #T_45158808_8a94_11ea_af80_0242ac110002row2_col3 {\n",
       "            background-color:  #3e51c5;\n",
       "            color:  #f1f1f1;\n",
       "        }    #T_45158808_8a94_11ea_af80_0242ac110002row2_col4 {\n",
       "            background-color:  #3e51c5;\n",
       "            color:  #f1f1f1;\n",
       "        }    #T_45158808_8a94_11ea_af80_0242ac110002row2_col5 {\n",
       "            background-color:  #4358cb;\n",
       "            color:  #f1f1f1;\n",
       "        }    #T_45158808_8a94_11ea_af80_0242ac110002row2_col6 {\n",
       "            background-color:  #3d50c3;\n",
       "            color:  #f1f1f1;\n",
       "        }    #T_45158808_8a94_11ea_af80_0242ac110002row2_col7 {\n",
       "            background-color:  #4358cb;\n",
       "            color:  #f1f1f1;\n",
       "        }    #T_45158808_8a94_11ea_af80_0242ac110002row2_col8 {\n",
       "            background-color:  #4257c9;\n",
       "            color:  #f1f1f1;\n",
       "        }    #T_45158808_8a94_11ea_af80_0242ac110002row2_col9 {\n",
       "            background-color:  #85a8fc;\n",
       "            color:  #000000;\n",
       "        }    #T_45158808_8a94_11ea_af80_0242ac110002row2_col10 {\n",
       "            background-color:  #c3d5f4;\n",
       "            color:  #000000;\n",
       "        }    #T_45158808_8a94_11ea_af80_0242ac110002row3_col0 {\n",
       "            background-color:  #3c4ec2;\n",
       "            color:  #f1f1f1;\n",
       "        }    #T_45158808_8a94_11ea_af80_0242ac110002row3_col1 {\n",
       "            background-color:  #4055c8;\n",
       "            color:  #f1f1f1;\n",
       "        }    #T_45158808_8a94_11ea_af80_0242ac110002row3_col2 {\n",
       "            background-color:  #3e51c5;\n",
       "            color:  #f1f1f1;\n",
       "        }    #T_45158808_8a94_11ea_af80_0242ac110002row3_col3 {\n",
       "            background-color:  #b40426;\n",
       "            color:  #f1f1f1;\n",
       "        }    #T_45158808_8a94_11ea_af80_0242ac110002row3_col4 {\n",
       "            background-color:  #3b4cc0;\n",
       "            color:  #f1f1f1;\n",
       "        }    #T_45158808_8a94_11ea_af80_0242ac110002row3_col5 {\n",
       "            background-color:  #445acc;\n",
       "            color:  #f1f1f1;\n",
       "        }    #T_45158808_8a94_11ea_af80_0242ac110002row3_col6 {\n",
       "            background-color:  #3b4cc0;\n",
       "            color:  #f1f1f1;\n",
       "        }    #T_45158808_8a94_11ea_af80_0242ac110002row3_col7 {\n",
       "            background-color:  #465ecf;\n",
       "            color:  #f1f1f1;\n",
       "        }    #T_45158808_8a94_11ea_af80_0242ac110002row3_col8 {\n",
       "            background-color:  #3d50c3;\n",
       "            color:  #f1f1f1;\n",
       "        }    #T_45158808_8a94_11ea_af80_0242ac110002row3_col9 {\n",
       "            background-color:  #96b7ff;\n",
       "            color:  #000000;\n",
       "        }    #T_45158808_8a94_11ea_af80_0242ac110002row3_col10 {\n",
       "            background-color:  #aec9fc;\n",
       "            color:  #000000;\n",
       "        }    #T_45158808_8a94_11ea_af80_0242ac110002row4_col0 {\n",
       "            background-color:  #3e51c5;\n",
       "            color:  #f1f1f1;\n",
       "        }    #T_45158808_8a94_11ea_af80_0242ac110002row4_col1 {\n",
       "            background-color:  #3c4ec2;\n",
       "            color:  #f1f1f1;\n",
       "        }    #T_45158808_8a94_11ea_af80_0242ac110002row4_col2 {\n",
       "            background-color:  #3f53c6;\n",
       "            color:  #f1f1f1;\n",
       "        }    #T_45158808_8a94_11ea_af80_0242ac110002row4_col3 {\n",
       "            background-color:  #3c4ec2;\n",
       "            color:  #f1f1f1;\n",
       "        }    #T_45158808_8a94_11ea_af80_0242ac110002row4_col4 {\n",
       "            background-color:  #b40426;\n",
       "            color:  #f1f1f1;\n",
       "        }    #T_45158808_8a94_11ea_af80_0242ac110002row4_col5 {\n",
       "            background-color:  #4961d2;\n",
       "            color:  #f1f1f1;\n",
       "        }    #T_45158808_8a94_11ea_af80_0242ac110002row4_col6 {\n",
       "            background-color:  #3f53c6;\n",
       "            color:  #f1f1f1;\n",
       "        }    #T_45158808_8a94_11ea_af80_0242ac110002row4_col7 {\n",
       "            background-color:  #445acc;\n",
       "            color:  #f1f1f1;\n",
       "        }    #T_45158808_8a94_11ea_af80_0242ac110002row4_col8 {\n",
       "            background-color:  #3e51c5;\n",
       "            color:  #f1f1f1;\n",
       "        }    #T_45158808_8a94_11ea_af80_0242ac110002row4_col9 {\n",
       "            background-color:  #6485ec;\n",
       "            color:  #000000;\n",
       "        }    #T_45158808_8a94_11ea_af80_0242ac110002row4_col10 {\n",
       "            background-color:  #d1dae9;\n",
       "            color:  #000000;\n",
       "        }    #T_45158808_8a94_11ea_af80_0242ac110002row5_col0 {\n",
       "            background-color:  #445acc;\n",
       "            color:  #f1f1f1;\n",
       "        }    #T_45158808_8a94_11ea_af80_0242ac110002row5_col1 {\n",
       "            background-color:  #4257c9;\n",
       "            color:  #f1f1f1;\n",
       "        }    #T_45158808_8a94_11ea_af80_0242ac110002row5_col2 {\n",
       "            background-color:  #3d50c3;\n",
       "            color:  #f1f1f1;\n",
       "        }    #T_45158808_8a94_11ea_af80_0242ac110002row5_col3 {\n",
       "            background-color:  #3e51c5;\n",
       "            color:  #f1f1f1;\n",
       "        }    #T_45158808_8a94_11ea_af80_0242ac110002row5_col4 {\n",
       "            background-color:  #4257c9;\n",
       "            color:  #f1f1f1;\n",
       "        }    #T_45158808_8a94_11ea_af80_0242ac110002row5_col5 {\n",
       "            background-color:  #b40426;\n",
       "            color:  #f1f1f1;\n",
       "        }    #T_45158808_8a94_11ea_af80_0242ac110002row5_col6 {\n",
       "            background-color:  #3e51c5;\n",
       "            color:  #f1f1f1;\n",
       "        }    #T_45158808_8a94_11ea_af80_0242ac110002row5_col7 {\n",
       "            background-color:  #3b4cc0;\n",
       "            color:  #f1f1f1;\n",
       "        }    #T_45158808_8a94_11ea_af80_0242ac110002row5_col8 {\n",
       "            background-color:  #3b4cc0;\n",
       "            color:  #f1f1f1;\n",
       "        }    #T_45158808_8a94_11ea_af80_0242ac110002row5_col9 {\n",
       "            background-color:  #a5c3fe;\n",
       "            color:  #000000;\n",
       "        }    #T_45158808_8a94_11ea_af80_0242ac110002row5_col10 {\n",
       "            background-color:  #bcd2f7;\n",
       "            color:  #000000;\n",
       "        }    #T_45158808_8a94_11ea_af80_0242ac110002row6_col0 {\n",
       "            background-color:  #4257c9;\n",
       "            color:  #f1f1f1;\n",
       "        }    #T_45158808_8a94_11ea_af80_0242ac110002row6_col1 {\n",
       "            background-color:  #3b4cc0;\n",
       "            color:  #f1f1f1;\n",
       "        }    #T_45158808_8a94_11ea_af80_0242ac110002row6_col2 {\n",
       "            background-color:  #3e51c5;\n",
       "            color:  #f1f1f1;\n",
       "        }    #T_45158808_8a94_11ea_af80_0242ac110002row6_col3 {\n",
       "            background-color:  #3b4cc0;\n",
       "            color:  #f1f1f1;\n",
       "        }    #T_45158808_8a94_11ea_af80_0242ac110002row6_col4 {\n",
       "            background-color:  #3d50c3;\n",
       "            color:  #f1f1f1;\n",
       "        }    #T_45158808_8a94_11ea_af80_0242ac110002row6_col5 {\n",
       "            background-color:  #445acc;\n",
       "            color:  #f1f1f1;\n",
       "        }    #T_45158808_8a94_11ea_af80_0242ac110002row6_col6 {\n",
       "            background-color:  #b40426;\n",
       "            color:  #f1f1f1;\n",
       "        }    #T_45158808_8a94_11ea_af80_0242ac110002row6_col7 {\n",
       "            background-color:  #455cce;\n",
       "            color:  #f1f1f1;\n",
       "        }    #T_45158808_8a94_11ea_af80_0242ac110002row6_col8 {\n",
       "            background-color:  #3c4ec2;\n",
       "            color:  #f1f1f1;\n",
       "        }    #T_45158808_8a94_11ea_af80_0242ac110002row6_col9 {\n",
       "            background-color:  #5d7ce6;\n",
       "            color:  #000000;\n",
       "        }    #T_45158808_8a94_11ea_af80_0242ac110002row6_col10 {\n",
       "            background-color:  #5977e3;\n",
       "            color:  #000000;\n",
       "        }    #T_45158808_8a94_11ea_af80_0242ac110002row7_col0 {\n",
       "            background-color:  #3e51c5;\n",
       "            color:  #f1f1f1;\n",
       "        }    #T_45158808_8a94_11ea_af80_0242ac110002row7_col1 {\n",
       "            background-color:  #4055c8;\n",
       "            color:  #f1f1f1;\n",
       "        }    #T_45158808_8a94_11ea_af80_0242ac110002row7_col2 {\n",
       "            background-color:  #3e51c5;\n",
       "            color:  #f1f1f1;\n",
       "        }    #T_45158808_8a94_11ea_af80_0242ac110002row7_col3 {\n",
       "            background-color:  #4055c8;\n",
       "            color:  #f1f1f1;\n",
       "        }    #T_45158808_8a94_11ea_af80_0242ac110002row7_col4 {\n",
       "            background-color:  #3e51c5;\n",
       "            color:  #f1f1f1;\n",
       "        }    #T_45158808_8a94_11ea_af80_0242ac110002row7_col5 {\n",
       "            background-color:  #3b4cc0;\n",
       "            color:  #f1f1f1;\n",
       "        }    #T_45158808_8a94_11ea_af80_0242ac110002row7_col6 {\n",
       "            background-color:  #4055c8;\n",
       "            color:  #f1f1f1;\n",
       "        }    #T_45158808_8a94_11ea_af80_0242ac110002row7_col7 {\n",
       "            background-color:  #b40426;\n",
       "            color:  #f1f1f1;\n",
       "        }    #T_45158808_8a94_11ea_af80_0242ac110002row7_col8 {\n",
       "            background-color:  #4358cb;\n",
       "            color:  #f1f1f1;\n",
       "        }    #T_45158808_8a94_11ea_af80_0242ac110002row7_col9 {\n",
       "            background-color:  #3b4cc0;\n",
       "            color:  #f1f1f1;\n",
       "        }    #T_45158808_8a94_11ea_af80_0242ac110002row7_col10 {\n",
       "            background-color:  #4358cb;\n",
       "            color:  #f1f1f1;\n",
       "        }    #T_45158808_8a94_11ea_af80_0242ac110002row8_col0 {\n",
       "            background-color:  #3b4cc0;\n",
       "            color:  #f1f1f1;\n",
       "        }    #T_45158808_8a94_11ea_af80_0242ac110002row8_col1 {\n",
       "            background-color:  #3d50c3;\n",
       "            color:  #f1f1f1;\n",
       "        }    #T_45158808_8a94_11ea_af80_0242ac110002row8_col2 {\n",
       "            background-color:  #4257c9;\n",
       "            color:  #f1f1f1;\n",
       "        }    #T_45158808_8a94_11ea_af80_0242ac110002row8_col3 {\n",
       "            background-color:  #3c4ec2;\n",
       "            color:  #f1f1f1;\n",
       "        }    #T_45158808_8a94_11ea_af80_0242ac110002row8_col4 {\n",
       "            background-color:  #3c4ec2;\n",
       "            color:  #f1f1f1;\n",
       "        }    #T_45158808_8a94_11ea_af80_0242ac110002row8_col5 {\n",
       "            background-color:  #3f53c6;\n",
       "            color:  #f1f1f1;\n",
       "        }    #T_45158808_8a94_11ea_af80_0242ac110002row8_col6 {\n",
       "            background-color:  #3c4ec2;\n",
       "            color:  #f1f1f1;\n",
       "        }    #T_45158808_8a94_11ea_af80_0242ac110002row8_col7 {\n",
       "            background-color:  #485fd1;\n",
       "            color:  #f1f1f1;\n",
       "        }    #T_45158808_8a94_11ea_af80_0242ac110002row8_col8 {\n",
       "            background-color:  #b40426;\n",
       "            color:  #f1f1f1;\n",
       "        }    #T_45158808_8a94_11ea_af80_0242ac110002row8_col9 {\n",
       "            background-color:  #779af7;\n",
       "            color:  #000000;\n",
       "        }    #T_45158808_8a94_11ea_af80_0242ac110002row8_col10 {\n",
       "            background-color:  #c7d7f0;\n",
       "            color:  #000000;\n",
       "        }    #T_45158808_8a94_11ea_af80_0242ac110002row9_col0 {\n",
       "            background-color:  #6384eb;\n",
       "            color:  #000000;\n",
       "        }    #T_45158808_8a94_11ea_af80_0242ac110002row9_col1 {\n",
       "            background-color:  #779af7;\n",
       "            color:  #000000;\n",
       "        }    #T_45158808_8a94_11ea_af80_0242ac110002row9_col2 {\n",
       "            background-color:  #8badfd;\n",
       "            color:  #000000;\n",
       "        }    #T_45158808_8a94_11ea_af80_0242ac110002row9_col3 {\n",
       "            background-color:  #9bbcff;\n",
       "            color:  #000000;\n",
       "        }    #T_45158808_8a94_11ea_af80_0242ac110002row9_col4 {\n",
       "            background-color:  #6a8bef;\n",
       "            color:  #000000;\n",
       "        }    #T_45158808_8a94_11ea_af80_0242ac110002row9_col5 {\n",
       "            background-color:  #aec9fc;\n",
       "            color:  #000000;\n",
       "        }    #T_45158808_8a94_11ea_af80_0242ac110002row9_col6 {\n",
       "            background-color:  #6384eb;\n",
       "            color:  #000000;\n",
       "        }    #T_45158808_8a94_11ea_af80_0242ac110002row9_col7 {\n",
       "            background-color:  #465ecf;\n",
       "            color:  #f1f1f1;\n",
       "        }    #T_45158808_8a94_11ea_af80_0242ac110002row9_col8 {\n",
       "            background-color:  #7ea1fa;\n",
       "            color:  #000000;\n",
       "        }    #T_45158808_8a94_11ea_af80_0242ac110002row9_col9 {\n",
       "            background-color:  #b40426;\n",
       "            color:  #f1f1f1;\n",
       "        }    #T_45158808_8a94_11ea_af80_0242ac110002row9_col10 {\n",
       "            background-color:  #f7a688;\n",
       "            color:  #000000;\n",
       "        }    #T_45158808_8a94_11ea_af80_0242ac110002row10_col0 {\n",
       "            background-color:  #4961d2;\n",
       "            color:  #f1f1f1;\n",
       "        }    #T_45158808_8a94_11ea_af80_0242ac110002row10_col1 {\n",
       "            background-color:  #4f69d9;\n",
       "            color:  #000000;\n",
       "        }    #T_45158808_8a94_11ea_af80_0242ac110002row10_col2 {\n",
       "            background-color:  #ccd9ed;\n",
       "            color:  #000000;\n",
       "        }    #T_45158808_8a94_11ea_af80_0242ac110002row10_col3 {\n",
       "            background-color:  #b9d0f9;\n",
       "            color:  #000000;\n",
       "        }    #T_45158808_8a94_11ea_af80_0242ac110002row10_col4 {\n",
       "            background-color:  #d7dce3;\n",
       "            color:  #000000;\n",
       "        }    #T_45158808_8a94_11ea_af80_0242ac110002row10_col5 {\n",
       "            background-color:  #c9d7f0;\n",
       "            color:  #000000;\n",
       "        }    #T_45158808_8a94_11ea_af80_0242ac110002row10_col6 {\n",
       "            background-color:  #6788ee;\n",
       "            color:  #000000;\n",
       "        }    #T_45158808_8a94_11ea_af80_0242ac110002row10_col7 {\n",
       "            background-color:  #5673e0;\n",
       "            color:  #000000;\n",
       "        }    #T_45158808_8a94_11ea_af80_0242ac110002row10_col8 {\n",
       "            background-color:  #d1dae9;\n",
       "            color:  #000000;\n",
       "        }    #T_45158808_8a94_11ea_af80_0242ac110002row10_col9 {\n",
       "            background-color:  #f6a385;\n",
       "            color:  #000000;\n",
       "        }    #T_45158808_8a94_11ea_af80_0242ac110002row10_col10 {\n",
       "            background-color:  #b40426;\n",
       "            color:  #f1f1f1;\n",
       "        }</style><table id=\"T_45158808_8a94_11ea_af80_0242ac110002\" ><thead>    <tr>        <th class=\"blank level0\" ></th>        <th class=\"col_heading level0 col0\" >Z0</th>        <th class=\"col_heading level0 col1\" >Z1</th>        <th class=\"col_heading level0 col2\" >W0</th>        <th class=\"col_heading level0 col3\" >W1</th>        <th class=\"col_heading level0 col4\" >W2</th>        <th class=\"col_heading level0 col5\" >W3</th>        <th class=\"col_heading level0 col6\" >W4</th>        <th class=\"col_heading level0 col7\" >W5</th>        <th class=\"col_heading level0 col8\" >W6</th>        <th class=\"col_heading level0 col9\" >v0</th>        <th class=\"col_heading level0 col10\" >y</th>    </tr></thead><tbody>\n",
       "                <tr>\n",
       "                        <th id=\"T_45158808_8a94_11ea_af80_0242ac110002level0_row0\" class=\"row_heading level0 row0\" >Z0</th>\n",
       "                        <td id=\"T_45158808_8a94_11ea_af80_0242ac110002row0_col0\" class=\"data row0 col0\" >1.000000</td>\n",
       "                        <td id=\"T_45158808_8a94_11ea_af80_0242ac110002row0_col1\" class=\"data row0 col1\" >-0.003474</td>\n",
       "                        <td id=\"T_45158808_8a94_11ea_af80_0242ac110002row0_col2\" class=\"data row0 col2\" >0.004692</td>\n",
       "                        <td id=\"T_45158808_8a94_11ea_af80_0242ac110002row0_col3\" class=\"data row0 col3\" >-0.008744</td>\n",
       "                        <td id=\"T_45158808_8a94_11ea_af80_0242ac110002row0_col4\" class=\"data row0 col4\" >-0.001317</td>\n",
       "                        <td id=\"T_45158808_8a94_11ea_af80_0242ac110002row0_col5\" class=\"data row0 col5\" >0.019349</td>\n",
       "                        <td id=\"T_45158808_8a94_11ea_af80_0242ac110002row0_col6\" class=\"data row0 col6\" >0.010759</td>\n",
       "                        <td id=\"T_45158808_8a94_11ea_af80_0242ac110002row0_col7\" class=\"data row0 col7\" >-0.002620</td>\n",
       "                        <td id=\"T_45158808_8a94_11ea_af80_0242ac110002row0_col8\" class=\"data row0 col8\" >-0.014624</td>\n",
       "                        <td id=\"T_45158808_8a94_11ea_af80_0242ac110002row0_col9\" class=\"data row0 col9\" >0.116480</td>\n",
       "                        <td id=\"T_45158808_8a94_11ea_af80_0242ac110002row0_col10\" class=\"data row0 col10\" >0.036431</td>\n",
       "            </tr>\n",
       "            <tr>\n",
       "                        <th id=\"T_45158808_8a94_11ea_af80_0242ac110002level0_row1\" class=\"row_heading level0 row1\" >Z1</th>\n",
       "                        <td id=\"T_45158808_8a94_11ea_af80_0242ac110002row1_col0\" class=\"data row1 col0\" >-0.003474</td>\n",
       "                        <td id=\"T_45158808_8a94_11ea_af80_0242ac110002row1_col1\" class=\"data row1 col1\" >1.000000</td>\n",
       "                        <td id=\"T_45158808_8a94_11ea_af80_0242ac110002row1_col2\" class=\"data row1 col2\" >-0.013192</td>\n",
       "                        <td id=\"T_45158808_8a94_11ea_af80_0242ac110002row1_col3\" class=\"data row1 col3\" >0.010211</td>\n",
       "                        <td id=\"T_45158808_8a94_11ea_af80_0242ac110002row1_col4\" class=\"data row1 col4\" >-0.005826</td>\n",
       "                        <td id=\"T_45158808_8a94_11ea_af80_0242ac110002row1_col5\" class=\"data row1 col5\" >0.012934</td>\n",
       "                        <td id=\"T_45158808_8a94_11ea_af80_0242ac110002row1_col6\" class=\"data row1 col6\" >-0.012082</td>\n",
       "                        <td id=\"T_45158808_8a94_11ea_af80_0242ac110002row1_col7\" class=\"data row1 col7\" >0.007227</td>\n",
       "                        <td id=\"T_45158808_8a94_11ea_af80_0242ac110002row1_col8\" class=\"data row1 col8\" >-0.002144</td>\n",
       "                        <td id=\"T_45158808_8a94_11ea_af80_0242ac110002row1_col9\" class=\"data row1 col9\" >0.179670</td>\n",
       "                        <td id=\"T_45158808_8a94_11ea_af80_0242ac110002row1_col10\" class=\"data row1 col10\" >0.054703</td>\n",
       "            </tr>\n",
       "            <tr>\n",
       "                        <th id=\"T_45158808_8a94_11ea_af80_0242ac110002level0_row2\" class=\"row_heading level0 row2\" >W0</th>\n",
       "                        <td id=\"T_45158808_8a94_11ea_af80_0242ac110002row2_col0\" class=\"data row2 col0\" >0.004692</td>\n",
       "                        <td id=\"T_45158808_8a94_11ea_af80_0242ac110002row2_col1\" class=\"data row2 col1\" >-0.013192</td>\n",
       "                        <td id=\"T_45158808_8a94_11ea_af80_0242ac110002row2_col2\" class=\"data row2 col2\" >1.000000</td>\n",
       "                        <td id=\"T_45158808_8a94_11ea_af80_0242ac110002row2_col3\" class=\"data row2 col3\" >0.001849</td>\n",
       "                        <td id=\"T_45158808_8a94_11ea_af80_0242ac110002row2_col4\" class=\"data row2 col4\" >0.005633</td>\n",
       "                        <td id=\"T_45158808_8a94_11ea_af80_0242ac110002row2_col5\" class=\"data row2 col5\" >-0.001520</td>\n",
       "                        <td id=\"T_45158808_8a94_11ea_af80_0242ac110002row2_col6\" class=\"data row2 col6\" >-0.000566</td>\n",
       "                        <td id=\"T_45158808_8a94_11ea_af80_0242ac110002row2_col7\" class=\"data row2 col7\" >0.000170</td>\n",
       "                        <td id=\"T_45158808_8a94_11ea_af80_0242ac110002row2_col8\" class=\"data row2 col8\" >0.012067</td>\n",
       "                        <td id=\"T_45158808_8a94_11ea_af80_0242ac110002row2_col9\" class=\"data row2 col9\" >0.235398</td>\n",
       "                        <td id=\"T_45158808_8a94_11ea_af80_0242ac110002row2_col10\" class=\"data row2 col10\" >0.431424</td>\n",
       "            </tr>\n",
       "            <tr>\n",
       "                        <th id=\"T_45158808_8a94_11ea_af80_0242ac110002level0_row3\" class=\"row_heading level0 row3\" >W1</th>\n",
       "                        <td id=\"T_45158808_8a94_11ea_af80_0242ac110002row3_col0\" class=\"data row3 col0\" >-0.008744</td>\n",
       "                        <td id=\"T_45158808_8a94_11ea_af80_0242ac110002row3_col1\" class=\"data row3 col1\" >0.010211</td>\n",
       "                        <td id=\"T_45158808_8a94_11ea_af80_0242ac110002row3_col2\" class=\"data row3 col2\" >0.001849</td>\n",
       "                        <td id=\"T_45158808_8a94_11ea_af80_0242ac110002row3_col3\" class=\"data row3 col3\" >1.000000</td>\n",
       "                        <td id=\"T_45158808_8a94_11ea_af80_0242ac110002row3_col4\" class=\"data row3 col4\" >-0.007414</td>\n",
       "                        <td id=\"T_45158808_8a94_11ea_af80_0242ac110002row3_col5\" class=\"data row3 col5\" >0.003341</td>\n",
       "                        <td id=\"T_45158808_8a94_11ea_af80_0242ac110002row3_col6\" class=\"data row3 col6\" >-0.011598</td>\n",
       "                        <td id=\"T_45158808_8a94_11ea_af80_0242ac110002row3_col7\" class=\"data row3 col7\" >0.011372</td>\n",
       "                        <td id=\"T_45158808_8a94_11ea_af80_0242ac110002row3_col8\" class=\"data row3 col8\" >-0.005309</td>\n",
       "                        <td id=\"T_45158808_8a94_11ea_af80_0242ac110002row3_col9\" class=\"data row3 col9\" >0.283194</td>\n",
       "                        <td id=\"T_45158808_8a94_11ea_af80_0242ac110002row3_col10\" class=\"data row3 col10\" >0.368746</td>\n",
       "            </tr>\n",
       "            <tr>\n",
       "                        <th id=\"T_45158808_8a94_11ea_af80_0242ac110002level0_row4\" class=\"row_heading level0 row4\" >W2</th>\n",
       "                        <td id=\"T_45158808_8a94_11ea_af80_0242ac110002row4_col0\" class=\"data row4 col0\" >-0.001317</td>\n",
       "                        <td id=\"T_45158808_8a94_11ea_af80_0242ac110002row4_col1\" class=\"data row4 col1\" >-0.005826</td>\n",
       "                        <td id=\"T_45158808_8a94_11ea_af80_0242ac110002row4_col2\" class=\"data row4 col2\" >0.005633</td>\n",
       "                        <td id=\"T_45158808_8a94_11ea_af80_0242ac110002row4_col3\" class=\"data row4 col3\" >-0.007414</td>\n",
       "                        <td id=\"T_45158808_8a94_11ea_af80_0242ac110002row4_col4\" class=\"data row4 col4\" >1.000000</td>\n",
       "                        <td id=\"T_45158808_8a94_11ea_af80_0242ac110002row4_col5\" class=\"data row4 col5\" >0.018542</td>\n",
       "                        <td id=\"T_45158808_8a94_11ea_af80_0242ac110002row4_col6\" class=\"data row4 col6\" >0.003768</td>\n",
       "                        <td id=\"T_45158808_8a94_11ea_af80_0242ac110002row4_col7\" class=\"data row4 col7\" >0.004818</td>\n",
       "                        <td id=\"T_45158808_8a94_11ea_af80_0242ac110002row4_col8\" class=\"data row4 col8\" >0.000273</td>\n",
       "                        <td id=\"T_45158808_8a94_11ea_af80_0242ac110002row4_col9\" class=\"data row4 col9\" >0.143639</td>\n",
       "                        <td id=\"T_45158808_8a94_11ea_af80_0242ac110002row4_col10\" class=\"data row4 col10\" >0.474139</td>\n",
       "            </tr>\n",
       "            <tr>\n",
       "                        <th id=\"T_45158808_8a94_11ea_af80_0242ac110002level0_row5\" class=\"row_heading level0 row5\" >W3</th>\n",
       "                        <td id=\"T_45158808_8a94_11ea_af80_0242ac110002row5_col0\" class=\"data row5 col0\" >0.019349</td>\n",
       "                        <td id=\"T_45158808_8a94_11ea_af80_0242ac110002row5_col1\" class=\"data row5 col1\" >0.012934</td>\n",
       "                        <td id=\"T_45158808_8a94_11ea_af80_0242ac110002row5_col2\" class=\"data row5 col2\" >-0.001520</td>\n",
       "                        <td id=\"T_45158808_8a94_11ea_af80_0242ac110002row5_col3\" class=\"data row5 col3\" >0.003341</td>\n",
       "                        <td id=\"T_45158808_8a94_11ea_af80_0242ac110002row5_col4\" class=\"data row5 col4\" >0.018542</td>\n",
       "                        <td id=\"T_45158808_8a94_11ea_af80_0242ac110002row5_col5\" class=\"data row5 col5\" >1.000000</td>\n",
       "                        <td id=\"T_45158808_8a94_11ea_af80_0242ac110002row5_col6\" class=\"data row5 col6\" >0.001892</td>\n",
       "                        <td id=\"T_45158808_8a94_11ea_af80_0242ac110002row5_col7\" class=\"data row5 col7\" >-0.031073</td>\n",
       "                        <td id=\"T_45158808_8a94_11ea_af80_0242ac110002row5_col8\" class=\"data row5 col8\" >-0.014658</td>\n",
       "                        <td id=\"T_45158808_8a94_11ea_af80_0242ac110002row5_col9\" class=\"data row5 col9\" >0.324344</td>\n",
       "                        <td id=\"T_45158808_8a94_11ea_af80_0242ac110002row5_col10\" class=\"data row5 col10\" >0.411199</td>\n",
       "            </tr>\n",
       "            <tr>\n",
       "                        <th id=\"T_45158808_8a94_11ea_af80_0242ac110002level0_row6\" class=\"row_heading level0 row6\" >W4</th>\n",
       "                        <td id=\"T_45158808_8a94_11ea_af80_0242ac110002row6_col0\" class=\"data row6 col0\" >0.010759</td>\n",
       "                        <td id=\"T_45158808_8a94_11ea_af80_0242ac110002row6_col1\" class=\"data row6 col1\" >-0.012082</td>\n",
       "                        <td id=\"T_45158808_8a94_11ea_af80_0242ac110002row6_col2\" class=\"data row6 col2\" >-0.000566</td>\n",
       "                        <td id=\"T_45158808_8a94_11ea_af80_0242ac110002row6_col3\" class=\"data row6 col3\" >-0.011598</td>\n",
       "                        <td id=\"T_45158808_8a94_11ea_af80_0242ac110002row6_col4\" class=\"data row6 col4\" >0.003768</td>\n",
       "                        <td id=\"T_45158808_8a94_11ea_af80_0242ac110002row6_col5\" class=\"data row6 col5\" >0.001892</td>\n",
       "                        <td id=\"T_45158808_8a94_11ea_af80_0242ac110002row6_col6\" class=\"data row6 col6\" >1.000000</td>\n",
       "                        <td id=\"T_45158808_8a94_11ea_af80_0242ac110002row6_col7\" class=\"data row6 col7\" >0.008798</td>\n",
       "                        <td id=\"T_45158808_8a94_11ea_af80_0242ac110002row6_col8\" class=\"data row6 col8\" >-0.007056</td>\n",
       "                        <td id=\"T_45158808_8a94_11ea_af80_0242ac110002row6_col9\" class=\"data row6 col9\" >0.119366</td>\n",
       "                        <td id=\"T_45158808_8a94_11ea_af80_0242ac110002row6_col10\" class=\"data row6 col10\" >0.130910</td>\n",
       "            </tr>\n",
       "            <tr>\n",
       "                        <th id=\"T_45158808_8a94_11ea_af80_0242ac110002level0_row7\" class=\"row_heading level0 row7\" >W5</th>\n",
       "                        <td id=\"T_45158808_8a94_11ea_af80_0242ac110002row7_col0\" class=\"data row7 col0\" >-0.002620</td>\n",
       "                        <td id=\"T_45158808_8a94_11ea_af80_0242ac110002row7_col1\" class=\"data row7 col1\" >0.007227</td>\n",
       "                        <td id=\"T_45158808_8a94_11ea_af80_0242ac110002row7_col2\" class=\"data row7 col2\" >0.000170</td>\n",
       "                        <td id=\"T_45158808_8a94_11ea_af80_0242ac110002row7_col3\" class=\"data row7 col3\" >0.011372</td>\n",
       "                        <td id=\"T_45158808_8a94_11ea_af80_0242ac110002row7_col4\" class=\"data row7 col4\" >0.004818</td>\n",
       "                        <td id=\"T_45158808_8a94_11ea_af80_0242ac110002row7_col5\" class=\"data row7 col5\" >-0.031073</td>\n",
       "                        <td id=\"T_45158808_8a94_11ea_af80_0242ac110002row7_col6\" class=\"data row7 col6\" >0.008798</td>\n",
       "                        <td id=\"T_45158808_8a94_11ea_af80_0242ac110002row7_col7\" class=\"data row7 col7\" >1.000000</td>\n",
       "                        <td id=\"T_45158808_8a94_11ea_af80_0242ac110002row7_col8\" class=\"data row7 col8\" >0.014038</td>\n",
       "                        <td id=\"T_45158808_8a94_11ea_af80_0242ac110002row7_col9\" class=\"data row7 col9\" >0.010358</td>\n",
       "                        <td id=\"T_45158808_8a94_11ea_af80_0242ac110002row7_col10\" class=\"data row7 col10\" >0.064482</td>\n",
       "            </tr>\n",
       "            <tr>\n",
       "                        <th id=\"T_45158808_8a94_11ea_af80_0242ac110002level0_row8\" class=\"row_heading level0 row8\" >W6</th>\n",
       "                        <td id=\"T_45158808_8a94_11ea_af80_0242ac110002row8_col0\" class=\"data row8 col0\" >-0.014624</td>\n",
       "                        <td id=\"T_45158808_8a94_11ea_af80_0242ac110002row8_col1\" class=\"data row8 col1\" >-0.002144</td>\n",
       "                        <td id=\"T_45158808_8a94_11ea_af80_0242ac110002row8_col2\" class=\"data row8 col2\" >0.012067</td>\n",
       "                        <td id=\"T_45158808_8a94_11ea_af80_0242ac110002row8_col3\" class=\"data row8 col3\" >-0.005309</td>\n",
       "                        <td id=\"T_45158808_8a94_11ea_af80_0242ac110002row8_col4\" class=\"data row8 col4\" >0.000273</td>\n",
       "                        <td id=\"T_45158808_8a94_11ea_af80_0242ac110002row8_col5\" class=\"data row8 col5\" >-0.014658</td>\n",
       "                        <td id=\"T_45158808_8a94_11ea_af80_0242ac110002row8_col6\" class=\"data row8 col6\" >-0.007056</td>\n",
       "                        <td id=\"T_45158808_8a94_11ea_af80_0242ac110002row8_col7\" class=\"data row8 col7\" >0.014038</td>\n",
       "                        <td id=\"T_45158808_8a94_11ea_af80_0242ac110002row8_col8\" class=\"data row8 col8\" >1.000000</td>\n",
       "                        <td id=\"T_45158808_8a94_11ea_af80_0242ac110002row8_col9\" class=\"data row8 col9\" >0.198516</td>\n",
       "                        <td id=\"T_45158808_8a94_11ea_af80_0242ac110002row8_col10\" class=\"data row8 col10\" >0.446489</td>\n",
       "            </tr>\n",
       "            <tr>\n",
       "                        <th id=\"T_45158808_8a94_11ea_af80_0242ac110002level0_row9\" class=\"row_heading level0 row9\" >v0</th>\n",
       "                        <td id=\"T_45158808_8a94_11ea_af80_0242ac110002row9_col0\" class=\"data row9 col0\" >0.116480</td>\n",
       "                        <td id=\"T_45158808_8a94_11ea_af80_0242ac110002row9_col1\" class=\"data row9 col1\" >0.179670</td>\n",
       "                        <td id=\"T_45158808_8a94_11ea_af80_0242ac110002row9_col2\" class=\"data row9 col2\" >0.235398</td>\n",
       "                        <td id=\"T_45158808_8a94_11ea_af80_0242ac110002row9_col3\" class=\"data row9 col3\" >0.283194</td>\n",
       "                        <td id=\"T_45158808_8a94_11ea_af80_0242ac110002row9_col4\" class=\"data row9 col4\" >0.143639</td>\n",
       "                        <td id=\"T_45158808_8a94_11ea_af80_0242ac110002row9_col5\" class=\"data row9 col5\" >0.324344</td>\n",
       "                        <td id=\"T_45158808_8a94_11ea_af80_0242ac110002row9_col6\" class=\"data row9 col6\" >0.119366</td>\n",
       "                        <td id=\"T_45158808_8a94_11ea_af80_0242ac110002row9_col7\" class=\"data row9 col7\" >0.010358</td>\n",
       "                        <td id=\"T_45158808_8a94_11ea_af80_0242ac110002row9_col8\" class=\"data row9 col8\" >0.198516</td>\n",
       "                        <td id=\"T_45158808_8a94_11ea_af80_0242ac110002row9_col9\" class=\"data row9 col9\" >1.000000</td>\n",
       "                        <td id=\"T_45158808_8a94_11ea_af80_0242ac110002row9_col10\" class=\"data row9 col10\" >0.726573</td>\n",
       "            </tr>\n",
       "            <tr>\n",
       "                        <th id=\"T_45158808_8a94_11ea_af80_0242ac110002level0_row10\" class=\"row_heading level0 row10\" >y</th>\n",
       "                        <td id=\"T_45158808_8a94_11ea_af80_0242ac110002row10_col0\" class=\"data row10 col0\" >0.036431</td>\n",
       "                        <td id=\"T_45158808_8a94_11ea_af80_0242ac110002row10_col1\" class=\"data row10 col1\" >0.054703</td>\n",
       "                        <td id=\"T_45158808_8a94_11ea_af80_0242ac110002row10_col2\" class=\"data row10 col2\" >0.431424</td>\n",
       "                        <td id=\"T_45158808_8a94_11ea_af80_0242ac110002row10_col3\" class=\"data row10 col3\" >0.368746</td>\n",
       "                        <td id=\"T_45158808_8a94_11ea_af80_0242ac110002row10_col4\" class=\"data row10 col4\" >0.474139</td>\n",
       "                        <td id=\"T_45158808_8a94_11ea_af80_0242ac110002row10_col5\" class=\"data row10 col5\" >0.411199</td>\n",
       "                        <td id=\"T_45158808_8a94_11ea_af80_0242ac110002row10_col6\" class=\"data row10 col6\" >0.130910</td>\n",
       "                        <td id=\"T_45158808_8a94_11ea_af80_0242ac110002row10_col7\" class=\"data row10 col7\" >0.064482</td>\n",
       "                        <td id=\"T_45158808_8a94_11ea_af80_0242ac110002row10_col8\" class=\"data row10 col8\" >0.446489</td>\n",
       "                        <td id=\"T_45158808_8a94_11ea_af80_0242ac110002row10_col9\" class=\"data row10 col9\" >0.726573</td>\n",
       "                        <td id=\"T_45158808_8a94_11ea_af80_0242ac110002row10_col10\" class=\"data row10 col10\" >1.000000</td>\n",
       "            </tr>\n",
       "    </tbody></table>"
      ],
      "text/plain": [
       "<pandas.io.formats.style.Styler at 0x7f52b8315350>"
      ]
     },
     "execution_count": 5,
     "metadata": {},
     "output_type": "execute_result"
    }
   ],
   "source": [
    "# Unbeliavable to check how corr changes nothing with the treatment having or not causal impact \n",
    "corr = df.corr()\n",
    "corr.style.background_gradient(cmap='coolwarm')"
   ]
  },
  {
   "cell_type": "code",
   "execution_count": 6,
   "metadata": {},
   "outputs": [
    {
     "data": {
      "text/plain": [
       "<matplotlib.axes._subplots.AxesSubplot at 0x7f5280d23790>"
      ]
     },
     "execution_count": 6,
     "metadata": {},
     "output_type": "execute_result"
    },
    {
     "data": {
      "image/png": "[encoded data removed]",
      "text/plain": [
       "<Figure size 432x288 with 1 Axes>"
      ]
     },
     "metadata": {
      "needs_background": "light"
     },
     "output_type": "display_data"
    }
   ],
   "source": [
    "sns.barplot(data=df, x='v0', y='y')"
   ]
  },
  {
   "cell_type": "code",
   "execution_count": 7,
   "metadata": {},
   "outputs": [],
   "source": [
    "#cofounders_y = [col for col in df.columns if 'W' in col or 'y'in col]\n",
    "#sns.pairplot(df[cofounders_y])"
   ]
  },
  {
   "cell_type": "markdown",
   "metadata": {},
   "source": [
    "## Causal Framework"
   ]
  },
  {
   "cell_type": "markdown",
   "metadata": {},
   "source": [
    "### **Model** Phase - input the \"graph\""
   ]
  },
  {
   "cell_type": "markdown",
   "metadata": {},
   "source": [
    "We now input a causal graph in the GML graph format (recommended). You can also use the DOT format."
   ]
  },
  {
   "cell_type": "code",
   "execution_count": 8,
   "metadata": {},
   "outputs": [
    {
     "name": "stderr",
     "output_type": "stream",
     "text": [
      "WARNING:dowhy.causal_model:Causal Graph not provided. DoWhy will construct a graph based on data inputs.\n",
      "INFO:dowhy.causal_graph:If this is observed data (not from a randomized experiment), there might always be missing confounders. Adding a node named \"Unobserved Confounders\" to reflect this.\n",
      "INFO:dowhy.causal_model:Model to find the causal effect of treatment ['v0'] on outcome ['y']\n"
     ]
    }
   ],
   "source": [
    "# With graph\n",
    "model=CausalModel(\n",
    "    data = df,\n",
    "    treatment=data[\"treatment_name\"],\n",
    "    outcome=data[\"outcome_name\"],\n",
    "    common_causes=data[\"common_causes_names\"], # both works the same, but the first is based on a previous graph\n",
    "    instruments=data[\"instrument_names\"],\n",
    "    logging_level = logging.INFO # not 100% of its funcionality, but I suppose it serves to gain efficiency\n",
    ")"
   ]
  },
  {
   "cell_type": "code",
   "execution_count": 18,
   "metadata": {},
   "outputs": [
    {
     "name": "stderr",
     "output_type": "stream",
     "text": [
      "WARNING:dowhy.causal_graph:Warning: Pygraphviz cannot be loaded. Check that graphviz and pygraphviz are installed.\n",
      "INFO:dowhy.causal_graph:Using Matplotlib for plotting\n"
     ]
    },
    {
     "data": {
      "image/png": "[encoded data removed]",
      "text/plain": [
       "<Figure size 432x288 with 1 Axes>"
      ]
     },
     "metadata": {},
     "output_type": "display_data"
    }
   ],
   "source": [
    "model.view_model()"
   ]
  },
  {
   "cell_type": "code",
   "execution_count": 20,
   "metadata": {
    "scrolled": true
   },
   "outputs": [],
   "source": [
    "#from IPython.display import Image, display\n",
    "#display(Image(filename=\"causal_model.png\"))"
   ]
  },
  {
   "cell_type": "markdown",
   "metadata": {},
   "source": [
    "The above causal graph shows the assumptions encoded in the causal model. We can now use this graph to first identify \n",
    "the causal effect (go from a causal estimand to a probability expression), and then estimate the causal effect."
   ]
  },
  {
   "cell_type": "markdown",
   "metadata": {},
   "source": [
    "**DoWhy philosophy: Keep identification and estimation separate**\n",
    "\n",
    "Identification can be achieved without access to the data, acccesing only the graph. This results in an expression to be computed. This expression can then be evaluated using the available data in the estimation step.\n",
    "It is important to understand that these are orthogonal steps."
   ]
  },
  {
   "cell_type": "markdown",
   "metadata": {},
   "source": [
    "### Identification Phase"
   ]
  },
  {
   "cell_type": "code",
   "execution_count": 9,
   "metadata": {},
   "outputs": [
    {
     "name": "stderr",
     "output_type": "stream",
     "text": [
      "INFO:dowhy.causal_identifier:Common causes of treatment and outcome:['W6', 'W2', 'W1', 'U', 'W4', 'W5', 'W3', 'W0']\n",
      "WARNING:dowhy.causal_identifier:If this is observed data (not from a randomized experiment), there might always be missing confounders. Causal effect cannot be identified perfectly.\n",
      "INFO:dowhy.causal_identifier:Continuing by ignoring these unobserved confounders because proceed_when_unidentifiable flag is True.\n",
      "INFO:dowhy.causal_identifier:Instrumental variables for treatment and outcome:['Z0', 'Z1']\n"
     ]
    },
    {
     "name": "stdout",
     "output_type": "stream",
     "text": [
      "Estimand type: nonparametric-ate\n",
      "### Estimand : 1\n",
      "Estimand name: backdoor\n",
      "Estimand expression:\n",
      "  d                                       \n",
      "─────(Expectation(y|W6,W2,W1,W4,W5,W3,W0))\n",
      "d[v₀]                                     \n",
      "Estimand assumption 1, Unconfoundedness: If U→{v0} and U→y then P(y|v0,W6,W2,W1,W4,W5,W3,W0,U) = P(y|v0,W6,W2,W1,W4,W5,W3,W0)\n",
      "### Estimand : 2\n",
      "Estimand name: iv\n",
      "Estimand expression:\n",
      "Expectation(Derivative(y, [Z0, Z1])*Derivative([v0], [Z0, Z1])**(-1))\n",
      "Estimand assumption 1, As-if-random: If U→→y then ¬(U →→{Z0,Z1})\n",
      "Estimand assumption 2, Exclusion: If we remove {Z0,Z1}→{v0}, then ¬({Z0,Z1}→y)\n",
      "\n"
     ]
    }
   ],
   "source": [
    "identified_estimand = model.identify_effect(proceed_when_unidentifiable=True)\n",
    "print(identified_estimand)"
   ]
  },
  {
   "cell_type": "markdown",
   "metadata": {},
   "source": [
    "### Estimation Phase"
   ]
  },
  {
   "cell_type": "markdown",
   "metadata": {},
   "source": [
    "Fundamentally, test at least two different methods to have more confidence on the effect. Here, we'll examine ass built-in methods inside DoWhy"
   ]
  },
  {
   "cell_type": "markdown",
   "metadata": {},
   "source": [
    "* Linear Regression"
   ]
  },
  {
   "cell_type": "markdown",
   "metadata": {},
   "source": [
    "Brief Explanation of T's and B's "
   ]
  },
  {
   "cell_type": "code",
   "execution_count": 22,
   "metadata": {},
   "outputs": [
    {
     "name": "stderr",
     "output_type": "stream",
     "text": [
      "INFO:dowhy.causal_estimator:INFO: Using Linear Regression Estimator\n",
      "INFO:dowhy.causal_estimator:b: y~v0+W5+W6+W0+W4+W2+W3+W1\n"
     ]
    },
    {
     "name": "stdout",
     "output_type": "stream",
     "text": [
      "*** Causal Estimate ***\n",
      "\n",
      "## Target estimand\n",
      "Estimand type: nonparametric-ate\n",
      "### Estimand : 1\n",
      "Estimand name: backdoor\n",
      "Estimand expression:\n",
      "  d                                       \n",
      "─────(Expectation(y|W5,W6,W0,W4,W2,W3,W1))\n",
      "d[v₀]                                     \n",
      "Estimand assumption 1, Unconfoundedness: If U→{v0} and U→y then P(y|v0,W5,W6,W0,W4,W2,W3,W1,U) = P(y|v0,W5,W6,W0,W4,W2,W3,W1)\n",
      "### Estimand : 2\n",
      "Estimand name: iv\n",
      "Estimand expression:\n",
      "Expectation(Derivative(y, [Z1, Z0])*Derivative([v0], [Z1, Z0])**(-1))\n",
      "Estimand assumption 1, As-if-random: If U→→y then ¬(U →→{Z1,Z0})\n",
      "Estimand assumption 2, Exclusion: If we remove {Z1,Z0}→{v0}, then ¬({Z1,Z0}→y)\n",
      "\n",
      "## Realized estimand\n",
      "b: y~v0+W5+W6+W0+W4+W2+W3+W1\n",
      "## Estimate\n",
      "Value: 10.000000000000002\n",
      "\n"
     ]
    }
   ],
   "source": [
    "causal_estimate = model.estimate_effect(identified_estimand,\n",
    "        method_name=\"backdoor.linear_regression\")\n",
    "print(causal_estimate)"
   ]
  },
  {
   "cell_type": "markdown",
   "metadata": {},
   "source": [
    "* Propensity-based Stratification"
   ]
  },
  {
   "cell_type": "markdown",
   "metadata": {},
   "source": [
    "Brief Explanation of T's and B's "
   ]
  },
  {
   "cell_type": "code",
   "execution_count": 25,
   "metadata": {},
   "outputs": [
    {
     "name": "stderr",
     "output_type": "stream",
     "text": [
      "INFO:dowhy.causal_estimator:INFO: Using Propensity Score Stratification Estimator\n",
      "INFO:dowhy.causal_estimator:b: y~v0+W5+W6+W0+W4+W2+W3+W1\n",
      "/opt/conda/lib/python3.7/site-packages/sklearn/utils/validation.py:760: DataConversionWarning: A column-vector y was passed when a 1d array was expected. Please change the shape of y to (n_samples, ), for example using ravel().\n",
      "  y = column_or_1d(y, warn=True)\n"
     ]
    },
    {
     "name": "stdout",
     "output_type": "stream",
     "text": [
      "*** Causal Estimate ***\n",
      "\n",
      "## Target estimand\n",
      "Estimand type: nonparametric-ate\n",
      "### Estimand : 1\n",
      "Estimand name: backdoor\n",
      "Estimand expression:\n",
      "  d                                       \n",
      "─────(Expectation(y|W5,W6,W0,W4,W2,W3,W1))\n",
      "d[v₀]                                     \n",
      "Estimand assumption 1, Unconfoundedness: If U→{v0} and U→y then P(y|v0,W5,W6,W0,W4,W2,W3,W1,U) = P(y|v0,W5,W6,W0,W4,W2,W3,W1)\n",
      "### Estimand : 2\n",
      "Estimand name: iv\n",
      "Estimand expression:\n",
      "Expectation(Derivative(y, [Z1, Z0])*Derivative([v0], [Z1, Z0])**(-1))\n",
      "Estimand assumption 1, As-if-random: If U→→y then ¬(U →→{Z1,Z0})\n",
      "Estimand assumption 2, Exclusion: If we remove {Z1,Z0}→{v0}, then ¬({Z1,Z0}→y)\n",
      "\n",
      "## Realized estimand\n",
      "b: y~v0+W5+W6+W0+W4+W2+W3+W1\n",
      "## Estimate\n",
      "Value: 10.081473093106588\n",
      "\n"
     ]
    }
   ],
   "source": [
    "causal_estimate = model.estimate_effect(\n",
    "    identified_estimand,method_name=\"backdoor.propensity_score_stratification\"\n",
    ")\n",
    "print(causal_estimate)"
   ]
  },
  {
   "cell_type": "markdown",
   "metadata": {},
   "source": [
    "* Propensity Score Matching"
   ]
  },
  {
   "cell_type": "markdown",
   "metadata": {},
   "source": [
    "Brief Explanation of T's and B's "
   ]
  },
  {
   "cell_type": "code",
   "execution_count": 19,
   "metadata": {},
   "outputs": [
    {
     "name": "stderr",
     "output_type": "stream",
     "text": [
      "INFO:dowhy.causal_estimator:INFO: Using Propensity Score Matching Estimator\n",
      "INFO:dowhy.causal_estimator:b: y~v0+W5+W6+W0+W4+W2+W3+W1\n",
      "/opt/conda/lib/python3.7/site-packages/sklearn/utils/validation.py:760: DataConversionWarning: A column-vector y was passed when a 1d array was expected. Please change the shape of y to (n_samples, ), for example using ravel().\n",
      "  y = column_or_1d(y, warn=True)\n"
     ]
    },
    {
     "name": "stdout",
     "output_type": "stream",
     "text": [
      "*** Causal Estimate ***\n",
      "\n",
      "## Target estimand\n",
      "Estimand type: nonparametric-ate\n",
      "### Estimand : 1\n",
      "Estimand name: backdoor\n",
      "Estimand expression:\n",
      "  d                                       \n",
      "─────(Expectation(y|W5,W6,W0,W4,W2,W3,W1))\n",
      "d[v₀]                                     \n",
      "Estimand assumption 1, Unconfoundedness: If U→{v0} and U→y then P(y|v0,W5,W6,W0,W4,W2,W3,W1,U) = P(y|v0,W5,W6,W0,W4,W2,W3,W1)\n",
      "### Estimand : 2\n",
      "Estimand name: iv\n",
      "Estimand expression:\n",
      "Expectation(Derivative(y, [Z1, Z0])*Derivative([v0], [Z1, Z0])**(-1))\n",
      "Estimand assumption 1, As-if-random: If U→→y then ¬(U →→{Z1,Z0})\n",
      "Estimand assumption 2, Exclusion: If we remove {Z1,Z0}→{v0}, then ¬({Z1,Z0}→y)\n",
      "\n",
      "## Realized estimand\n",
      "b: y~v0+W5+W6+W0+W4+W2+W3+W1\n",
      "## Estimate\n",
      "Value: 14.36293017656476\n",
      "\n"
     ]
    }
   ],
   "source": [
    "causal_estimate = model.estimate_effect(identified_estimand,\n",
    "        method_name=\"backdoor.propensity_score_matching\")\n",
    "print(causal_estimate)"
   ]
  },
  {
   "cell_type": "markdown",
   "metadata": {},
   "source": [
    "* Inverse Propensity Weighting"
   ]
  },
  {
   "cell_type": "markdown",
   "metadata": {},
   "source": [
    "Brief Explanation of T's and B's "
   ]
  },
  {
   "cell_type": "markdown",
   "metadata": {},
   "source": [
    "We will be using (inverse) propensity scores to assign weights to units in the data. DoWhy supports a few different weighting schemes:\n",
    "1. Vanilla Inverse Propensity Score weighting (IPS) (weighting_scheme=\"ips_weight\")\n",
    "2. Self-normalized IPS weighting (also known as the Hajek estimator) (weighting_scheme=\"ips_normalized_weight\")\n",
    "3. Stabilized IPS weighting (weighting_scheme = \"ips_stabilized_weight\")"
   ]
  },
  {
   "cell_type": "code",
   "execution_count": 24,
   "metadata": {},
   "outputs": [
    {
     "name": "stderr",
     "output_type": "stream",
     "text": [
      "INFO:dowhy.causal_estimator:INFO: Using Propensity Score Weighting Estimator\n",
      "INFO:dowhy.causal_estimator:b: y~v0+W5+W6+W0+W4+W2+W3+W1\n"
     ]
    },
    {
     "name": "stdout",
     "output_type": "stream",
     "text": [
      "*** Causal Estimate ***\n",
      "\n",
      "## Target estimand\n",
      "Estimand type: nonparametric-ate\n",
      "### Estimand : 1\n",
      "Estimand name: backdoor\n",
      "Estimand expression:\n",
      "  d                                       \n",
      "─────(Expectation(y|W5,W6,W0,W4,W2,W3,W1))\n",
      "d[v₀]                                     \n",
      "Estimand assumption 1, Unconfoundedness: If U→{v0} and U→y then P(y|v0,W5,W6,W0,W4,W2,W3,W1,U) = P(y|v0,W5,W6,W0,W4,W2,W3,W1)\n",
      "### Estimand : 2\n",
      "Estimand name: iv\n",
      "Estimand expression:\n",
      "Expectation(Derivative(y, [Z1, Z0])*Derivative([v0], [Z1, Z0])**(-1))\n",
      "Estimand assumption 1, As-if-random: If U→→y then ¬(U →→{Z1,Z0})\n",
      "Estimand assumption 2, Exclusion: If we remove {Z1,Z0}→{v0}, then ¬({Z1,Z0}→y)\n",
      "\n",
      "## Realized estimand\n",
      "b: y~v0+W5+W6+W0+W4+W2+W3+W1\n",
      "## Estimate\n",
      "Value: 14.975399894996706\n",
      "\n"
     ]
    },
    {
     "name": "stderr",
     "output_type": "stream",
     "text": [
      "/opt/conda/lib/python3.7/site-packages/sklearn/utils/validation.py:760: DataConversionWarning: A column-vector y was passed when a 1d array was expected. Please change the shape of y to (n_samples, ), for example using ravel().\n",
      "  y = column_or_1d(y, warn=True)\n"
     ]
    }
   ],
   "source": [
    "causal_estimate = model.estimate_effect(\n",
    "    identified_estimand,\n",
    "    method_name=\"backdoor.propensity_score_weighting\",\n",
    "    target_units = \"ate\",\n",
    "    method_params={\"weighting_scheme\":\"ips_normalized_weight\"}\n",
    ")\n",
    "print(causal_estimate)"
   ]
  },
  {
   "cell_type": "markdown",
   "metadata": {},
   "source": [
    "* Binary Instrument/Wald Estimator"
   ]
  },
  {
   "cell_type": "markdown",
   "metadata": {},
   "source": [
    "Brief Explanation of T's and B's "
   ]
  },
  {
   "cell_type": "code",
   "execution_count": 32,
   "metadata": {},
   "outputs": [
    {
     "name": "stderr",
     "output_type": "stream",
     "text": [
      "INFO:dowhy.causal_estimator:INFO: Using Instrumental Variable Estimator\n",
      "INFO:dowhy.causal_estimator:Realized estimand: Wald Estimator\n",
      "Realized estimand type: nonparametric-ate\n",
      "Estimand expression:\n",
      "                                                              -1\n",
      "Expectation(Derivative(y, Z0))⋅Expectation(Derivative(v0, Z0))  \n",
      "Estimand assumption 1, As-if-random: If U→→y then ¬(U →→{Z1,Z0})\n",
      "Estimand assumption 2, Exclusion: If we remove {Z1,Z0}→{v0}, then ¬({Z1,Z0}→y)\n",
      "Estimand assumption 3, treatment_effect_homogeneity: Each unit's treatment ['v0'] is affected in the same way by common causes of ['v0'] and y\n",
      "Estimand assumption 4, outcome_effect_homogeneity: Each unit's outcome y is affected in the same way by common causes of ['v0'] and y\n",
      "\n"
     ]
    },
    {
     "name": "stdout",
     "output_type": "stream",
     "text": [
      "*** Causal Estimate ***\n",
      "\n",
      "## Target estimand\n",
      "Estimand type: nonparametric-ate\n",
      "### Estimand : 1\n",
      "Estimand name: backdoor\n",
      "Estimand expression:\n",
      "  d                                       \n",
      "─────(Expectation(y|W5,W6,W0,W4,W2,W3,W1))\n",
      "d[v₀]                                     \n",
      "Estimand assumption 1, Unconfoundedness: If U→{v0} and U→y then P(y|v0,W5,W6,W0,W4,W2,W3,W1,U) = P(y|v0,W5,W6,W0,W4,W2,W3,W1)\n",
      "### Estimand : 2\n",
      "Estimand name: iv\n",
      "Estimand expression:\n",
      "Expectation(Derivative(y, [Z1, Z0])*Derivative([v0], [Z1, Z0])**(-1))\n",
      "Estimand assumption 1, As-if-random: If U→→y then ¬(U →→{Z1,Z0})\n",
      "Estimand assumption 2, Exclusion: If we remove {Z1,Z0}→{v0}, then ¬({Z1,Z0}→y)\n",
      "\n",
      "## Realized estimand\n",
      "Realized estimand: Wald Estimator\n",
      "Realized estimand type: nonparametric-ate\n",
      "Estimand expression:\n",
      "                                                              -1\n",
      "Expectation(Derivative(y, Z0))⋅Expectation(Derivative(v0, Z0))  \n",
      "Estimand assumption 1, As-if-random: If U→→y then ¬(U →→{Z1,Z0})\n",
      "Estimand assumption 2, Exclusion: If we remove {Z1,Z0}→{v0}, then ¬({Z1,Z0}→y)\n",
      "Estimand assumption 3, treatment_effect_homogeneity: Each unit's treatment ['v0'] is affected in the same way by common causes of ['v0'] and y\n",
      "Estimand assumption 4, outcome_effect_homogeneity: Each unit's outcome y is affected in the same way by common causes of ['v0'] and y\n",
      "\n",
      "## Estimate\n",
      "Value: 10.836616477552493\n",
      "\n"
     ]
    }
   ],
   "source": [
    "causal_estimate = model.estimate_effect(identified_estimand,\n",
    "        method_name=\"iv.instrumental_variable\", method_params = {'iv_instrument_name': ['Z0']})\n",
    "print(causal_estimate)"
   ]
  },
  {
   "cell_type": "markdown",
   "metadata": {},
   "source": [
    "* Regression Discontinuity"
   ]
  },
  {
   "cell_type": "markdown",
   "metadata": {},
   "source": [
    "(Worth to mention this design wouldn't be suited to this case) \n",
    "Brief Explanation of T's and B's "
   ]
  },
  {
   "cell_type": "code",
   "execution_count": 13,
   "metadata": {},
   "outputs": [
    {
     "name": "stderr",
     "output_type": "stream",
     "text": [
      "INFO:dowhy.causal_estimator:Using Regression Discontinuity Estimator\n",
      "INFO:dowhy.causal_estimator:\n",
      "INFO:dowhy.causal_estimator:INFO: Using Instrumental Variable Estimator\n",
      "INFO:dowhy.causal_estimator:Realized estimand: Wald Estimator\n",
      "Realized estimand type: nonparametric-ate\n",
      "Estimand expression:\n",
      "                                                                              \n",
      "Expectation(Derivative(y, local_rd_variable))⋅Expectation(Derivative(v0, local\n",
      "\n",
      "              -1\n",
      "_rd_variable))  \n",
      "Estimand assumption 1, As-if-random: If U→→y then ¬(U →→{Z0,Z1})\n",
      "Estimand assumption 2, Exclusion: If we remove {Z0,Z1}→{v0}, then ¬({Z0,Z1}→y)\n",
      "Estimand assumption 3, treatment_effect_homogeneity: Each unit's treatment ['local_treatment'] is affected in the same way by common causes of ['local_treatment'] and local_outcome\n",
      "Estimand assumption 4, outcome_effect_homogeneity: Each unit's outcome local_outcome is affected in the same way by common causes of ['local_treatment'] and local_outcome\n",
      "\n"
     ]
    },
    {
     "name": "stdout",
     "output_type": "stream",
     "text": [
      "      local_rd_variable  local_treatment  local_outcome\n",
      "1              0.535169             True      17.436801\n",
      "2              0.483765             True      16.652371\n",
      "11             0.421281            False     -17.889241\n",
      "12             0.485276             True      25.537603\n",
      "23             0.540971             True      15.464987\n",
      "...                 ...              ...            ...\n",
      "9981           0.403964             True      19.208300\n",
      "9983           0.516603             True      10.682060\n",
      "9991           0.529711             True       7.910158\n",
      "9995           0.409522            False      -3.999314\n",
      "9998           0.511553             True       8.873082\n",
      "\n",
      "[2110 rows x 3 columns]\n",
      "*** Causal Estimate ***\n",
      "\n",
      "## Target estimand\n",
      "Estimand type: nonparametric-ate\n",
      "### Estimand : 1\n",
      "Estimand name: backdoor\n",
      "Estimand expression:\n",
      "  d                                       \n",
      "─────(Expectation(y|W6,W2,W1,W4,W5,W3,W0))\n",
      "d[v₀]                                     \n",
      "Estimand assumption 1, Unconfoundedness: If U→{v0} and U→y then P(y|v0,W6,W2,W1,W4,W5,W3,W0,U) = P(y|v0,W6,W2,W1,W4,W5,W3,W0)\n",
      "### Estimand : 2\n",
      "Estimand name: iv\n",
      "Estimand expression:\n",
      "Expectation(Derivative(y, [Z0, Z1])*Derivative([v0], [Z0, Z1])**(-1))\n",
      "Estimand assumption 1, As-if-random: If U→→y then ¬(U →→{Z0,Z1})\n",
      "Estimand assumption 2, Exclusion: If we remove {Z0,Z1}→{v0}, then ¬({Z0,Z1}→y)\n",
      "\n",
      "## Realized estimand\n",
      "Realized estimand: Wald Estimator\n",
      "Realized estimand type: nonparametric-ate\n",
      "Estimand expression:\n",
      "                                                                              \n",
      "Expectation(Derivative(y, local_rd_variable))⋅Expectation(Derivative(v0, local\n",
      "\n",
      "              -1\n",
      "_rd_variable))  \n",
      "Estimand assumption 1, As-if-random: If U→→y then ¬(U →→{Z0,Z1})\n",
      "Estimand assumption 2, Exclusion: If we remove {Z0,Z1}→{v0}, then ¬({Z0,Z1}→y)\n",
      "Estimand assumption 3, treatment_effect_homogeneity: Each unit's treatment ['local_treatment'] is affected in the same way by common causes of ['local_treatment'] and local_outcome\n",
      "Estimand assumption 4, outcome_effect_homogeneity: Each unit's outcome local_outcome is affected in the same way by common causes of ['local_treatment'] and local_outcome\n",
      "\n",
      "## Estimate\n",
      "Value: 17.639666041948285\n",
      "\n"
     ]
    }
   ],
   "source": [
    "causal_estimate = model.estimate_effect(identified_estimand,\n",
    "        method_name=\"iv.regression_discontinuity\", \n",
    "        method_params={'rd_variable_name':'Z1',\n",
    "                       'rd_threshold_value':0.5,\n",
    "                       'rd_bandwidth': 0.1})\n",
    "print(causal_estimate)"
   ]
  },
  {
   "cell_type": "markdown",
   "metadata": {},
   "source": [
    "* Heterogeneous Treatment Estimation Support"
   ]
  },
  {
   "cell_type": "markdown",
   "metadata": {},
   "source": [
    "You can input additional parameters to the estimate_effect method. For instance, to estimate the effect on any subset of the units, you can specify the \"target_units\" parameter which can be a string (\"ate\", \"att\", or \"atc\"), lambda function that filters rows of the data frame, or a new dataframe on which to compute the effect. You can also specify \"effect modifiers\" to estimate heterogeneous effects across these variables. See `help(CausalModel.estimate_effect)`. "
   ]
  },
  {
   "cell_type": "code",
   "execution_count": 17,
   "metadata": {},
   "outputs": [
    {
     "name": "stderr",
     "output_type": "stream",
     "text": [
      "INFO:dowhy.causal_estimator:INFO: Using Propensity Score Stratification Estimator\n",
      "INFO:dowhy.causal_estimator:b: y~v0+W6+W2+W1+W4+W5+W3+W0\n",
      "/opt/conda/lib/python3.7/site-packages/sklearn/utils/validation.py:760: DataConversionWarning: A column-vector y was passed when a 1d array was expected. Please change the shape of y to (n_samples, ), for example using ravel().\n",
      "  y = column_or_1d(y, warn=True)\n"
     ]
    },
    {
     "name": "stdout",
     "output_type": "stream",
     "text": [
      "*** Causal Estimate ***\n",
      "\n",
      "## Target estimand\n",
      "Estimand type: nonparametric-ate\n",
      "### Estimand : 1\n",
      "Estimand name: backdoor\n",
      "Estimand expression:\n",
      "  d                                       \n",
      "─────(Expectation(y|W6,W2,W1,W4,W5,W3,W0))\n",
      "d[v₀]                                     \n",
      "Estimand assumption 1, Unconfoundedness: If U→{v0} and U→y then P(y|v0,W6,W2,W1,W4,W5,W3,W0,U) = P(y|v0,W6,W2,W1,W4,W5,W3,W0)\n",
      "### Estimand : 2\n",
      "Estimand name: iv\n",
      "Estimand expression:\n",
      "Expectation(Derivative(y, [Z0, Z1])*Derivative([v0], [Z0, Z1])**(-1))\n",
      "Estimand assumption 1, As-if-random: If U→→y then ¬(U →→{Z0,Z1})\n",
      "Estimand assumption 2, Exclusion: If we remove {Z0,Z1}→{v0}, then ¬({Z0,Z1}→y)\n",
      "\n",
      "## Realized estimand\n",
      "b: y~v0+W6+W2+W1+W4+W5+W3+W0\n",
      "## Estimate\n",
      "Value: 9.892627977171099\n",
      "\n"
     ]
    }
   ],
   "source": [
    "# Causal effect on the control group (ATC)\n",
    "causal_estimate_atc = model.estimate_effect(identified_estimand,\n",
    "        method_name=\"backdoor.propensity_score_stratification\",\n",
    "        target_units = \"atc\")\n",
    "print(causal_estimate_atc)"
   ]
  },
  {
   "cell_type": "markdown",
   "metadata": {},
   "source": [
    "## Refuting Phase"
   ]
  },
  {
   "cell_type": "markdown",
   "metadata": {},
   "source": [
    "We get the same causal graph. Now identification and estimation is done as before."
   ]
  },
  {
   "cell_type": "code",
   "execution_count": 22,
   "metadata": {},
   "outputs": [
    {
     "name": "stderr",
     "output_type": "stream",
     "text": [
      "INFO:dowhy.causal_estimator:INFO: Using Propensity Score Stratification Estimator\n",
      "INFO:dowhy.causal_estimator:b: y~v0+W6+W2+W1+W4+W5+W3+W0\n",
      "/opt/conda/lib/python3.7/site-packages/sklearn/utils/validation.py:760: DataConversionWarning: A column-vector y was passed when a 1d array was expected. Please change the shape of y to (n_samples, ), for example using ravel().\n",
      "  y = column_or_1d(y, warn=True)\n"
     ]
    },
    {
     "name": "stdout",
     "output_type": "stream",
     "text": [
      "Causal Estimate is 9.95224141351444\n"
     ]
    }
   ],
   "source": [
    "estimate_to_refute = model.estimate_effect(identified_estimand,\n",
    "                                 method_name=\"backdoor.propensity_score_stratification\")         \n",
    "print(\"Causal Estimate is \" + str(estimate_to_refute.value))"
   ]
  },
  {
   "cell_type": "markdown",
   "metadata": {},
   "source": [
    "### Adding a random common cause variable"
   ]
  },
  {
   "cell_type": "markdown",
   "metadata": {},
   "source": [
    "Add theoretical hypothesis behind this refuting technic"
   ]
  },
  {
   "cell_type": "code",
   "execution_count": 27,
   "metadata": {},
   "outputs": [
    {
     "name": "stderr",
     "output_type": "stream",
     "text": [
      "INFO:dowhy.causal_estimator:INFO: Using Propensity Score Stratification Estimator\n",
      "INFO:dowhy.causal_estimator:b: y~v0+W6+W2+W1+W4+W5+W3+W0+w_random\n",
      "/opt/conda/lib/python3.7/site-packages/sklearn/utils/validation.py:760: DataConversionWarning: A column-vector y was passed when a 1d array was expected. Please change the shape of y to (n_samples, ), for example using ravel().\n",
      "  y = column_or_1d(y, warn=True)\n"
     ]
    },
    {
     "name": "stdout",
     "output_type": "stream",
     "text": [
      "Refute: Add a Random Common Cause\n",
      "Estimated effect:(9.95224141351444,)\n",
      "New effect:(9.88902898738208,)\n",
      "\n"
     ]
    }
   ],
   "source": [
    "res_random=model.refute_estimate(\n",
    "    identified_estimand, estimate_to_refute\n",
    "    , method_name=\"random_common_cause\", random_seed = 667\n",
    ")\n",
    "print(res_random)"
   ]
  },
  {
   "cell_type": "markdown",
   "metadata": {},
   "source": [
    "### Adding an unobserved common cause variable"
   ]
  },
  {
   "cell_type": "markdown",
   "metadata": {},
   "source": [
    "Add theoretical hypothesis behind this refuting technic"
   ]
  },
  {
   "cell_type": "code",
   "execution_count": 28,
   "metadata": {},
   "outputs": [
    {
     "name": "stderr",
     "output_type": "stream",
     "text": [
      "INFO:dowhy.causal_estimator:INFO: Using Propensity Score Stratification Estimator\n",
      "INFO:dowhy.causal_estimator:b: y~v0+W6+W2+W1+W4+W5+W3+W0\n",
      "/opt/conda/lib/python3.7/site-packages/sklearn/utils/validation.py:760: DataConversionWarning: A column-vector y was passed when a 1d array was expected. Please change the shape of y to (n_samples, ), for example using ravel().\n",
      "  y = column_or_1d(y, warn=True)\n"
     ]
    },
    {
     "name": "stdout",
     "output_type": "stream",
     "text": [
      "Refute: Add an Unobserved Common Cause\n",
      "Estimated effect:(9.95224141351444,)\n",
      "New effect:(3.6952368119406,)\n",
      "\n"
     ]
    }
   ],
   "source": [
    "res_unobserved=model.refute_estimate(\n",
    "    identified_estimand, estimate_to_refute, method_name=\"add_unobserved_common_cause\"\n",
    "    , confounders_effect_on_treatment=\"binary_flip\", confounders_effect_on_outcome=\"linear\"\n",
    "    , effect_strength_on_treatment=0.05, effect_strength_on_outcome=0.02, random_seed = 667\n",
    ")\n",
    "print(res_unobserved)"
   ]
  },
  {
   "cell_type": "markdown",
   "metadata": {},
   "source": [
    "### Replacing treatment with a random (placebo) variable"
   ]
  },
  {
   "cell_type": "markdown",
   "metadata": {},
   "source": [
    "Add theoretical hypothesis behind this refuting technic"
   ]
  },
  {
   "cell_type": "code",
   "execution_count": 30,
   "metadata": {},
   "outputs": [
    {
     "name": "stderr",
     "output_type": "stream",
     "text": [
      "INFO:dowhy.causal_estimator:INFO: Using Propensity Score Stratification Estimator\n",
      "INFO:dowhy.causal_estimator:b: y~placebo+W6+W2+W1+W4+W5+W3+W0\n",
      "/opt/conda/lib/python3.7/site-packages/sklearn/utils/validation.py:760: DataConversionWarning: A column-vector y was passed when a 1d array was expected. Please change the shape of y to (n_samples, ), for example using ravel().\n",
      "  y = column_or_1d(y, warn=True)\n"
     ]
    },
    {
     "name": "stdout",
     "output_type": "stream",
     "text": [
      "Refute: Use a Placebo Treatment\n",
      "Estimated effect:(9.95224141351444,)\n",
      "New effect:(-0.12358207638425976,)\n",
      "\n"
     ]
    }
   ],
   "source": [
    "res_placebo=model.refute_estimate(\n",
    "    identified_estimand, estimate_to_refute, random_seed = 667\n",
    "    , method_name=\"placebo_treatment_refuter\", placebo_type=\"permute\"\n",
    ")\n",
    "print(res_placebo)"
   ]
  },
  {
   "cell_type": "markdown",
   "metadata": {},
   "source": [
    "### Removing a random subset of the data"
   ]
  },
  {
   "cell_type": "markdown",
   "metadata": {},
   "source": [
    "Add theoretical hypothesis behind this refuting technic"
   ]
  },
  {
   "cell_type": "code",
   "execution_count": 31,
   "metadata": {},
   "outputs": [
    {
     "name": "stderr",
     "output_type": "stream",
     "text": [
      "INFO:dowhy.causal_estimator:INFO: Using Propensity Score Stratification Estimator\n",
      "INFO:dowhy.causal_estimator:b: y~v0+W6+W2+W1+W4+W5+W3+W0\n",
      "/opt/conda/lib/python3.7/site-packages/sklearn/utils/validation.py:760: DataConversionWarning: A column-vector y was passed when a 1d array was expected. Please change the shape of y to (n_samples, ), for example using ravel().\n",
      "  y = column_or_1d(y, warn=True)\n"
     ]
    },
    {
     "name": "stdout",
     "output_type": "stream",
     "text": [
      "Refute: Use a subset of data\n",
      "Estimated effect:(9.95224141351444,)\n",
      "New effect:(10.00102821900032,)\n",
      "\n"
     ]
    }
   ],
   "source": [
    "res_subset=model.refute_estimate(\n",
    "    identified_estimand, estimate_to_refute, random_seed = 667\n",
    "    , method_name=\"data_subset_refuter\", subset_fraction=0.9\n",
    ")\n",
    "print(res_subset)"
   ]
  },
  {
   "cell_type": "markdown",
   "metadata": {},
   "source": [
    "## Other Package Interesting Funcionalities"
   ]
  },
  {
   "cell_type": "code",
   "execution_count": null,
   "metadata": {},
   "outputs": [],
   "source": []
  }
 ],
 "metadata": {
  "kernelspec": {
   "display_name": "Python 3",
   "language": "python",
   "name": "python3"
  },
  "language_info": {
   "codemirror_mode": {
    "name": "ipython",
    "version": 3
   },
   "file_extension": ".py",
   "mimetype": "text/x-python",
   "name": "python",
   "nbconvert_exporter": "python",
   "pygments_lexer": "ipython3",
   "version": "3.7.6"
  }
 },
 "nbformat": 4,
 "nbformat_minor": 4
}
