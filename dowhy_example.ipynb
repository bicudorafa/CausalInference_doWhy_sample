{
 "cells": [
  {
   "cell_type": "markdown",
   "metadata": {},
   "source": [
    "# Using DoWhy for Causal Inference\n",
    "This notebook aims to demonstrate the capabilites of using the Causal Framework to make causal inference from observational data, and the tools we have available to validate our conclusions, all of them powered by Microsoft's DoWHy package.\n",
    "\n",
    "First, let us add the required path for Python to find the DoWhy code and load all required packages."
   ]
  },
  {
   "cell_type": "markdown",
   "metadata": {},
   "source": [
    "## Loading Packages and Dependencies"
   ]
  },
  {
   "cell_type": "code",
   "execution_count": 1,
   "metadata": {},
   "outputs": [],
   "source": [
    "import os, sys\n",
    "sys.path.append(os.path.abspath(\"../../../\"))"
   ]
  },
  {
   "cell_type": "code",
   "execution_count": 2,
   "metadata": {},
   "outputs": [],
   "source": [
    "import numpy as np\n",
    "import pandas as pd\n",
    "import logging # implement a flexible event logging system for applications and libraries.\n",
    "import seaborn as sns\n",
    "import matplotlib as plt\n",
    "# dowhy framework\n",
    "import dowhy\n",
    "import dowhy.api\n",
    "from dowhy import CausalModel\n",
    "import dowhy.datasets\n",
    "from dowhy.do_samplers.weighting_sampler import WeightingSampler"
   ]
  },
  {
   "cell_type": "markdown",
   "metadata": {},
   "source": [
    "## Classical Binary Treatment Case and DoWhy Possibilities"
   ]
  },
  {
   "cell_type": "markdown",
   "metadata": {},
   "source": [
    "Now, let us load a dataset. For simplicity, we simulate a dataset with linear relationships between common causes and treatment, and common causes and outcome. \n",
    "\n",
    "Beta is the true causal effect. "
   ]
  },
  {
   "cell_type": "code",
   "execution_count": 3,
   "metadata": {
    "scrolled": true
   },
   "outputs": [
    {
     "data": {
      "text/html": [
       "<div>\n",
       "<style scoped>\n",
       "    .dataframe tbody tr th:only-of-type {\n",
       "        vertical-align: middle;\n",
       "    }\n",
       "\n",
       "    .dataframe tbody tr th {\n",
       "        vertical-align: top;\n",
       "    }\n",
       "\n",
       "    .dataframe thead th {\n",
       "        text-align: right;\n",
       "    }\n",
       "</style>\n",
       "<table border=\"1\" class=\"dataframe\">\n",
       "  <thead>\n",
       "    <tr style=\"text-align: right;\">\n",
       "      <th></th>\n",
       "      <th>Z0</th>\n",
       "      <th>Z1</th>\n",
       "      <th>W0</th>\n",
       "      <th>W1</th>\n",
       "      <th>W2</th>\n",
       "      <th>W3</th>\n",
       "      <th>W4</th>\n",
       "      <th>W5</th>\n",
       "      <th>W6</th>\n",
       "      <th>v0</th>\n",
       "      <th>y</th>\n",
       "    </tr>\n",
       "  </thead>\n",
       "  <tbody>\n",
       "    <tr>\n",
       "      <th>0</th>\n",
       "      <td>0.0</td>\n",
       "      <td>0.900086</td>\n",
       "      <td>0.543473</td>\n",
       "      <td>0.442594</td>\n",
       "      <td>-0.095900</td>\n",
       "      <td>-2.938991</td>\n",
       "      <td>-1.066729</td>\n",
       "      <td>3.056139</td>\n",
       "      <td>-0.334569</td>\n",
       "      <td>True</td>\n",
       "      <td>21.590607</td>\n",
       "    </tr>\n",
       "    <tr>\n",
       "      <th>1</th>\n",
       "      <td>1.0</td>\n",
       "      <td>0.615608</td>\n",
       "      <td>0.647997</td>\n",
       "      <td>-1.302102</td>\n",
       "      <td>-1.512911</td>\n",
       "      <td>-0.014327</td>\n",
       "      <td>1.732847</td>\n",
       "      <td>3.352622</td>\n",
       "      <td>-1.279011</td>\n",
       "      <td>True</td>\n",
       "      <td>16.796417</td>\n",
       "    </tr>\n",
       "    <tr>\n",
       "      <th>2</th>\n",
       "      <td>0.0</td>\n",
       "      <td>0.445585</td>\n",
       "      <td>1.098868</td>\n",
       "      <td>-0.321026</td>\n",
       "      <td>-1.684234</td>\n",
       "      <td>0.567937</td>\n",
       "      <td>-0.280940</td>\n",
       "      <td>1.625276</td>\n",
       "      <td>-2.162853</td>\n",
       "      <td>True</td>\n",
       "      <td>8.198027</td>\n",
       "    </tr>\n",
       "    <tr>\n",
       "      <th>3</th>\n",
       "      <td>0.0</td>\n",
       "      <td>0.991597</td>\n",
       "      <td>0.465225</td>\n",
       "      <td>0.512101</td>\n",
       "      <td>-0.558643</td>\n",
       "      <td>-0.277954</td>\n",
       "      <td>-0.344321</td>\n",
       "      <td>1.945770</td>\n",
       "      <td>-1.940856</td>\n",
       "      <td>True</td>\n",
       "      <td>14.596480</td>\n",
       "    </tr>\n",
       "    <tr>\n",
       "      <th>4</th>\n",
       "      <td>0.0</td>\n",
       "      <td>0.405083</td>\n",
       "      <td>1.192704</td>\n",
       "      <td>-0.882495</td>\n",
       "      <td>0.613694</td>\n",
       "      <td>1.811990</td>\n",
       "      <td>0.240550</td>\n",
       "      <td>1.099476</td>\n",
       "      <td>0.639689</td>\n",
       "      <td>True</td>\n",
       "      <td>16.940630</td>\n",
       "    </tr>\n",
       "  </tbody>\n",
       "</table>\n",
       "</div>"
      ],
      "text/plain": [
       "    Z0        Z1        W0        W1        W2        W3        W4        W5  \\\n",
       "0  0.0  0.900086  0.543473  0.442594 -0.095900 -2.938991 -1.066729  3.056139   \n",
       "1  1.0  0.615608  0.647997 -1.302102 -1.512911 -0.014327  1.732847  3.352622   \n",
       "2  0.0  0.445585  1.098868 -0.321026 -1.684234  0.567937 -0.280940  1.625276   \n",
       "3  0.0  0.991597  0.465225  0.512101 -0.558643 -0.277954 -0.344321  1.945770   \n",
       "4  0.0  0.405083  1.192704 -0.882495  0.613694  1.811990  0.240550  1.099476   \n",
       "\n",
       "         W6    v0          y  \n",
       "0 -0.334569  True  21.590607  \n",
       "1 -1.279011  True  16.796417  \n",
       "2 -2.162853  True   8.198027  \n",
       "3 -1.940856  True  14.596480  \n",
       "4  0.639689  True  16.940630  "
      ]
     },
     "execution_count": 3,
     "metadata": {},
     "output_type": "execute_result"
    }
   ],
   "source": [
    "data = dowhy.datasets.linear_dataset(\n",
    "    beta=10, # causal coef\n",
    "    num_common_causes=7, # cofounders\n",
    "    num_instruments = 2, #vi\n",
    "    num_treatments=1, # treatment\n",
    "    num_samples=10000, # sample\n",
    "    treatment_is_binary=True,\n",
    "    outcome_is_binary=False\n",
    ")\n",
    "df = data[\"df\"]\n",
    "df.head()"
   ]
  },
  {
   "cell_type": "markdown",
   "metadata": {},
   "source": [
    "Note that we are using a pandas dataframe to load the data. At present, DoWhy only supports pandas dataframe as input."
   ]
  },
  {
   "cell_type": "markdown",
   "metadata": {},
   "source": [
    "## Data Exploration"
   ]
  },
  {
   "cell_type": "code",
   "execution_count": 4,
   "metadata": {},
   "outputs": [
    {
     "name": "stdout",
     "output_type": "stream",
     "text": [
      "<class 'pandas.core.frame.DataFrame'>\n",
      "RangeIndex: 10000 entries, 0 to 9999\n",
      "Data columns (total 11 columns):\n",
      " #   Column  Non-Null Count  Dtype  \n",
      "---  ------  --------------  -----  \n",
      " 0   Z0      10000 non-null  float64\n",
      " 1   Z1      10000 non-null  float64\n",
      " 2   W0      10000 non-null  float64\n",
      " 3   W1      10000 non-null  float64\n",
      " 4   W2      10000 non-null  float64\n",
      " 5   W3      10000 non-null  float64\n",
      " 6   W4      10000 non-null  float64\n",
      " 7   W5      10000 non-null  float64\n",
      " 8   W6      10000 non-null  float64\n",
      " 9   v0      10000 non-null  bool   \n",
      " 10  y       10000 non-null  float64\n",
      "dtypes: bool(1), float64(10)\n",
      "memory usage: 791.1 KB\n"
     ]
    }
   ],
   "source": [
    "df.info()"
   ]
  },
  {
   "cell_type": "code",
   "execution_count": 5,
   "metadata": {},
   "outputs": [
    {
     "data": {
      "text/html": [
       "<style  type=\"text/css\" >\n",
       "    #T_b82e41e8_9405_11ea_ac2a_0242ac110002row0_col0 {\n",
       "            background-color:  #b40426;\n",
       "            color:  #f1f1f1;\n",
       "        }    #T_b82e41e8_9405_11ea_ac2a_0242ac110002row0_col1 {\n",
       "            background-color:  #3c4ec2;\n",
       "            color:  #f1f1f1;\n",
       "        }    #T_b82e41e8_9405_11ea_ac2a_0242ac110002row0_col2 {\n",
       "            background-color:  #3f53c6;\n",
       "            color:  #f1f1f1;\n",
       "        }    #T_b82e41e8_9405_11ea_ac2a_0242ac110002row0_col3 {\n",
       "            background-color:  #3b4cc0;\n",
       "            color:  #f1f1f1;\n",
       "        }    #T_b82e41e8_9405_11ea_ac2a_0242ac110002row0_col4 {\n",
       "            background-color:  #3b4cc0;\n",
       "            color:  #f1f1f1;\n",
       "        }    #T_b82e41e8_9405_11ea_ac2a_0242ac110002row0_col5 {\n",
       "            background-color:  #3c4ec2;\n",
       "            color:  #f1f1f1;\n",
       "        }    #T_b82e41e8_9405_11ea_ac2a_0242ac110002row0_col6 {\n",
       "            background-color:  #4055c8;\n",
       "            color:  #f1f1f1;\n",
       "        }    #T_b82e41e8_9405_11ea_ac2a_0242ac110002row0_col7 {\n",
       "            background-color:  #3c4ec2;\n",
       "            color:  #f1f1f1;\n",
       "        }    #T_b82e41e8_9405_11ea_ac2a_0242ac110002row0_col8 {\n",
       "            background-color:  #3e51c5;\n",
       "            color:  #f1f1f1;\n",
       "        }    #T_b82e41e8_9405_11ea_ac2a_0242ac110002row0_col9 {\n",
       "            background-color:  #7093f3;\n",
       "            color:  #000000;\n",
       "        }    #T_b82e41e8_9405_11ea_ac2a_0242ac110002row0_col10 {\n",
       "            background-color:  #3b4cc0;\n",
       "            color:  #f1f1f1;\n",
       "        }    #T_b82e41e8_9405_11ea_ac2a_0242ac110002row1_col0 {\n",
       "            background-color:  #3c4ec2;\n",
       "            color:  #f1f1f1;\n",
       "        }    #T_b82e41e8_9405_11ea_ac2a_0242ac110002row1_col1 {\n",
       "            background-color:  #b40426;\n",
       "            color:  #f1f1f1;\n",
       "        }    #T_b82e41e8_9405_11ea_ac2a_0242ac110002row1_col2 {\n",
       "            background-color:  #3d50c3;\n",
       "            color:  #f1f1f1;\n",
       "        }    #T_b82e41e8_9405_11ea_ac2a_0242ac110002row1_col3 {\n",
       "            background-color:  #4055c8;\n",
       "            color:  #f1f1f1;\n",
       "        }    #T_b82e41e8_9405_11ea_ac2a_0242ac110002row1_col4 {\n",
       "            background-color:  #3b4cc0;\n",
       "            color:  #f1f1f1;\n",
       "        }    #T_b82e41e8_9405_11ea_ac2a_0242ac110002row1_col5 {\n",
       "            background-color:  #3b4cc0;\n",
       "            color:  #f1f1f1;\n",
       "        }    #T_b82e41e8_9405_11ea_ac2a_0242ac110002row1_col6 {\n",
       "            background-color:  #3b4cc0;\n",
       "            color:  #f1f1f1;\n",
       "        }    #T_b82e41e8_9405_11ea_ac2a_0242ac110002row1_col7 {\n",
       "            background-color:  #3d50c3;\n",
       "            color:  #f1f1f1;\n",
       "        }    #T_b82e41e8_9405_11ea_ac2a_0242ac110002row1_col8 {\n",
       "            background-color:  #3b4cc0;\n",
       "            color:  #f1f1f1;\n",
       "        }    #T_b82e41e8_9405_11ea_ac2a_0242ac110002row1_col9 {\n",
       "            background-color:  #80a3fa;\n",
       "            color:  #000000;\n",
       "        }    #T_b82e41e8_9405_11ea_ac2a_0242ac110002row1_col10 {\n",
       "            background-color:  #4055c8;\n",
       "            color:  #f1f1f1;\n",
       "        }    #T_b82e41e8_9405_11ea_ac2a_0242ac110002row2_col0 {\n",
       "            background-color:  #4055c8;\n",
       "            color:  #f1f1f1;\n",
       "        }    #T_b82e41e8_9405_11ea_ac2a_0242ac110002row2_col1 {\n",
       "            background-color:  #3e51c5;\n",
       "            color:  #f1f1f1;\n",
       "        }    #T_b82e41e8_9405_11ea_ac2a_0242ac110002row2_col2 {\n",
       "            background-color:  #b40426;\n",
       "            color:  #f1f1f1;\n",
       "        }    #T_b82e41e8_9405_11ea_ac2a_0242ac110002row2_col3 {\n",
       "            background-color:  #4257c9;\n",
       "            color:  #f1f1f1;\n",
       "        }    #T_b82e41e8_9405_11ea_ac2a_0242ac110002row2_col4 {\n",
       "            background-color:  #3f53c6;\n",
       "            color:  #f1f1f1;\n",
       "        }    #T_b82e41e8_9405_11ea_ac2a_0242ac110002row2_col5 {\n",
       "            background-color:  #3e51c5;\n",
       "            color:  #f1f1f1;\n",
       "        }    #T_b82e41e8_9405_11ea_ac2a_0242ac110002row2_col6 {\n",
       "            background-color:  #3c4ec2;\n",
       "            color:  #f1f1f1;\n",
       "        }    #T_b82e41e8_9405_11ea_ac2a_0242ac110002row2_col7 {\n",
       "            background-color:  #4055c8;\n",
       "            color:  #f1f1f1;\n",
       "        }    #T_b82e41e8_9405_11ea_ac2a_0242ac110002row2_col8 {\n",
       "            background-color:  #3f53c6;\n",
       "            color:  #f1f1f1;\n",
       "        }    #T_b82e41e8_9405_11ea_ac2a_0242ac110002row2_col9 {\n",
       "            background-color:  #9ebeff;\n",
       "            color:  #000000;\n",
       "        }    #T_b82e41e8_9405_11ea_ac2a_0242ac110002row2_col10 {\n",
       "            background-color:  #6687ed;\n",
       "            color:  #000000;\n",
       "        }    #T_b82e41e8_9405_11ea_ac2a_0242ac110002row3_col0 {\n",
       "            background-color:  #3b4cc0;\n",
       "            color:  #f1f1f1;\n",
       "        }    #T_b82e41e8_9405_11ea_ac2a_0242ac110002row3_col1 {\n",
       "            background-color:  #4055c8;\n",
       "            color:  #f1f1f1;\n",
       "        }    #T_b82e41e8_9405_11ea_ac2a_0242ac110002row3_col2 {\n",
       "            background-color:  #4055c8;\n",
       "            color:  #f1f1f1;\n",
       "        }    #T_b82e41e8_9405_11ea_ac2a_0242ac110002row3_col3 {\n",
       "            background-color:  #b40426;\n",
       "            color:  #f1f1f1;\n",
       "        }    #T_b82e41e8_9405_11ea_ac2a_0242ac110002row3_col4 {\n",
       "            background-color:  #445acc;\n",
       "            color:  #f1f1f1;\n",
       "        }    #T_b82e41e8_9405_11ea_ac2a_0242ac110002row3_col5 {\n",
       "            background-color:  #3d50c3;\n",
       "            color:  #f1f1f1;\n",
       "        }    #T_b82e41e8_9405_11ea_ac2a_0242ac110002row3_col6 {\n",
       "            background-color:  #3c4ec2;\n",
       "            color:  #f1f1f1;\n",
       "        }    #T_b82e41e8_9405_11ea_ac2a_0242ac110002row3_col7 {\n",
       "            background-color:  #3f53c6;\n",
       "            color:  #f1f1f1;\n",
       "        }    #T_b82e41e8_9405_11ea_ac2a_0242ac110002row3_col8 {\n",
       "            background-color:  #3f53c6;\n",
       "            color:  #f1f1f1;\n",
       "        }    #T_b82e41e8_9405_11ea_ac2a_0242ac110002row3_col9 {\n",
       "            background-color:  #7295f4;\n",
       "            color:  #000000;\n",
       "        }    #T_b82e41e8_9405_11ea_ac2a_0242ac110002row3_col10 {\n",
       "            background-color:  #92b4fe;\n",
       "            color:  #000000;\n",
       "        }    #T_b82e41e8_9405_11ea_ac2a_0242ac110002row4_col0 {\n",
       "            background-color:  #3b4cc0;\n",
       "            color:  #f1f1f1;\n",
       "        }    #T_b82e41e8_9405_11ea_ac2a_0242ac110002row4_col1 {\n",
       "            background-color:  #3b4cc0;\n",
       "            color:  #f1f1f1;\n",
       "        }    #T_b82e41e8_9405_11ea_ac2a_0242ac110002row4_col2 {\n",
       "            background-color:  #3e51c5;\n",
       "            color:  #f1f1f1;\n",
       "        }    #T_b82e41e8_9405_11ea_ac2a_0242ac110002row4_col3 {\n",
       "            background-color:  #455cce;\n",
       "            color:  #f1f1f1;\n",
       "        }    #T_b82e41e8_9405_11ea_ac2a_0242ac110002row4_col4 {\n",
       "            background-color:  #b40426;\n",
       "            color:  #f1f1f1;\n",
       "        }    #T_b82e41e8_9405_11ea_ac2a_0242ac110002row4_col5 {\n",
       "            background-color:  #3d50c3;\n",
       "            color:  #f1f1f1;\n",
       "        }    #T_b82e41e8_9405_11ea_ac2a_0242ac110002row4_col6 {\n",
       "            background-color:  #3d50c3;\n",
       "            color:  #f1f1f1;\n",
       "        }    #T_b82e41e8_9405_11ea_ac2a_0242ac110002row4_col7 {\n",
       "            background-color:  #3d50c3;\n",
       "            color:  #f1f1f1;\n",
       "        }    #T_b82e41e8_9405_11ea_ac2a_0242ac110002row4_col8 {\n",
       "            background-color:  #3e51c5;\n",
       "            color:  #f1f1f1;\n",
       "        }    #T_b82e41e8_9405_11ea_ac2a_0242ac110002row4_col9 {\n",
       "            background-color:  #5e7de7;\n",
       "            color:  #000000;\n",
       "        }    #T_b82e41e8_9405_11ea_ac2a_0242ac110002row4_col10 {\n",
       "            background-color:  #dfdbd9;\n",
       "            color:  #000000;\n",
       "        }    #T_b82e41e8_9405_11ea_ac2a_0242ac110002row5_col0 {\n",
       "            background-color:  #3d50c3;\n",
       "            color:  #f1f1f1;\n",
       "        }    #T_b82e41e8_9405_11ea_ac2a_0242ac110002row5_col1 {\n",
       "            background-color:  #3b4cc0;\n",
       "            color:  #f1f1f1;\n",
       "        }    #T_b82e41e8_9405_11ea_ac2a_0242ac110002row5_col2 {\n",
       "            background-color:  #3d50c3;\n",
       "            color:  #f1f1f1;\n",
       "        }    #T_b82e41e8_9405_11ea_ac2a_0242ac110002row5_col3 {\n",
       "            background-color:  #3d50c3;\n",
       "            color:  #f1f1f1;\n",
       "        }    #T_b82e41e8_9405_11ea_ac2a_0242ac110002row5_col4 {\n",
       "            background-color:  #3d50c3;\n",
       "            color:  #f1f1f1;\n",
       "        }    #T_b82e41e8_9405_11ea_ac2a_0242ac110002row5_col5 {\n",
       "            background-color:  #b40426;\n",
       "            color:  #f1f1f1;\n",
       "        }    #T_b82e41e8_9405_11ea_ac2a_0242ac110002row5_col6 {\n",
       "            background-color:  #4257c9;\n",
       "            color:  #f1f1f1;\n",
       "        }    #T_b82e41e8_9405_11ea_ac2a_0242ac110002row5_col7 {\n",
       "            background-color:  #465ecf;\n",
       "            color:  #f1f1f1;\n",
       "        }    #T_b82e41e8_9405_11ea_ac2a_0242ac110002row5_col8 {\n",
       "            background-color:  #4257c9;\n",
       "            color:  #f1f1f1;\n",
       "        }    #T_b82e41e8_9405_11ea_ac2a_0242ac110002row5_col9 {\n",
       "            background-color:  #465ecf;\n",
       "            color:  #f1f1f1;\n",
       "        }    #T_b82e41e8_9405_11ea_ac2a_0242ac110002row5_col10 {\n",
       "            background-color:  #3b4cc0;\n",
       "            color:  #f1f1f1;\n",
       "        }    #T_b82e41e8_9405_11ea_ac2a_0242ac110002row6_col0 {\n",
       "            background-color:  #4055c8;\n",
       "            color:  #f1f1f1;\n",
       "        }    #T_b82e41e8_9405_11ea_ac2a_0242ac110002row6_col1 {\n",
       "            background-color:  #3b4cc0;\n",
       "            color:  #f1f1f1;\n",
       "        }    #T_b82e41e8_9405_11ea_ac2a_0242ac110002row6_col2 {\n",
       "            background-color:  #3b4cc0;\n",
       "            color:  #f1f1f1;\n",
       "        }    #T_b82e41e8_9405_11ea_ac2a_0242ac110002row6_col3 {\n",
       "            background-color:  #3c4ec2;\n",
       "            color:  #f1f1f1;\n",
       "        }    #T_b82e41e8_9405_11ea_ac2a_0242ac110002row6_col4 {\n",
       "            background-color:  #3d50c3;\n",
       "            color:  #f1f1f1;\n",
       "        }    #T_b82e41e8_9405_11ea_ac2a_0242ac110002row6_col5 {\n",
       "            background-color:  #4257c9;\n",
       "            color:  #f1f1f1;\n",
       "        }    #T_b82e41e8_9405_11ea_ac2a_0242ac110002row6_col6 {\n",
       "            background-color:  #b40426;\n",
       "            color:  #f1f1f1;\n",
       "        }    #T_b82e41e8_9405_11ea_ac2a_0242ac110002row6_col7 {\n",
       "            background-color:  #3b4cc0;\n",
       "            color:  #f1f1f1;\n",
       "        }    #T_b82e41e8_9405_11ea_ac2a_0242ac110002row6_col8 {\n",
       "            background-color:  #3d50c3;\n",
       "            color:  #f1f1f1;\n",
       "        }    #T_b82e41e8_9405_11ea_ac2a_0242ac110002row6_col9 {\n",
       "            background-color:  #506bda;\n",
       "            color:  #000000;\n",
       "        }    #T_b82e41e8_9405_11ea_ac2a_0242ac110002row6_col10 {\n",
       "            background-color:  #5470de;\n",
       "            color:  #000000;\n",
       "        }    #T_b82e41e8_9405_11ea_ac2a_0242ac110002row7_col0 {\n",
       "            background-color:  #3d50c3;\n",
       "            color:  #f1f1f1;\n",
       "        }    #T_b82e41e8_9405_11ea_ac2a_0242ac110002row7_col1 {\n",
       "            background-color:  #3e51c5;\n",
       "            color:  #f1f1f1;\n",
       "        }    #T_b82e41e8_9405_11ea_ac2a_0242ac110002row7_col2 {\n",
       "            background-color:  #4055c8;\n",
       "            color:  #f1f1f1;\n",
       "        }    #T_b82e41e8_9405_11ea_ac2a_0242ac110002row7_col3 {\n",
       "            background-color:  #4257c9;\n",
       "            color:  #f1f1f1;\n",
       "        }    #T_b82e41e8_9405_11ea_ac2a_0242ac110002row7_col4 {\n",
       "            background-color:  #3e51c5;\n",
       "            color:  #f1f1f1;\n",
       "        }    #T_b82e41e8_9405_11ea_ac2a_0242ac110002row7_col5 {\n",
       "            background-color:  #485fd1;\n",
       "            color:  #f1f1f1;\n",
       "        }    #T_b82e41e8_9405_11ea_ac2a_0242ac110002row7_col6 {\n",
       "            background-color:  #3c4ec2;\n",
       "            color:  #f1f1f1;\n",
       "        }    #T_b82e41e8_9405_11ea_ac2a_0242ac110002row7_col7 {\n",
       "            background-color:  #b40426;\n",
       "            color:  #f1f1f1;\n",
       "        }    #T_b82e41e8_9405_11ea_ac2a_0242ac110002row7_col8 {\n",
       "            background-color:  #3b4cc0;\n",
       "            color:  #f1f1f1;\n",
       "        }    #T_b82e41e8_9405_11ea_ac2a_0242ac110002row7_col9 {\n",
       "            background-color:  #8db0fe;\n",
       "            color:  #000000;\n",
       "        }    #T_b82e41e8_9405_11ea_ac2a_0242ac110002row7_col10 {\n",
       "            background-color:  #f7bca1;\n",
       "            color:  #000000;\n",
       "        }    #T_b82e41e8_9405_11ea_ac2a_0242ac110002row8_col0 {\n",
       "            background-color:  #3f53c6;\n",
       "            color:  #f1f1f1;\n",
       "        }    #T_b82e41e8_9405_11ea_ac2a_0242ac110002row8_col1 {\n",
       "            background-color:  #3c4ec2;\n",
       "            color:  #f1f1f1;\n",
       "        }    #T_b82e41e8_9405_11ea_ac2a_0242ac110002row8_col2 {\n",
       "            background-color:  #4055c8;\n",
       "            color:  #f1f1f1;\n",
       "        }    #T_b82e41e8_9405_11ea_ac2a_0242ac110002row8_col3 {\n",
       "            background-color:  #4055c8;\n",
       "            color:  #f1f1f1;\n",
       "        }    #T_b82e41e8_9405_11ea_ac2a_0242ac110002row8_col4 {\n",
       "            background-color:  #3f53c6;\n",
       "            color:  #f1f1f1;\n",
       "        }    #T_b82e41e8_9405_11ea_ac2a_0242ac110002row8_col5 {\n",
       "            background-color:  #445acc;\n",
       "            color:  #f1f1f1;\n",
       "        }    #T_b82e41e8_9405_11ea_ac2a_0242ac110002row8_col6 {\n",
       "            background-color:  #3f53c6;\n",
       "            color:  #f1f1f1;\n",
       "        }    #T_b82e41e8_9405_11ea_ac2a_0242ac110002row8_col7 {\n",
       "            background-color:  #3c4ec2;\n",
       "            color:  #f1f1f1;\n",
       "        }    #T_b82e41e8_9405_11ea_ac2a_0242ac110002row8_col8 {\n",
       "            background-color:  #b40426;\n",
       "            color:  #f1f1f1;\n",
       "        }    #T_b82e41e8_9405_11ea_ac2a_0242ac110002row8_col9 {\n",
       "            background-color:  #3b4cc0;\n",
       "            color:  #f1f1f1;\n",
       "        }    #T_b82e41e8_9405_11ea_ac2a_0242ac110002row8_col10 {\n",
       "            background-color:  #5d7ce6;\n",
       "            color:  #000000;\n",
       "        }    #T_b82e41e8_9405_11ea_ac2a_0242ac110002row9_col0 {\n",
       "            background-color:  #7295f4;\n",
       "            color:  #000000;\n",
       "        }    #T_b82e41e8_9405_11ea_ac2a_0242ac110002row9_col1 {\n",
       "            background-color:  #81a4fb;\n",
       "            color:  #000000;\n",
       "        }    #T_b82e41e8_9405_11ea_ac2a_0242ac110002row9_col2 {\n",
       "            background-color:  #9ebeff;\n",
       "            color:  #000000;\n",
       "        }    #T_b82e41e8_9405_11ea_ac2a_0242ac110002row9_col3 {\n",
       "            background-color:  #7597f6;\n",
       "            color:  #000000;\n",
       "        }    #T_b82e41e8_9405_11ea_ac2a_0242ac110002row9_col4 {\n",
       "            background-color:  #5f7fe8;\n",
       "            color:  #000000;\n",
       "        }    #T_b82e41e8_9405_11ea_ac2a_0242ac110002row9_col5 {\n",
       "            background-color:  #485fd1;\n",
       "            color:  #f1f1f1;\n",
       "        }    #T_b82e41e8_9405_11ea_ac2a_0242ac110002row9_col6 {\n",
       "            background-color:  #516ddb;\n",
       "            color:  #000000;\n",
       "        }    #T_b82e41e8_9405_11ea_ac2a_0242ac110002row9_col7 {\n",
       "            background-color:  #8db0fe;\n",
       "            color:  #000000;\n",
       "        }    #T_b82e41e8_9405_11ea_ac2a_0242ac110002row9_col8 {\n",
       "            background-color:  #3b4cc0;\n",
       "            color:  #f1f1f1;\n",
       "        }    #T_b82e41e8_9405_11ea_ac2a_0242ac110002row9_col9 {\n",
       "            background-color:  #b40426;\n",
       "            color:  #f1f1f1;\n",
       "        }    #T_b82e41e8_9405_11ea_ac2a_0242ac110002row9_col10 {\n",
       "            background-color:  #f3c8b2;\n",
       "            color:  #000000;\n",
       "        }    #T_b82e41e8_9405_11ea_ac2a_0242ac110002row10_col0 {\n",
       "            background-color:  #4e68d8;\n",
       "            color:  #000000;\n",
       "        }    #T_b82e41e8_9405_11ea_ac2a_0242ac110002row10_col1 {\n",
       "            background-color:  #5470de;\n",
       "            color:  #000000;\n",
       "        }    #T_b82e41e8_9405_11ea_ac2a_0242ac110002row10_col2 {\n",
       "            background-color:  #779af7;\n",
       "            color:  #000000;\n",
       "        }    #T_b82e41e8_9405_11ea_ac2a_0242ac110002row10_col3 {\n",
       "            background-color:  #a1c0ff;\n",
       "            color:  #000000;\n",
       "        }    #T_b82e41e8_9405_11ea_ac2a_0242ac110002row10_col4 {\n",
       "            background-color:  #e7d7ce;\n",
       "            color:  #000000;\n",
       "        }    #T_b82e41e8_9405_11ea_ac2a_0242ac110002row10_col5 {\n",
       "            background-color:  #4c66d6;\n",
       "            color:  #000000;\n",
       "        }    #T_b82e41e8_9405_11ea_ac2a_0242ac110002row10_col6 {\n",
       "            background-color:  #6788ee;\n",
       "            color:  #000000;\n",
       "        }    #T_b82e41e8_9405_11ea_ac2a_0242ac110002row10_col7 {\n",
       "            background-color:  #f7b599;\n",
       "            color:  #000000;\n",
       "        }    #T_b82e41e8_9405_11ea_ac2a_0242ac110002row10_col8 {\n",
       "            background-color:  #6e90f2;\n",
       "            color:  #000000;\n",
       "        }    #T_b82e41e8_9405_11ea_ac2a_0242ac110002row10_col9 {\n",
       "            background-color:  #f5c2aa;\n",
       "            color:  #000000;\n",
       "        }    #T_b82e41e8_9405_11ea_ac2a_0242ac110002row10_col10 {\n",
       "            background-color:  #b40426;\n",
       "            color:  #f1f1f1;\n",
       "        }</style><table id=\"T_b82e41e8_9405_11ea_ac2a_0242ac110002\" ><thead>    <tr>        <th class=\"blank level0\" ></th>        <th class=\"col_heading level0 col0\" >Z0</th>        <th class=\"col_heading level0 col1\" >Z1</th>        <th class=\"col_heading level0 col2\" >W0</th>        <th class=\"col_heading level0 col3\" >W1</th>        <th class=\"col_heading level0 col4\" >W2</th>        <th class=\"col_heading level0 col5\" >W3</th>        <th class=\"col_heading level0 col6\" >W4</th>        <th class=\"col_heading level0 col7\" >W5</th>        <th class=\"col_heading level0 col8\" >W6</th>        <th class=\"col_heading level0 col9\" >v0</th>        <th class=\"col_heading level0 col10\" >y</th>    </tr></thead><tbody>\n",
       "                <tr>\n",
       "                        <th id=\"T_b82e41e8_9405_11ea_ac2a_0242ac110002level0_row0\" class=\"row_heading level0 row0\" >Z0</th>\n",
       "                        <td id=\"T_b82e41e8_9405_11ea_ac2a_0242ac110002row0_col0\" class=\"data row0 col0\" >1.000000</td>\n",
       "                        <td id=\"T_b82e41e8_9405_11ea_ac2a_0242ac110002row0_col1\" class=\"data row0 col1\" >-0.007829</td>\n",
       "                        <td id=\"T_b82e41e8_9405_11ea_ac2a_0242ac110002row0_col2\" class=\"data row0 col2\" >0.008773</td>\n",
       "                        <td id=\"T_b82e41e8_9405_11ea_ac2a_0242ac110002row0_col3\" class=\"data row0 col3\" >-0.014901</td>\n",
       "                        <td id=\"T_b82e41e8_9405_11ea_ac2a_0242ac110002row0_col4\" class=\"data row0 col4\" >-0.014220</td>\n",
       "                        <td id=\"T_b82e41e8_9405_11ea_ac2a_0242ac110002row0_col5\" class=\"data row0 col5\" >-0.006646</td>\n",
       "                        <td id=\"T_b82e41e8_9405_11ea_ac2a_0242ac110002row0_col6\" class=\"data row0 col6\" >0.005577</td>\n",
       "                        <td id=\"T_b82e41e8_9405_11ea_ac2a_0242ac110002row0_col7\" class=\"data row0 col7\" >-0.004712</td>\n",
       "                        <td id=\"T_b82e41e8_9405_11ea_ac2a_0242ac110002row0_col8\" class=\"data row0 col8\" >0.003365</td>\n",
       "                        <td id=\"T_b82e41e8_9405_11ea_ac2a_0242ac110002row0_col9\" class=\"data row0 col9\" >0.162369</td>\n",
       "                        <td id=\"T_b82e41e8_9405_11ea_ac2a_0242ac110002row0_col10\" class=\"data row0 col10\" >0.049351</td>\n",
       "            </tr>\n",
       "            <tr>\n",
       "                        <th id=\"T_b82e41e8_9405_11ea_ac2a_0242ac110002level0_row1\" class=\"row_heading level0 row1\" >Z1</th>\n",
       "                        <td id=\"T_b82e41e8_9405_11ea_ac2a_0242ac110002row1_col0\" class=\"data row1 col0\" >-0.007829</td>\n",
       "                        <td id=\"T_b82e41e8_9405_11ea_ac2a_0242ac110002row1_col1\" class=\"data row1 col1\" >1.000000</td>\n",
       "                        <td id=\"T_b82e41e8_9405_11ea_ac2a_0242ac110002row1_col2\" class=\"data row1 col2\" >-0.000658</td>\n",
       "                        <td id=\"T_b82e41e8_9405_11ea_ac2a_0242ac110002row1_col3\" class=\"data row1 col3\" >0.005153</td>\n",
       "                        <td id=\"T_b82e41e8_9405_11ea_ac2a_0242ac110002row1_col4\" class=\"data row1 col4\" >-0.011391</td>\n",
       "                        <td id=\"T_b82e41e8_9405_11ea_ac2a_0242ac110002row1_col5\" class=\"data row1 col5\" >-0.013721</td>\n",
       "                        <td id=\"T_b82e41e8_9405_11ea_ac2a_0242ac110002row1_col6\" class=\"data row1 col6\" >-0.014710</td>\n",
       "                        <td id=\"T_b82e41e8_9405_11ea_ac2a_0242ac110002row1_col7\" class=\"data row1 col7\" >0.001056</td>\n",
       "                        <td id=\"T_b82e41e8_9405_11ea_ac2a_0242ac110002row1_col8\" class=\"data row1 col8\" >-0.008902</td>\n",
       "                        <td id=\"T_b82e41e8_9405_11ea_ac2a_0242ac110002row1_col9\" class=\"data row1 col9\" >0.206644</td>\n",
       "                        <td id=\"T_b82e41e8_9405_11ea_ac2a_0242ac110002row1_col10\" class=\"data row1 col10\" >0.070045</td>\n",
       "            </tr>\n",
       "            <tr>\n",
       "                        <th id=\"T_b82e41e8_9405_11ea_ac2a_0242ac110002level0_row2\" class=\"row_heading level0 row2\" >W0</th>\n",
       "                        <td id=\"T_b82e41e8_9405_11ea_ac2a_0242ac110002row2_col0\" class=\"data row2 col0\" >0.008773</td>\n",
       "                        <td id=\"T_b82e41e8_9405_11ea_ac2a_0242ac110002row2_col1\" class=\"data row2 col1\" >-0.000658</td>\n",
       "                        <td id=\"T_b82e41e8_9405_11ea_ac2a_0242ac110002row2_col2\" class=\"data row2 col2\" >1.000000</td>\n",
       "                        <td id=\"T_b82e41e8_9405_11ea_ac2a_0242ac110002row2_col3\" class=\"data row2 col3\" >0.011453</td>\n",
       "                        <td id=\"T_b82e41e8_9405_11ea_ac2a_0242ac110002row2_col4\" class=\"data row2 col4\" >0.004680</td>\n",
       "                        <td id=\"T_b82e41e8_9405_11ea_ac2a_0242ac110002row2_col5\" class=\"data row2 col5\" >0.000002</td>\n",
       "                        <td id=\"T_b82e41e8_9405_11ea_ac2a_0242ac110002row2_col6\" class=\"data row2 col6\" >-0.010121</td>\n",
       "                        <td id=\"T_b82e41e8_9405_11ea_ac2a_0242ac110002row2_col7\" class=\"data row2 col7\" >0.013356</td>\n",
       "                        <td id=\"T_b82e41e8_9405_11ea_ac2a_0242ac110002row2_col8\" class=\"data row2 col8\" >0.009672</td>\n",
       "                        <td id=\"T_b82e41e8_9405_11ea_ac2a_0242ac110002row2_col9\" class=\"data row2 col9\" >0.291642</td>\n",
       "                        <td id=\"T_b82e41e8_9405_11ea_ac2a_0242ac110002row2_col10\" class=\"data row2 col10\" >0.181924</td>\n",
       "            </tr>\n",
       "            <tr>\n",
       "                        <th id=\"T_b82e41e8_9405_11ea_ac2a_0242ac110002level0_row3\" class=\"row_heading level0 row3\" >W1</th>\n",
       "                        <td id=\"T_b82e41e8_9405_11ea_ac2a_0242ac110002row3_col0\" class=\"data row3 col0\" >-0.014901</td>\n",
       "                        <td id=\"T_b82e41e8_9405_11ea_ac2a_0242ac110002row3_col1\" class=\"data row3 col1\" >0.005153</td>\n",
       "                        <td id=\"T_b82e41e8_9405_11ea_ac2a_0242ac110002row3_col2\" class=\"data row3 col2\" >0.011453</td>\n",
       "                        <td id=\"T_b82e41e8_9405_11ea_ac2a_0242ac110002row3_col3\" class=\"data row3 col3\" >1.000000</td>\n",
       "                        <td id=\"T_b82e41e8_9405_11ea_ac2a_0242ac110002row3_col4\" class=\"data row3 col4\" >0.021270</td>\n",
       "                        <td id=\"T_b82e41e8_9405_11ea_ac2a_0242ac110002row3_col5\" class=\"data row3 col5\" >-0.003254</td>\n",
       "                        <td id=\"T_b82e41e8_9405_11ea_ac2a_0242ac110002row3_col6\" class=\"data row3 col6\" >-0.009167</td>\n",
       "                        <td id=\"T_b82e41e8_9405_11ea_ac2a_0242ac110002row3_col7\" class=\"data row3 col7\" >0.008899</td>\n",
       "                        <td id=\"T_b82e41e8_9405_11ea_ac2a_0242ac110002row3_col8\" class=\"data row3 col8\" >0.007068</td>\n",
       "                        <td id=\"T_b82e41e8_9405_11ea_ac2a_0242ac110002row3_col9\" class=\"data row3 col9\" >0.168553</td>\n",
       "                        <td id=\"T_b82e41e8_9405_11ea_ac2a_0242ac110002row3_col10\" class=\"data row3 col10\" >0.297541</td>\n",
       "            </tr>\n",
       "            <tr>\n",
       "                        <th id=\"T_b82e41e8_9405_11ea_ac2a_0242ac110002level0_row4\" class=\"row_heading level0 row4\" >W2</th>\n",
       "                        <td id=\"T_b82e41e8_9405_11ea_ac2a_0242ac110002row4_col0\" class=\"data row4 col0\" >-0.014220</td>\n",
       "                        <td id=\"T_b82e41e8_9405_11ea_ac2a_0242ac110002row4_col1\" class=\"data row4 col1\" >-0.011391</td>\n",
       "                        <td id=\"T_b82e41e8_9405_11ea_ac2a_0242ac110002row4_col2\" class=\"data row4 col2\" >0.004680</td>\n",
       "                        <td id=\"T_b82e41e8_9405_11ea_ac2a_0242ac110002row4_col3\" class=\"data row4 col3\" >0.021270</td>\n",
       "                        <td id=\"T_b82e41e8_9405_11ea_ac2a_0242ac110002row4_col4\" class=\"data row4 col4\" >1.000000</td>\n",
       "                        <td id=\"T_b82e41e8_9405_11ea_ac2a_0242ac110002row4_col5\" class=\"data row4 col5\" >-0.003982</td>\n",
       "                        <td id=\"T_b82e41e8_9405_11ea_ac2a_0242ac110002row4_col6\" class=\"data row4 col6\" >-0.004642</td>\n",
       "                        <td id=\"T_b82e41e8_9405_11ea_ac2a_0242ac110002row4_col7\" class=\"data row4 col7\" >0.000181</td>\n",
       "                        <td id=\"T_b82e41e8_9405_11ea_ac2a_0242ac110002row4_col8\" class=\"data row4 col8\" >0.004074</td>\n",
       "                        <td id=\"T_b82e41e8_9405_11ea_ac2a_0242ac110002row4_col9\" class=\"data row4 col9\" >0.107218</td>\n",
       "                        <td id=\"T_b82e41e8_9405_11ea_ac2a_0242ac110002row4_col10\" class=\"data row4 col10\" >0.532694</td>\n",
       "            </tr>\n",
       "            <tr>\n",
       "                        <th id=\"T_b82e41e8_9405_11ea_ac2a_0242ac110002level0_row5\" class=\"row_heading level0 row5\" >W3</th>\n",
       "                        <td id=\"T_b82e41e8_9405_11ea_ac2a_0242ac110002row5_col0\" class=\"data row5 col0\" >-0.006646</td>\n",
       "                        <td id=\"T_b82e41e8_9405_11ea_ac2a_0242ac110002row5_col1\" class=\"data row5 col1\" >-0.013721</td>\n",
       "                        <td id=\"T_b82e41e8_9405_11ea_ac2a_0242ac110002row5_col2\" class=\"data row5 col2\" >0.000002</td>\n",
       "                        <td id=\"T_b82e41e8_9405_11ea_ac2a_0242ac110002row5_col3\" class=\"data row5 col3\" >-0.003254</td>\n",
       "                        <td id=\"T_b82e41e8_9405_11ea_ac2a_0242ac110002row5_col4\" class=\"data row5 col4\" >-0.003982</td>\n",
       "                        <td id=\"T_b82e41e8_9405_11ea_ac2a_0242ac110002row5_col5\" class=\"data row5 col5\" >1.000000</td>\n",
       "                        <td id=\"T_b82e41e8_9405_11ea_ac2a_0242ac110002row5_col6\" class=\"data row5 col6\" >0.010193</td>\n",
       "                        <td id=\"T_b82e41e8_9405_11ea_ac2a_0242ac110002row5_col7\" class=\"data row5 col7\" >0.031829</td>\n",
       "                        <td id=\"T_b82e41e8_9405_11ea_ac2a_0242ac110002row5_col8\" class=\"data row5 col8\" >0.018415</td>\n",
       "                        <td id=\"T_b82e41e8_9405_11ea_ac2a_0242ac110002row5_col9\" class=\"data row5 col9\" >0.033358</td>\n",
       "                        <td id=\"T_b82e41e8_9405_11ea_ac2a_0242ac110002row5_col10\" class=\"data row5 col10\" >0.048241</td>\n",
       "            </tr>\n",
       "            <tr>\n",
       "                        <th id=\"T_b82e41e8_9405_11ea_ac2a_0242ac110002level0_row6\" class=\"row_heading level0 row6\" >W4</th>\n",
       "                        <td id=\"T_b82e41e8_9405_11ea_ac2a_0242ac110002row6_col0\" class=\"data row6 col0\" >0.005577</td>\n",
       "                        <td id=\"T_b82e41e8_9405_11ea_ac2a_0242ac110002row6_col1\" class=\"data row6 col1\" >-0.014710</td>\n",
       "                        <td id=\"T_b82e41e8_9405_11ea_ac2a_0242ac110002row6_col2\" class=\"data row6 col2\" >-0.010121</td>\n",
       "                        <td id=\"T_b82e41e8_9405_11ea_ac2a_0242ac110002row6_col3\" class=\"data row6 col3\" >-0.009167</td>\n",
       "                        <td id=\"T_b82e41e8_9405_11ea_ac2a_0242ac110002row6_col4\" class=\"data row6 col4\" >-0.004642</td>\n",
       "                        <td id=\"T_b82e41e8_9405_11ea_ac2a_0242ac110002row6_col5\" class=\"data row6 col5\" >0.010193</td>\n",
       "                        <td id=\"T_b82e41e8_9405_11ea_ac2a_0242ac110002row6_col6\" class=\"data row6 col6\" >1.000000</td>\n",
       "                        <td id=\"T_b82e41e8_9405_11ea_ac2a_0242ac110002row6_col7\" class=\"data row6 col7\" >-0.009106</td>\n",
       "                        <td id=\"T_b82e41e8_9405_11ea_ac2a_0242ac110002row6_col8\" class=\"data row6 col8\" >0.001847</td>\n",
       "                        <td id=\"T_b82e41e8_9405_11ea_ac2a_0242ac110002row6_col9\" class=\"data row6 col9\" >0.062584</td>\n",
       "                        <td id=\"T_b82e41e8_9405_11ea_ac2a_0242ac110002row6_col10\" class=\"data row6 col10\" >0.129853</td>\n",
       "            </tr>\n",
       "            <tr>\n",
       "                        <th id=\"T_b82e41e8_9405_11ea_ac2a_0242ac110002level0_row7\" class=\"row_heading level0 row7\" >W5</th>\n",
       "                        <td id=\"T_b82e41e8_9405_11ea_ac2a_0242ac110002row7_col0\" class=\"data row7 col0\" >-0.004712</td>\n",
       "                        <td id=\"T_b82e41e8_9405_11ea_ac2a_0242ac110002row7_col1\" class=\"data row7 col1\" >0.001056</td>\n",
       "                        <td id=\"T_b82e41e8_9405_11ea_ac2a_0242ac110002row7_col2\" class=\"data row7 col2\" >0.013356</td>\n",
       "                        <td id=\"T_b82e41e8_9405_11ea_ac2a_0242ac110002row7_col3\" class=\"data row7 col3\" >0.008899</td>\n",
       "                        <td id=\"T_b82e41e8_9405_11ea_ac2a_0242ac110002row7_col4\" class=\"data row7 col4\" >0.000181</td>\n",
       "                        <td id=\"T_b82e41e8_9405_11ea_ac2a_0242ac110002row7_col5\" class=\"data row7 col5\" >0.031829</td>\n",
       "                        <td id=\"T_b82e41e8_9405_11ea_ac2a_0242ac110002row7_col6\" class=\"data row7 col6\" >-0.009106</td>\n",
       "                        <td id=\"T_b82e41e8_9405_11ea_ac2a_0242ac110002row7_col7\" class=\"data row7 col7\" >1.000000</td>\n",
       "                        <td id=\"T_b82e41e8_9405_11ea_ac2a_0242ac110002row7_col8\" class=\"data row7 col8\" >-0.005054</td>\n",
       "                        <td id=\"T_b82e41e8_9405_11ea_ac2a_0242ac110002row7_col9\" class=\"data row7 col9\" >0.245483</td>\n",
       "                        <td id=\"T_b82e41e8_9405_11ea_ac2a_0242ac110002row7_col10\" class=\"data row7 col10\" >0.672394</td>\n",
       "            </tr>\n",
       "            <tr>\n",
       "                        <th id=\"T_b82e41e8_9405_11ea_ac2a_0242ac110002level0_row8\" class=\"row_heading level0 row8\" >W6</th>\n",
       "                        <td id=\"T_b82e41e8_9405_11ea_ac2a_0242ac110002row8_col0\" class=\"data row8 col0\" >0.003365</td>\n",
       "                        <td id=\"T_b82e41e8_9405_11ea_ac2a_0242ac110002row8_col1\" class=\"data row8 col1\" >-0.008902</td>\n",
       "                        <td id=\"T_b82e41e8_9405_11ea_ac2a_0242ac110002row8_col2\" class=\"data row8 col2\" >0.009672</td>\n",
       "                        <td id=\"T_b82e41e8_9405_11ea_ac2a_0242ac110002row8_col3\" class=\"data row8 col3\" >0.007068</td>\n",
       "                        <td id=\"T_b82e41e8_9405_11ea_ac2a_0242ac110002row8_col4\" class=\"data row8 col4\" >0.004074</td>\n",
       "                        <td id=\"T_b82e41e8_9405_11ea_ac2a_0242ac110002row8_col5\" class=\"data row8 col5\" >0.018415</td>\n",
       "                        <td id=\"T_b82e41e8_9405_11ea_ac2a_0242ac110002row8_col6\" class=\"data row8 col6\" >0.001847</td>\n",
       "                        <td id=\"T_b82e41e8_9405_11ea_ac2a_0242ac110002row8_col7\" class=\"data row8 col7\" >-0.005054</td>\n",
       "                        <td id=\"T_b82e41e8_9405_11ea_ac2a_0242ac110002row8_col8\" class=\"data row8 col8\" >1.000000</td>\n",
       "                        <td id=\"T_b82e41e8_9405_11ea_ac2a_0242ac110002row8_col9\" class=\"data row8 col9\" >-0.008463</td>\n",
       "                        <td id=\"T_b82e41e8_9405_11ea_ac2a_0242ac110002row8_col10\" class=\"data row8 col10\" >0.154425</td>\n",
       "            </tr>\n",
       "            <tr>\n",
       "                        <th id=\"T_b82e41e8_9405_11ea_ac2a_0242ac110002level0_row9\" class=\"row_heading level0 row9\" >v0</th>\n",
       "                        <td id=\"T_b82e41e8_9405_11ea_ac2a_0242ac110002row9_col0\" class=\"data row9 col0\" >0.162369</td>\n",
       "                        <td id=\"T_b82e41e8_9405_11ea_ac2a_0242ac110002row9_col1\" class=\"data row9 col1\" >0.206644</td>\n",
       "                        <td id=\"T_b82e41e8_9405_11ea_ac2a_0242ac110002row9_col2\" class=\"data row9 col2\" >0.291642</td>\n",
       "                        <td id=\"T_b82e41e8_9405_11ea_ac2a_0242ac110002row9_col3\" class=\"data row9 col3\" >0.168553</td>\n",
       "                        <td id=\"T_b82e41e8_9405_11ea_ac2a_0242ac110002row9_col4\" class=\"data row9 col4\" >0.107218</td>\n",
       "                        <td id=\"T_b82e41e8_9405_11ea_ac2a_0242ac110002row9_col5\" class=\"data row9 col5\" >0.033358</td>\n",
       "                        <td id=\"T_b82e41e8_9405_11ea_ac2a_0242ac110002row9_col6\" class=\"data row9 col6\" >0.062584</td>\n",
       "                        <td id=\"T_b82e41e8_9405_11ea_ac2a_0242ac110002row9_col7\" class=\"data row9 col7\" >0.245483</td>\n",
       "                        <td id=\"T_b82e41e8_9405_11ea_ac2a_0242ac110002row9_col8\" class=\"data row9 col8\" >-0.008463</td>\n",
       "                        <td id=\"T_b82e41e8_9405_11ea_ac2a_0242ac110002row9_col9\" class=\"data row9 col9\" >1.000000</td>\n",
       "                        <td id=\"T_b82e41e8_9405_11ea_ac2a_0242ac110002row9_col10\" class=\"data row9 col10\" >0.628938</td>\n",
       "            </tr>\n",
       "            <tr>\n",
       "                        <th id=\"T_b82e41e8_9405_11ea_ac2a_0242ac110002level0_row10\" class=\"row_heading level0 row10\" >y</th>\n",
       "                        <td id=\"T_b82e41e8_9405_11ea_ac2a_0242ac110002row10_col0\" class=\"data row10 col0\" >0.049351</td>\n",
       "                        <td id=\"T_b82e41e8_9405_11ea_ac2a_0242ac110002row10_col1\" class=\"data row10 col1\" >0.070045</td>\n",
       "                        <td id=\"T_b82e41e8_9405_11ea_ac2a_0242ac110002row10_col2\" class=\"data row10 col2\" >0.181924</td>\n",
       "                        <td id=\"T_b82e41e8_9405_11ea_ac2a_0242ac110002row10_col3\" class=\"data row10 col3\" >0.297541</td>\n",
       "                        <td id=\"T_b82e41e8_9405_11ea_ac2a_0242ac110002row10_col4\" class=\"data row10 col4\" >0.532694</td>\n",
       "                        <td id=\"T_b82e41e8_9405_11ea_ac2a_0242ac110002row10_col5\" class=\"data row10 col5\" >0.048241</td>\n",
       "                        <td id=\"T_b82e41e8_9405_11ea_ac2a_0242ac110002row10_col6\" class=\"data row10 col6\" >0.129853</td>\n",
       "                        <td id=\"T_b82e41e8_9405_11ea_ac2a_0242ac110002row10_col7\" class=\"data row10 col7\" >0.672394</td>\n",
       "                        <td id=\"T_b82e41e8_9405_11ea_ac2a_0242ac110002row10_col8\" class=\"data row10 col8\" >0.154425</td>\n",
       "                        <td id=\"T_b82e41e8_9405_11ea_ac2a_0242ac110002row10_col9\" class=\"data row10 col9\" >0.628938</td>\n",
       "                        <td id=\"T_b82e41e8_9405_11ea_ac2a_0242ac110002row10_col10\" class=\"data row10 col10\" >1.000000</td>\n",
       "            </tr>\n",
       "    </tbody></table>"
      ],
      "text/plain": [
       "<pandas.io.formats.style.Styler at 0x7f75ac171a90>"
      ]
     },
     "execution_count": 5,
     "metadata": {},
     "output_type": "execute_result"
    }
   ],
   "source": [
    "# Unbeliavable to check how corr changes nothing with the treatment having or not causal impact \n",
    "corr = df.corr()\n",
    "corr.style.background_gradient(cmap='coolwarm')"
   ]
  },
  {
   "cell_type": "code",
   "execution_count": 7,
   "metadata": {},
   "outputs": [
    {
     "data": {
      "image/png": "[encoded data removed]",
      "text/plain": [
       "<Figure size 432x288 with 1 Axes>"
      ]
     },
     "metadata": {
      "needs_background": "light"
     },
     "output_type": "display_data"
    }
   ],
   "source": [
    "# \n",
    "interventions = df.v0.unique()\n",
    "\n",
    "# Iterate through the five airlines\n",
    "for intervention in interventions:\n",
    "    # Subset to the airline\n",
    "    subset = df[df['v0'] == intervention]\n",
    "    \n",
    "    # Draw the density plot\n",
    "    sns.distplot(subset['y'], hist = False, kde = True,\n",
    "                 kde_kws = {'shade': True, 'linewidth': 3},\n",
    "                 label = intervention)\n",
    "    \n",
    "# Plot formatting\n",
    "#plt.legend(prop={'size': 16}, title = 'Airline')\n",
    "#plt.title('Density Plot with Multiple Airlines')\n",
    "#plt.xlabel('Delay (min)')\n",
    "#plt.ylabel('Density')"
   ]
  },
  {
   "cell_type": "code",
   "execution_count": 22,
   "metadata": {},
   "outputs": [
    {
     "name": "stdout",
     "output_type": "stream",
     "text": [
      "The Naivy ATE is: 16.831265\n"
     ]
    }
   ],
   "source": [
    "naivy_estimate = df[df.v0==1]['y'].mean() - df[df.v0==0]['y'].mean()\n",
    "print('The Naivy ATE is: %f' % naivy_estimate)"
   ]
  },
  {
   "cell_type": "markdown",
   "metadata": {},
   "source": [
    "## Causal Framework"
   ]
  },
  {
   "cell_type": "markdown",
   "metadata": {},
   "source": [
    "### **Model** Phase - input the \"graph\""
   ]
  },
  {
   "cell_type": "markdown",
   "metadata": {},
   "source": [
    "We now input a causal graph in the GML graph format (recommended). You can also use the DOT format."
   ]
  },
  {
   "cell_type": "code",
   "execution_count": 9,
   "metadata": {},
   "outputs": [
    {
     "name": "stderr",
     "output_type": "stream",
     "text": [
      "WARNING:dowhy.causal_model:Causal Graph not provided. DoWhy will construct a graph based on data inputs.\n",
      "INFO:dowhy.causal_graph:If this is observed data (not from a randomized experiment), there might always be missing confounders. Adding a node named \"Unobserved Confounders\" to reflect this.\n",
      "INFO:dowhy.causal_model:Model to find the causal effect of treatment ['v0'] on outcome ['y']\n"
     ]
    }
   ],
   "source": [
    "# With graph\n",
    "model=CausalModel(\n",
    "    data = df,\n",
    "    treatment=data[\"treatment_name\"],\n",
    "    outcome=data[\"outcome_name\"],\n",
    "    common_causes=data[\"common_causes_names\"], # both works the same, but the first is based on a previous graph\n",
    "    instruments=data[\"instrument_names\"],\n",
    "    logging_level = logging.INFO # not 100% of its funcionality, but I suppose it serves to gain efficiency\n",
    ")"
   ]
  },
  {
   "cell_type": "code",
   "execution_count": 9,
   "metadata": {},
   "outputs": [
    {
     "name": "stderr",
     "output_type": "stream",
     "text": [
      "WARNING:dowhy.causal_graph:Warning: Pygraphviz cannot be loaded. Check that graphviz and pygraphviz are installed.\n",
      "INFO:dowhy.causal_graph:Using Matplotlib for plotting\n"
     ]
    },
    {
     "data": {
      "image/png": "[encoded data removed]",
      "text/plain": [
       "<Figure size 432x288 with 1 Axes>"
      ]
     },
     "metadata": {},
     "output_type": "display_data"
    }
   ],
   "source": [
    "model.view_model()"
   ]
  },
  {
   "cell_type": "code",
   "execution_count": 10,
   "metadata": {
    "scrolled": true
   },
   "outputs": [],
   "source": [
    "#from IPython.display import Image, display\n",
    "#display(Image(filename=\"causal_model.png\"))"
   ]
  },
  {
   "cell_type": "markdown",
   "metadata": {},
   "source": [
    "The above causal graph shows the assumptions encoded in the causal model. We can now use this graph to first identify \n",
    "the causal effect (go from a causal estimand to a probability expression), and then estimate the causal effect."
   ]
  },
  {
   "cell_type": "markdown",
   "metadata": {},
   "source": [
    "**DoWhy philosophy: Keep identification and estimation separate**\n",
    "\n",
    "Identification can be achieved without access to the data, acccesing only the graph. This results in an expression to be computed. This expression can then be evaluated using the available data in the estimation step.\n",
    "It is important to understand that these are orthogonal steps."
   ]
  },
  {
   "cell_type": "markdown",
   "metadata": {},
   "source": [
    "### Identification Phase"
   ]
  },
  {
   "cell_type": "code",
   "execution_count": 11,
   "metadata": {},
   "outputs": [
    {
     "name": "stderr",
     "output_type": "stream",
     "text": [
      "INFO:dowhy.causal_identifier:Common causes of treatment and outcome:['W4', 'U', 'W5', 'W1', 'W2', 'W3', 'W6', 'W0']\n",
      "WARNING:dowhy.causal_identifier:If this is observed data (not from a randomized experiment), there might always be missing confounders. Causal effect cannot be identified perfectly.\n",
      "INFO:dowhy.causal_identifier:Continuing by ignoring these unobserved confounders because proceed_when_unidentifiable flag is True.\n",
      "INFO:dowhy.causal_identifier:Instrumental variables for treatment and outcome:['Z1', 'Z0']\n"
     ]
    },
    {
     "name": "stdout",
     "output_type": "stream",
     "text": [
      "Estimand type: nonparametric-ate\n",
      "### Estimand : 1\n",
      "Estimand name: backdoor\n",
      "Estimand expression:\n",
      "  d                                       \n",
      "─────(Expectation(y|W4,W5,W1,W2,W3,W6,W0))\n",
      "d[v₀]                                     \n",
      "Estimand assumption 1, Unconfoundedness: If U→{v0} and U→y then P(y|v0,W4,W5,W1,W2,W3,W6,W0,U) = P(y|v0,W4,W5,W1,W2,W3,W6,W0)\n",
      "### Estimand : 2\n",
      "Estimand name: iv\n",
      "Estimand expression:\n",
      "Expectation(Derivative(y, [Z1, Z0])*Derivative([v0], [Z1, Z0])**(-1))\n",
      "Estimand assumption 1, As-if-random: If U→→y then ¬(U →→{Z1,Z0})\n",
      "Estimand assumption 2, Exclusion: If we remove {Z1,Z0}→{v0}, then ¬({Z1,Z0}→y)\n",
      "\n"
     ]
    }
   ],
   "source": [
    "identified_estimand = model.identify_effect(proceed_when_unidentifiable=True)\n",
    "print(identified_estimand)"
   ]
  },
  {
   "cell_type": "markdown",
   "metadata": {},
   "source": [
    "### Estimation Phase"
   ]
  },
  {
   "cell_type": "markdown",
   "metadata": {},
   "source": [
    "Fundamentally, test at least two different methods to have more confidence on the effect. Here, we'll examine ass built-in methods inside DoWhy"
   ]
  },
  {
   "cell_type": "markdown",
   "metadata": {},
   "source": [
    "* Linear Regression"
   ]
  },
  {
   "cell_type": "markdown",
   "metadata": {},
   "source": [
    "Brief Explanation of T's and B's "
   ]
  },
  {
   "cell_type": "code",
   "execution_count": 12,
   "metadata": {},
   "outputs": [
    {
     "name": "stderr",
     "output_type": "stream",
     "text": [
      "INFO:dowhy.causal_estimator:INFO: Using Linear Regression Estimator\n",
      "INFO:dowhy.causal_estimator:b: y~v0+W4+W5+W1+W2+W3+W6+W0\n"
     ]
    },
    {
     "name": "stdout",
     "output_type": "stream",
     "text": [
      "*** Causal Estimate ***\n",
      "\n",
      "## Target estimand\n",
      "Estimand type: nonparametric-ate\n",
      "### Estimand : 1\n",
      "Estimand name: backdoor\n",
      "Estimand expression:\n",
      "  d                                       \n",
      "─────(Expectation(y|W4,W5,W1,W2,W3,W6,W0))\n",
      "d[v₀]                                     \n",
      "Estimand assumption 1, Unconfoundedness: If U→{v0} and U→y then P(y|v0,W4,W5,W1,W2,W3,W6,W0,U) = P(y|v0,W4,W5,W1,W2,W3,W6,W0)\n",
      "### Estimand : 2\n",
      "Estimand name: iv\n",
      "Estimand expression:\n",
      "Expectation(Derivative(y, [Z1, Z0])*Derivative([v0], [Z1, Z0])**(-1))\n",
      "Estimand assumption 1, As-if-random: If U→→y then ¬(U →→{Z1,Z0})\n",
      "Estimand assumption 2, Exclusion: If we remove {Z1,Z0}→{v0}, then ¬({Z1,Z0}→y)\n",
      "\n",
      "## Realized estimand\n",
      "b: y~v0+W4+W5+W1+W2+W3+W6+W0\n",
      "## Estimate\n",
      "Value: 9.999999999999964\n",
      "\n"
     ]
    }
   ],
   "source": [
    "causal_estimate = model.estimate_effect(identified_estimand,\n",
    "        method_name=\"backdoor.linear_regression\")\n",
    "print(causal_estimate)"
   ]
  },
  {
   "cell_type": "markdown",
   "metadata": {},
   "source": [
    "* Propensity-based Stratification"
   ]
  },
  {
   "cell_type": "markdown",
   "metadata": {},
   "source": [
    "Brief Explanation of T's and B's "
   ]
  },
  {
   "cell_type": "code",
   "execution_count": 13,
   "metadata": {},
   "outputs": [
    {
     "name": "stderr",
     "output_type": "stream",
     "text": [
      "INFO:dowhy.causal_estimator:INFO: Using Propensity Score Stratification Estimator\n",
      "INFO:dowhy.causal_estimator:b: y~v0+W4+W5+W1+W2+W3+W6+W0\n",
      "/opt/conda/lib/python3.7/site-packages/sklearn/utils/validation.py:760: DataConversionWarning: A column-vector y was passed when a 1d array was expected. Please change the shape of y to (n_samples, ), for example using ravel().\n",
      "  y = column_or_1d(y, warn=True)\n"
     ]
    },
    {
     "name": "stdout",
     "output_type": "stream",
     "text": [
      "*** Causal Estimate ***\n",
      "\n",
      "## Target estimand\n",
      "Estimand type: nonparametric-ate\n",
      "### Estimand : 1\n",
      "Estimand name: backdoor\n",
      "Estimand expression:\n",
      "  d                                       \n",
      "─────(Expectation(y|W4,W5,W1,W2,W3,W6,W0))\n",
      "d[v₀]                                     \n",
      "Estimand assumption 1, Unconfoundedness: If U→{v0} and U→y then P(y|v0,W4,W5,W1,W2,W3,W6,W0,U) = P(y|v0,W4,W5,W1,W2,W3,W6,W0)\n",
      "### Estimand : 2\n",
      "Estimand name: iv\n",
      "Estimand expression:\n",
      "Expectation(Derivative(y, [Z1, Z0])*Derivative([v0], [Z1, Z0])**(-1))\n",
      "Estimand assumption 1, As-if-random: If U→→y then ¬(U →→{Z1,Z0})\n",
      "Estimand assumption 2, Exclusion: If we remove {Z1,Z0}→{v0}, then ¬({Z1,Z0}→y)\n",
      "\n",
      "## Realized estimand\n",
      "b: y~v0+W4+W5+W1+W2+W3+W6+W0\n",
      "## Estimate\n",
      "Value: 10.252676484347129\n",
      "\n"
     ]
    }
   ],
   "source": [
    "causal_estimate = model.estimate_effect(\n",
    "    identified_estimand,method_name=\"backdoor.propensity_score_stratification\"\n",
    ")\n",
    "print(causal_estimate)"
   ]
  },
  {
   "cell_type": "markdown",
   "metadata": {},
   "source": [
    "* Propensity Score Matching"
   ]
  },
  {
   "cell_type": "markdown",
   "metadata": {},
   "source": [
    "Brief Explanation of T's and B's "
   ]
  },
  {
   "cell_type": "code",
   "execution_count": 14,
   "metadata": {},
   "outputs": [
    {
     "name": "stderr",
     "output_type": "stream",
     "text": [
      "INFO:dowhy.causal_estimator:INFO: Using Propensity Score Matching Estimator\n",
      "INFO:dowhy.causal_estimator:b: y~v0+W4+W5+W1+W2+W3+W6+W0\n",
      "/opt/conda/lib/python3.7/site-packages/sklearn/utils/validation.py:760: DataConversionWarning: A column-vector y was passed when a 1d array was expected. Please change the shape of y to (n_samples, ), for example using ravel().\n",
      "  y = column_or_1d(y, warn=True)\n"
     ]
    },
    {
     "name": "stdout",
     "output_type": "stream",
     "text": [
      "*** Causal Estimate ***\n",
      "\n",
      "## Target estimand\n",
      "Estimand type: nonparametric-ate\n",
      "### Estimand : 1\n",
      "Estimand name: backdoor\n",
      "Estimand expression:\n",
      "  d                                       \n",
      "─────(Expectation(y|W4,W5,W1,W2,W3,W6,W0))\n",
      "d[v₀]                                     \n",
      "Estimand assumption 1, Unconfoundedness: If U→{v0} and U→y then P(y|v0,W4,W5,W1,W2,W3,W6,W0,U) = P(y|v0,W4,W5,W1,W2,W3,W6,W0)\n",
      "### Estimand : 2\n",
      "Estimand name: iv\n",
      "Estimand expression:\n",
      "Expectation(Derivative(y, [Z1, Z0])*Derivative([v0], [Z1, Z0])**(-1))\n",
      "Estimand assumption 1, As-if-random: If U→→y then ¬(U →→{Z1,Z0})\n",
      "Estimand assumption 2, Exclusion: If we remove {Z1,Z0}→{v0}, then ¬({Z1,Z0}→y)\n",
      "\n",
      "## Realized estimand\n",
      "b: y~v0+W4+W5+W1+W2+W3+W6+W0\n",
      "## Estimate\n",
      "Value: 16.04709499950085\n",
      "\n"
     ]
    }
   ],
   "source": [
    "causal_estimate = model.estimate_effect(identified_estimand,\n",
    "        method_name=\"backdoor.propensity_score_matching\")\n",
    "print(causal_estimate)"
   ]
  },
  {
   "cell_type": "markdown",
   "metadata": {},
   "source": [
    "* Inverse Propensity Weighting"
   ]
  },
  {
   "cell_type": "markdown",
   "metadata": {},
   "source": [
    "Brief Explanation of T's and B's "
   ]
  },
  {
   "cell_type": "markdown",
   "metadata": {},
   "source": [
    "We will be using (inverse) propensity scores to assign weights to units in the data. DoWhy supports a few different weighting schemes:\n",
    "1. Vanilla Inverse Propensity Score weighting (IPS) (weighting_scheme=\"ips_weight\")\n",
    "2. Self-normalized IPS weighting (also known as the Hajek estimator) (weighting_scheme=\"ips_normalized_weight\")\n",
    "3. Stabilized IPS weighting (weighting_scheme = \"ips_stabilized_weight\")"
   ]
  },
  {
   "cell_type": "code",
   "execution_count": 15,
   "metadata": {},
   "outputs": [
    {
     "name": "stderr",
     "output_type": "stream",
     "text": [
      "INFO:dowhy.causal_estimator:INFO: Using Propensity Score Weighting Estimator\n",
      "INFO:dowhy.causal_estimator:b: y~v0+W4+W5+W1+W2+W3+W6+W0\n"
     ]
    },
    {
     "name": "stdout",
     "output_type": "stream",
     "text": [
      "*** Causal Estimate ***\n",
      "\n",
      "## Target estimand\n",
      "Estimand type: nonparametric-ate\n",
      "### Estimand : 1\n",
      "Estimand name: backdoor\n",
      "Estimand expression:\n",
      "  d                                       \n",
      "─────(Expectation(y|W4,W5,W1,W2,W3,W6,W0))\n",
      "d[v₀]                                     \n",
      "Estimand assumption 1, Unconfoundedness: If U→{v0} and U→y then P(y|v0,W4,W5,W1,W2,W3,W6,W0,U) = P(y|v0,W4,W5,W1,W2,W3,W6,W0)\n",
      "### Estimand : 2\n",
      "Estimand name: iv\n",
      "Estimand expression:\n",
      "Expectation(Derivative(y, [Z1, Z0])*Derivative([v0], [Z1, Z0])**(-1))\n",
      "Estimand assumption 1, As-if-random: If U→→y then ¬(U →→{Z1,Z0})\n",
      "Estimand assumption 2, Exclusion: If we remove {Z1,Z0}→{v0}, then ¬({Z1,Z0}→y)\n",
      "\n",
      "## Realized estimand\n",
      "b: y~v0+W4+W5+W1+W2+W3+W6+W0\n",
      "## Estimate\n",
      "Value: 17.892396495118295\n",
      "\n"
     ]
    },
    {
     "name": "stderr",
     "output_type": "stream",
     "text": [
      "/opt/conda/lib/python3.7/site-packages/sklearn/utils/validation.py:760: DataConversionWarning: A column-vector y was passed when a 1d array was expected. Please change the shape of y to (n_samples, ), for example using ravel().\n",
      "  y = column_or_1d(y, warn=True)\n"
     ]
    }
   ],
   "source": [
    "causal_estimate = model.estimate_effect(\n",
    "    identified_estimand,\n",
    "    method_name=\"backdoor.propensity_score_weighting\",\n",
    "    target_units = \"ate\",\n",
    "    method_params={\"weighting_scheme\":\"ips_normalized_weight\"}\n",
    ")\n",
    "print(causal_estimate)"
   ]
  },
  {
   "cell_type": "markdown",
   "metadata": {},
   "source": [
    "* Binary Instrument/Wald Estimator"
   ]
  },
  {
   "cell_type": "markdown",
   "metadata": {},
   "source": [
    "Brief Explanation of T's and B's "
   ]
  },
  {
   "cell_type": "code",
   "execution_count": 16,
   "metadata": {},
   "outputs": [
    {
     "name": "stderr",
     "output_type": "stream",
     "text": [
      "INFO:dowhy.causal_estimator:INFO: Using Instrumental Variable Estimator\n",
      "INFO:dowhy.causal_estimator:Realized estimand: Wald Estimator\n",
      "Realized estimand type: nonparametric-ate\n",
      "Estimand expression:\n",
      "                                                              -1\n",
      "Expectation(Derivative(y, Z0))⋅Expectation(Derivative(v0, Z0))  \n",
      "Estimand assumption 1, As-if-random: If U→→y then ¬(U →→{Z1,Z0})\n",
      "Estimand assumption 2, Exclusion: If we remove {Z1,Z0}→{v0}, then ¬({Z1,Z0}→y)\n",
      "Estimand assumption 3, treatment_effect_homogeneity: Each unit's treatment ['v0'] is affected in the same way by common causes of ['v0'] and y\n",
      "Estimand assumption 4, outcome_effect_homogeneity: Each unit's outcome y is affected in the same way by common causes of ['v0'] and y\n",
      "\n"
     ]
    },
    {
     "name": "stdout",
     "output_type": "stream",
     "text": [
      "*** Causal Estimate ***\n",
      "\n",
      "## Target estimand\n",
      "Estimand type: nonparametric-ate\n",
      "### Estimand : 1\n",
      "Estimand name: backdoor\n",
      "Estimand expression:\n",
      "  d                                       \n",
      "─────(Expectation(y|W4,W5,W1,W2,W3,W6,W0))\n",
      "d[v₀]                                     \n",
      "Estimand assumption 1, Unconfoundedness: If U→{v0} and U→y then P(y|v0,W4,W5,W1,W2,W3,W6,W0,U) = P(y|v0,W4,W5,W1,W2,W3,W6,W0)\n",
      "### Estimand : 2\n",
      "Estimand name: iv\n",
      "Estimand expression:\n",
      "Expectation(Derivative(y, [Z1, Z0])*Derivative([v0], [Z1, Z0])**(-1))\n",
      "Estimand assumption 1, As-if-random: If U→→y then ¬(U →→{Z1,Z0})\n",
      "Estimand assumption 2, Exclusion: If we remove {Z1,Z0}→{v0}, then ¬({Z1,Z0}→y)\n",
      "\n",
      "## Realized estimand\n",
      "Realized estimand: Wald Estimator\n",
      "Realized estimand type: nonparametric-ate\n",
      "Estimand expression:\n",
      "                                                              -1\n",
      "Expectation(Derivative(y, Z0))⋅Expectation(Derivative(v0, Z0))  \n",
      "Estimand assumption 1, As-if-random: If U→→y then ¬(U →→{Z1,Z0})\n",
      "Estimand assumption 2, Exclusion: If we remove {Z1,Z0}→{v0}, then ¬({Z1,Z0}→y)\n",
      "Estimand assumption 3, treatment_effect_homogeneity: Each unit's treatment ['v0'] is affected in the same way by common causes of ['v0'] and y\n",
      "Estimand assumption 4, outcome_effect_homogeneity: Each unit's outcome y is affected in the same way by common causes of ['v0'] and y\n",
      "\n",
      "## Estimate\n",
      "Value: 10.942108208904793\n",
      "\n"
     ]
    }
   ],
   "source": [
    "causal_estimate = model.estimate_effect(identified_estimand,\n",
    "        method_name=\"iv.instrumental_variable\", method_params = {'iv_instrument_name': ['Z0']})\n",
    "print(causal_estimate)"
   ]
  },
  {
   "cell_type": "markdown",
   "metadata": {},
   "source": [
    "* Regression Discontinuity"
   ]
  },
  {
   "cell_type": "markdown",
   "metadata": {},
   "source": [
    "(Worth to mention this design wouldn't be suited to this case) \n",
    "Brief Explanation of T's and B's "
   ]
  },
  {
   "cell_type": "code",
   "execution_count": 17,
   "metadata": {},
   "outputs": [
    {
     "name": "stderr",
     "output_type": "stream",
     "text": [
      "INFO:dowhy.causal_estimator:Using Regression Discontinuity Estimator\n",
      "INFO:dowhy.causal_estimator:\n",
      "INFO:dowhy.causal_estimator:INFO: Using Instrumental Variable Estimator\n",
      "INFO:dowhy.causal_estimator:Realized estimand: Wald Estimator\n",
      "Realized estimand type: nonparametric-ate\n",
      "Estimand expression:\n",
      "                                                                              \n",
      "Expectation(Derivative(y, local_rd_variable))⋅Expectation(Derivative(v0, local\n",
      "\n",
      "              -1\n",
      "_rd_variable))  \n",
      "Estimand assumption 1, As-if-random: If U→→y then ¬(U →→{Z1,Z0})\n",
      "Estimand assumption 2, Exclusion: If we remove {Z1,Z0}→{v0}, then ¬({Z1,Z0}→y)\n",
      "Estimand assumption 3, treatment_effect_homogeneity: Each unit's treatment ['local_treatment'] is affected in the same way by common causes of ['local_treatment'] and local_outcome\n",
      "Estimand assumption 4, outcome_effect_homogeneity: Each unit's outcome local_outcome is affected in the same way by common causes of ['local_treatment'] and local_outcome\n",
      "\n"
     ]
    },
    {
     "name": "stdout",
     "output_type": "stream",
     "text": [
      "      local_rd_variable  local_treatment  local_outcome\n",
      "17             0.587663             True      16.735838\n",
      "32             0.558842             True       4.235377\n",
      "42             0.528779             True      22.030615\n",
      "43             0.582572             True      16.139430\n",
      "45             0.586549             True       2.934968\n",
      "...                 ...              ...            ...\n",
      "9969           0.437027             True       2.489741\n",
      "9978           0.513033             True      14.086854\n",
      "9980           0.489366             True      29.300886\n",
      "9990           0.486356             True       7.368931\n",
      "9995           0.591452             True      18.760037\n",
      "\n",
      "[1988 rows x 3 columns]\n",
      "*** Causal Estimate ***\n",
      "\n",
      "## Target estimand\n",
      "Estimand type: nonparametric-ate\n",
      "### Estimand : 1\n",
      "Estimand name: backdoor\n",
      "Estimand expression:\n",
      "  d                                       \n",
      "─────(Expectation(y|W4,W5,W1,W2,W3,W6,W0))\n",
      "d[v₀]                                     \n",
      "Estimand assumption 1, Unconfoundedness: If U→{v0} and U→y then P(y|v0,W4,W5,W1,W2,W3,W6,W0,U) = P(y|v0,W4,W5,W1,W2,W3,W6,W0)\n",
      "### Estimand : 2\n",
      "Estimand name: iv\n",
      "Estimand expression:\n",
      "Expectation(Derivative(y, [Z1, Z0])*Derivative([v0], [Z1, Z0])**(-1))\n",
      "Estimand assumption 1, As-if-random: If U→→y then ¬(U →→{Z1,Z0})\n",
      "Estimand assumption 2, Exclusion: If we remove {Z1,Z0}→{v0}, then ¬({Z1,Z0}→y)\n",
      "\n",
      "## Realized estimand\n",
      "Realized estimand: Wald Estimator\n",
      "Realized estimand type: nonparametric-ate\n",
      "Estimand expression:\n",
      "                                                                              \n",
      "Expectation(Derivative(y, local_rd_variable))⋅Expectation(Derivative(v0, local\n",
      "\n",
      "              -1\n",
      "_rd_variable))  \n",
      "Estimand assumption 1, As-if-random: If U→→y then ¬(U →→{Z1,Z0})\n",
      "Estimand assumption 2, Exclusion: If we remove {Z1,Z0}→{v0}, then ¬({Z1,Z0}→y)\n",
      "Estimand assumption 3, treatment_effect_homogeneity: Each unit's treatment ['local_treatment'] is affected in the same way by common causes of ['local_treatment'] and local_outcome\n",
      "Estimand assumption 4, outcome_effect_homogeneity: Each unit's outcome local_outcome is affected in the same way by common causes of ['local_treatment'] and local_outcome\n",
      "\n",
      "## Estimate\n",
      "Value: -45.829612388555375\n",
      "\n"
     ]
    }
   ],
   "source": [
    "causal_estimate = model.estimate_effect(identified_estimand,\n",
    "        method_name=\"iv.regression_discontinuity\", \n",
    "        method_params={'rd_variable_name':'Z1',\n",
    "                       'rd_threshold_value':0.5,\n",
    "                       'rd_bandwidth': 0.1})\n",
    "print(causal_estimate)"
   ]
  },
  {
   "cell_type": "markdown",
   "metadata": {},
   "source": [
    "* Heterogeneous Treatment Estimation Support"
   ]
  },
  {
   "cell_type": "markdown",
   "metadata": {},
   "source": [
    "You can input additional parameters to the estimate_effect method. For instance, to estimate the effect on any subset of the units, you can specify the \"target_units\" parameter which can be a string (\"ate\", \"att\", or \"atc\"), lambda function that filters rows of the data frame, or a new dataframe on which to compute the effect. You can also specify \"effect modifiers\" to estimate heterogeneous effects across these variables. See `help(CausalModel.estimate_effect)`. "
   ]
  },
  {
   "cell_type": "code",
   "execution_count": 18,
   "metadata": {},
   "outputs": [
    {
     "name": "stderr",
     "output_type": "stream",
     "text": [
      "INFO:dowhy.causal_estimator:INFO: Using Propensity Score Stratification Estimator\n",
      "INFO:dowhy.causal_estimator:b: y~v0+W4+W5+W1+W2+W3+W6+W0\n",
      "/opt/conda/lib/python3.7/site-packages/sklearn/utils/validation.py:760: DataConversionWarning: A column-vector y was passed when a 1d array was expected. Please change the shape of y to (n_samples, ), for example using ravel().\n",
      "  y = column_or_1d(y, warn=True)\n"
     ]
    },
    {
     "name": "stdout",
     "output_type": "stream",
     "text": [
      "*** Causal Estimate ***\n",
      "\n",
      "## Target estimand\n",
      "Estimand type: nonparametric-ate\n",
      "### Estimand : 1\n",
      "Estimand name: backdoor\n",
      "Estimand expression:\n",
      "  d                                       \n",
      "─────(Expectation(y|W4,W5,W1,W2,W3,W6,W0))\n",
      "d[v₀]                                     \n",
      "Estimand assumption 1, Unconfoundedness: If U→{v0} and U→y then P(y|v0,W4,W5,W1,W2,W3,W6,W0,U) = P(y|v0,W4,W5,W1,W2,W3,W6,W0)\n",
      "### Estimand : 2\n",
      "Estimand name: iv\n",
      "Estimand expression:\n",
      "Expectation(Derivative(y, [Z1, Z0])*Derivative([v0], [Z1, Z0])**(-1))\n",
      "Estimand assumption 1, As-if-random: If U→→y then ¬(U →→{Z1,Z0})\n",
      "Estimand assumption 2, Exclusion: If we remove {Z1,Z0}→{v0}, then ¬({Z1,Z0}→y)\n",
      "\n",
      "## Realized estimand\n",
      "b: y~v0+W4+W5+W1+W2+W3+W6+W0\n",
      "## Estimate\n",
      "Value: 10.354852941146467\n",
      "\n"
     ]
    }
   ],
   "source": [
    "# Causal effect on the control group (ATC)\n",
    "causal_estimate_atc = model.estimate_effect(identified_estimand,\n",
    "        method_name=\"backdoor.propensity_score_stratification\",\n",
    "        target_units = \"atc\")\n",
    "print(causal_estimate_atc)"
   ]
  },
  {
   "cell_type": "markdown",
   "metadata": {},
   "source": [
    "## Refuting Phase"
   ]
  },
  {
   "cell_type": "markdown",
   "metadata": {},
   "source": [
    "We get the same causal graph. Now identification and estimation is done as before."
   ]
  },
  {
   "cell_type": "code",
   "execution_count": 19,
   "metadata": {},
   "outputs": [
    {
     "name": "stderr",
     "output_type": "stream",
     "text": [
      "INFO:dowhy.causal_estimator:INFO: Using Propensity Score Stratification Estimator\n",
      "INFO:dowhy.causal_estimator:b: y~v0+W4+W5+W1+W2+W3+W6+W0\n"
     ]
    },
    {
     "name": "stdout",
     "output_type": "stream",
     "text": [
      "Causal Estimate is 10.252676484347129\n"
     ]
    },
    {
     "name": "stderr",
     "output_type": "stream",
     "text": [
      "/opt/conda/lib/python3.7/site-packages/sklearn/utils/validation.py:760: DataConversionWarning: A column-vector y was passed when a 1d array was expected. Please change the shape of y to (n_samples, ), for example using ravel().\n",
      "  y = column_or_1d(y, warn=True)\n"
     ]
    }
   ],
   "source": [
    "estimate_to_refute = model.estimate_effect(identified_estimand,\n",
    "                                 method_name=\"backdoor.propensity_score_stratification\")         \n",
    "print(\"Causal Estimate is \" + str(estimate_to_refute.value))"
   ]
  },
  {
   "cell_type": "markdown",
   "metadata": {},
   "source": [
    "### Adding a random common cause variable"
   ]
  },
  {
   "cell_type": "markdown",
   "metadata": {},
   "source": [
    "Add theoretical hypothesis behind this refuting technic"
   ]
  },
  {
   "cell_type": "code",
   "execution_count": 20,
   "metadata": {},
   "outputs": [
    {
     "name": "stderr",
     "output_type": "stream",
     "text": [
      "INFO:dowhy.causal_estimator:INFO: Using Propensity Score Stratification Estimator\n",
      "INFO:dowhy.causal_estimator:b: y~v0+W4+W5+W1+W2+W3+W6+W0+w_random\n"
     ]
    },
    {
     "name": "stdout",
     "output_type": "stream",
     "text": [
      "Refute: Add a Random Common Cause\n",
      "Estimated effect:(10.252676484347129,)\n",
      "New effect:(10.280796680941915,)\n",
      "\n"
     ]
    },
    {
     "name": "stderr",
     "output_type": "stream",
     "text": [
      "/opt/conda/lib/python3.7/site-packages/sklearn/utils/validation.py:760: DataConversionWarning: A column-vector y was passed when a 1d array was expected. Please change the shape of y to (n_samples, ), for example using ravel().\n",
      "  y = column_or_1d(y, warn=True)\n"
     ]
    }
   ],
   "source": [
    "res_random=model.refute_estimate(\n",
    "    identified_estimand, estimate_to_refute\n",
    "    , method_name=\"random_common_cause\", random_seed = 667\n",
    ")\n",
    "print(res_random)"
   ]
  },
  {
   "cell_type": "markdown",
   "metadata": {},
   "source": [
    "### Adding an unobserved common cause variable"
   ]
  },
  {
   "cell_type": "markdown",
   "metadata": {},
   "source": [
    "Add theoretical hypothesis behind this refuting technic"
   ]
  },
  {
   "cell_type": "code",
   "execution_count": 21,
   "metadata": {},
   "outputs": [
    {
     "name": "stderr",
     "output_type": "stream",
     "text": [
      "INFO:dowhy.causal_estimator:INFO: Using Propensity Score Stratification Estimator\n",
      "INFO:dowhy.causal_estimator:b: y~v0+W4+W5+W1+W2+W3+W6+W0\n",
      "/opt/conda/lib/python3.7/site-packages/sklearn/utils/validation.py:760: DataConversionWarning: A column-vector y was passed when a 1d array was expected. Please change the shape of y to (n_samples, ), for example using ravel().\n",
      "  y = column_or_1d(y, warn=True)\n"
     ]
    },
    {
     "name": "stdout",
     "output_type": "stream",
     "text": [
      "Refute: Add an Unobserved Common Cause\n",
      "Estimated effect:(10.252676484347129,)\n",
      "New effect:(1.87369379643151,)\n",
      "\n"
     ]
    }
   ],
   "source": [
    "res_unobserved=model.refute_estimate(\n",
    "    identified_estimand, estimate_to_refute, method_name=\"add_unobserved_common_cause\"\n",
    "    , confounders_effect_on_treatment=\"binary_flip\", confounders_effect_on_outcome=\"linear\"\n",
    "    , effect_strength_on_treatment=0.05, effect_strength_on_outcome=0.02, random_seed = 667\n",
    ")\n",
    "print(res_unobserved)"
   ]
  },
  {
   "cell_type": "markdown",
   "metadata": {},
   "source": [
    "### Replacing treatment with a random (placebo) variable"
   ]
  },
  {
   "cell_type": "markdown",
   "metadata": {},
   "source": [
    "Add theoretical hypothesis behind this refuting technic"
   ]
  },
  {
   "cell_type": "code",
   "execution_count": 22,
   "metadata": {},
   "outputs": [
    {
     "name": "stderr",
     "output_type": "stream",
     "text": [
      "INFO:dowhy.causal_estimator:INFO: Using Propensity Score Stratification Estimator\n",
      "INFO:dowhy.causal_estimator:b: y~placebo+W4+W5+W1+W2+W3+W6+W0\n"
     ]
    },
    {
     "name": "stdout",
     "output_type": "stream",
     "text": [
      "Refute: Use a Placebo Treatment\n",
      "Estimated effect:(10.252676484347129,)\n",
      "New effect:(nan,)\n",
      "\n"
     ]
    },
    {
     "name": "stderr",
     "output_type": "stream",
     "text": [
      "/opt/conda/lib/python3.7/site-packages/sklearn/utils/validation.py:760: DataConversionWarning: A column-vector y was passed when a 1d array was expected. Please change the shape of y to (n_samples, ), for example using ravel().\n",
      "  y = column_or_1d(y, warn=True)\n",
      "/opt/conda/lib/python3.7/site-packages/dowhy/causal_estimators/propensity_score_stratification_estimator.py:96: RuntimeWarning: invalid value encountered in double_scalars\n",
      "  est = (weighted_outcomes['effect'] * (weighted_outcomes[control_sum_name]+weighted_outcomes[treatment_sum_name])).sum() / total_population\n"
     ]
    }
   ],
   "source": [
    "res_placebo=model.refute_estimate(\n",
    "    identified_estimand, estimate_to_refute, random_seed = 667\n",
    "    , method_name=\"placebo_treatment_refuter\", placebo_type=\"permute\"\n",
    ")\n",
    "print(res_placebo)"
   ]
  },
  {
   "cell_type": "markdown",
   "metadata": {},
   "source": [
    "### Removing a random subset of the data"
   ]
  },
  {
   "cell_type": "markdown",
   "metadata": {},
   "source": [
    "Add theoretical hypothesis behind this refuting technic"
   ]
  },
  {
   "cell_type": "code",
   "execution_count": 23,
   "metadata": {},
   "outputs": [
    {
     "name": "stderr",
     "output_type": "stream",
     "text": [
      "INFO:dowhy.causal_estimator:INFO: Using Propensity Score Stratification Estimator\n",
      "INFO:dowhy.causal_estimator:b: y~v0+W4+W5+W1+W2+W3+W6+W0\n",
      "/opt/conda/lib/python3.7/site-packages/sklearn/utils/validation.py:760: DataConversionWarning: A column-vector y was passed when a 1d array was expected. Please change the shape of y to (n_samples, ), for example using ravel().\n",
      "  y = column_or_1d(y, warn=True)\n"
     ]
    },
    {
     "name": "stdout",
     "output_type": "stream",
     "text": [
      "Refute: Use a subset of data\n",
      "Estimated effect:(10.252676484347129,)\n",
      "New effect:(10.520028319997916,)\n",
      "\n"
     ]
    }
   ],
   "source": [
    "res_subset=model.refute_estimate(\n",
    "    identified_estimand, estimate_to_refute, random_seed = 667\n",
    "    , method_name=\"data_subset_refuter\", subset_fraction=0.9\n",
    ")\n",
    "print(res_subset)"
   ]
  },
  {
   "cell_type": "markdown",
   "metadata": {},
   "source": [
    "## Other Package Interesting Funcionalities"
   ]
  },
  {
   "cell_type": "markdown",
   "metadata": {},
   "source": [
    "### Do Sampler"
   ]
  },
  {
   "cell_type": "markdown",
   "metadata": {},
   "source": [
    "Add brief theoretical explanation of what it is, Ts and Bs"
   ]
  },
  {
   "cell_type": "code",
   "execution_count": 11,
   "metadata": {},
   "outputs": [
    {
     "name": "stderr",
     "output_type": "stream",
     "text": [
      "WARNING:dowhy.causal_model:Causal Graph not provided. DoWhy will construct a graph based on data inputs.\n",
      "INFO:dowhy.causal_graph:If this is observed data (not from a randomized experiment), there might always be missing confounders. Adding a node named \"Unobserved Confounders\" to reflect this.\n",
      "INFO:dowhy.causal_model:Model to find the causal effect of treatment ['v0'] on outcome ['y']\n",
      "INFO:dowhy.causal_identifier:Common causes of treatment and outcome:['W3', 'U', 'W6', 'W2', 'W1', 'W4', 'W0', 'W5']\n",
      "WARNING:dowhy.causal_identifier:If this is observed data (not from a randomized experiment), there might always be missing confounders. Causal effect cannot be identified perfectly.\n"
     ]
    },
    {
     "name": "stdin",
     "output_type": "stream",
     "text": [
      "WARN: Do you want to continue by ignoring any unobserved confounders? (use proceed_when_unidentifiable=True to disable this prompt) [y/n]  \n"
     ]
    },
    {
     "name": "stdout",
     "output_type": "stream",
     "text": [
      "Please respond with 'y' or 'n'\n"
     ]
    },
    {
     "name": "stdin",
     "output_type": "stream",
     "text": [
      "WARN: Do you want to continue by ignoring any unobserved confounders? (use proceed_when_unidentifiable=True to disable this prompt) [y/n]  y\n"
     ]
    },
    {
     "name": "stderr",
     "output_type": "stream",
     "text": [
      "INFO:dowhy.causal_identifier:Instrumental variables for treatment and outcome:[]\n",
      "INFO:dowhy.do_sampler:Using WeightingSampler for do sampling.\n",
      "INFO:dowhy.do_sampler:Caution: do samplers assume iid data.\n"
     ]
    }
   ],
   "source": [
    "do_df=(\n",
    "    df\n",
    "    .causal.do(\n",
    "        x='v0',outcome='y',common_causes=[ 'W0', 'W1', 'W2', 'W3', 'W4', 'W5', 'W6']\n",
    "        ,variable_types={\n",
    "            'v0':'b','y':'c','W0':'c', 'W1':'c', 'W2':'c'\n",
    "            , 'W3':'c', 'W4':'c', 'W5':'c', 'W6':'c'\n",
    "        }\n",
    "    )\n",
    ")"
   ]
  },
  {
   "cell_type": "code",
   "execution_count": 12,
   "metadata": {},
   "outputs": [
    {
     "data": {
      "image/png": "[encoded data removed]",
      "text/plain": [
       "<Figure size 432x288 with 1 Axes>"
      ]
     },
     "metadata": {
      "needs_background": "light"
     },
     "output_type": "display_data"
    }
   ],
   "source": [
    "# \n",
    "interventions = do_df.v0.unique()\n",
    "\n",
    "# Iterate through the five airlines\n",
    "for intervention in interventions:\n",
    "    # Subset to the airline\n",
    "    subset = do_df[do_df['v0'] == intervention]\n",
    "    \n",
    "    # Draw the density plot\n",
    "    sns.distplot(subset['y'], hist = False, kde = True,\n",
    "                 kde_kws = {'shade': True, 'linewidth': 3},\n",
    "                 label = intervention)"
   ]
  },
  {
   "cell_type": "code",
   "execution_count": 23,
   "metadata": {},
   "outputs": [
    {
     "name": "stdout",
     "output_type": "stream",
     "text": [
      "The Do Calculus ATE is: 13.553620\n"
     ]
    }
   ],
   "source": [
    "do_causal_estimate = do_df[do_df.v0==1]['y'].mean() - do_df[do_df.v0==0]['y'].mean()\n",
    "print('The Do Calculus ATE is: %f' % do_causal_estimate)"
   ]
  },
  {
   "cell_type": "markdown",
   "metadata": {},
   "source": [
    "## Features Usage and Appearance at Continuous Treatment Case"
   ]
  },
  {
   "cell_type": "markdown",
   "metadata": {},
   "source": [
    "Include some text here"
   ]
  },
  {
   "cell_type": "code",
   "execution_count": 24,
   "metadata": {},
   "outputs": [
    {
     "data": {
      "text/html": [
       "<div>\n",
       "<style scoped>\n",
       "    .dataframe tbody tr th:only-of-type {\n",
       "        vertical-align: middle;\n",
       "    }\n",
       "\n",
       "    .dataframe tbody tr th {\n",
       "        vertical-align: top;\n",
       "    }\n",
       "\n",
       "    .dataframe thead th {\n",
       "        text-align: right;\n",
       "    }\n",
       "</style>\n",
       "<table border=\"1\" class=\"dataframe\">\n",
       "  <thead>\n",
       "    <tr style=\"text-align: right;\">\n",
       "      <th></th>\n",
       "      <th>Z0</th>\n",
       "      <th>Z1</th>\n",
       "      <th>W0</th>\n",
       "      <th>W1</th>\n",
       "      <th>W2</th>\n",
       "      <th>W3</th>\n",
       "      <th>W4</th>\n",
       "      <th>v0</th>\n",
       "      <th>y</th>\n",
       "    </tr>\n",
       "  </thead>\n",
       "  <tbody>\n",
       "    <tr>\n",
       "      <th>0</th>\n",
       "      <td>1.0</td>\n",
       "      <td>0.368896</td>\n",
       "      <td>0.223476</td>\n",
       "      <td>-1.169021</td>\n",
       "      <td>-0.705733</td>\n",
       "      <td>0.770126</td>\n",
       "      <td>0.935941</td>\n",
       "      <td>18.424927</td>\n",
       "      <td>183.026586</td>\n",
       "    </tr>\n",
       "    <tr>\n",
       "      <th>1</th>\n",
       "      <td>0.0</td>\n",
       "      <td>0.270033</td>\n",
       "      <td>0.383104</td>\n",
       "      <td>-0.872248</td>\n",
       "      <td>0.091115</td>\n",
       "      <td>-2.485731</td>\n",
       "      <td>0.623226</td>\n",
       "      <td>1.732912</td>\n",
       "      <td>11.330908</td>\n",
       "    </tr>\n",
       "    <tr>\n",
       "      <th>2</th>\n",
       "      <td>1.0</td>\n",
       "      <td>0.331672</td>\n",
       "      <td>1.221587</td>\n",
       "      <td>-0.420538</td>\n",
       "      <td>-0.497468</td>\n",
       "      <td>-0.326123</td>\n",
       "      <td>0.878181</td>\n",
       "      <td>18.305279</td>\n",
       "      <td>183.892683</td>\n",
       "    </tr>\n",
       "    <tr>\n",
       "      <th>3</th>\n",
       "      <td>0.0</td>\n",
       "      <td>0.986795</td>\n",
       "      <td>1.498751</td>\n",
       "      <td>0.261141</td>\n",
       "      <td>0.495105</td>\n",
       "      <td>0.685878</td>\n",
       "      <td>1.315649</td>\n",
       "      <td>19.291454</td>\n",
       "      <td>203.012026</td>\n",
       "    </tr>\n",
       "    <tr>\n",
       "      <th>4</th>\n",
       "      <td>1.0</td>\n",
       "      <td>0.493341</td>\n",
       "      <td>-0.572875</td>\n",
       "      <td>0.796253</td>\n",
       "      <td>-0.497189</td>\n",
       "      <td>0.035276</td>\n",
       "      <td>-0.422926</td>\n",
       "      <td>9.935188</td>\n",
       "      <td>100.046975</td>\n",
       "    </tr>\n",
       "  </tbody>\n",
       "</table>\n",
       "</div>"
      ],
      "text/plain": [
       "    Z0        Z1        W0        W1        W2        W3        W4         v0  \\\n",
       "0  1.0  0.368896  0.223476 -1.169021 -0.705733  0.770126  0.935941  18.424927   \n",
       "1  0.0  0.270033  0.383104 -0.872248  0.091115 -2.485731  0.623226   1.732912   \n",
       "2  1.0  0.331672  1.221587 -0.420538 -0.497468 -0.326123  0.878181  18.305279   \n",
       "3  0.0  0.986795  1.498751  0.261141  0.495105  0.685878  1.315649  19.291454   \n",
       "4  1.0  0.493341 -0.572875  0.796253 -0.497189  0.035276 -0.422926   9.935188   \n",
       "\n",
       "            y  \n",
       "0  183.026586  \n",
       "1   11.330908  \n",
       "2  183.892683  \n",
       "3  203.012026  \n",
       "4  100.046975  "
      ]
     },
     "execution_count": 24,
     "metadata": {},
     "output_type": "execute_result"
    }
   ],
   "source": [
    "c_data = dowhy.datasets.linear_dataset(\n",
    "    beta=10, # causal coef\n",
    "    num_common_causes=5, # cofounders\n",
    "    num_instruments = 2, #vi\n",
    "    num_treatments=1, # treatment\n",
    "    num_samples=10000, # sample\n",
    "    treatment_is_binary=False,\n",
    "    outcome_is_binary=False\n",
    ")\n",
    "c_df = c_data[\"df\"]\n",
    "c_df.head()"
   ]
  },
  {
   "cell_type": "code",
   "execution_count": 27,
   "metadata": {},
   "outputs": [
    {
     "data": {
      "image/png": "[encoded data removed]",
      "text/plain": [
       "<Figure size 504x504 with 3 Axes>"
      ]
     },
     "metadata": {
      "needs_background": "light"
     },
     "output_type": "display_data"
    }
   ],
   "source": [
    "g = sns.jointplot(\"v0\", \"y\", data=c_df,\n",
    "                  kind=\"reg\", truncate=False,\n",
    "                 # xlim=(0, 60), ylim=(0, 12),\n",
    "                  color=\"m\", height=7)"
   ]
  },
  {
   "cell_type": "code",
   "execution_count": null,
   "metadata": {},
   "outputs": [],
   "source": []
  }
 ],
 "metadata": {
  "kernelspec": {
   "display_name": "Python 3",
   "language": "python",
   "name": "python3"
  },
  "language_info": {
   "codemirror_mode": {
    "name": "ipython",
    "version": 3
   },
   "file_extension": ".py",
   "mimetype": "text/x-python",
   "name": "python",
   "nbconvert_exporter": "python",
   "pygments_lexer": "ipython3",
   "version": "3.7.6"
  }
 },
 "nbformat": 4,
 "nbformat_minor": 4
}
