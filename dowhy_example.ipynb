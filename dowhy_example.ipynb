{
 "cells": [
  {
   "cell_type": "markdown",
   "metadata": {},
   "source": [
    "# Using DoWhy for Causal Inference in Observational Data"
   ]
  },
  {
   "cell_type": "markdown",
   "metadata": {},
   "source": [
    "## Intro\n",
    "\n",
    "This notebook aims to demonstrate the capabilites of using the Causal Framework to infer causal relationships from observational data, and the tools we have available to validate our conclusions, all of them powered by [Microsoft's DoWHy package](https://github.com/Microsoft/dowhy#id11).\n",
    "\n",
    "First, let us add the required path for Python to find the DoWhy code and load all required packages."
   ]
  },
  {
   "cell_type": "markdown",
   "metadata": {},
   "source": [
    "### Loading Packages and Dependencies"
   ]
  },
  {
   "cell_type": "code",
   "execution_count": 2,
   "metadata": {},
   "outputs": [],
   "source": [
    "#import os, sys\n",
    "#sys.path.append(os.path.abspath(\"../../../\"))"
   ]
  },
  {
   "cell_type": "code",
   "execution_count": 1,
   "metadata": {},
   "outputs": [],
   "source": [
    "import numpy as np\n",
    "import pandas as pd\n",
    "import seaborn as sns\n",
    "import matplotlib as plt\n",
    "# dowhy framework\n",
    "import dowhy\n",
    "import dowhy.api\n",
    "from dowhy import CausalModel\n",
    "import dowhy.datasets\n",
    "from dowhy.do_samplers.weighting_sampler import WeightingSampler"
   ]
  },
  {
   "cell_type": "markdown",
   "metadata": {},
   "source": [
    "## Classical Binary Treatment Case and DoWhy Possibilities"
   ]
  },
  {
   "cell_type": "markdown",
   "metadata": {},
   "source": [
    "Now, let us load a dataset. For simplicity, we simulate a dataset with linear relationships between common causes and treatment, common causes and outcome, and binary treatment on continuous outcome. (Obs.: beta is the true causal effect. )"
   ]
  },
  {
   "cell_type": "code",
   "execution_count": 8,
   "metadata": {
    "scrolled": true
   },
   "outputs": [
    {
     "data": {
      "text/html": [
       "<div>\n",
       "<style scoped>\n",
       "    .dataframe tbody tr th:only-of-type {\n",
       "        vertical-align: middle;\n",
       "    }\n",
       "\n",
       "    .dataframe tbody tr th {\n",
       "        vertical-align: top;\n",
       "    }\n",
       "\n",
       "    .dataframe thead th {\n",
       "        text-align: right;\n",
       "    }\n",
       "</style>\n",
       "<table border=\"1\" class=\"dataframe\">\n",
       "  <thead>\n",
       "    <tr style=\"text-align: right;\">\n",
       "      <th></th>\n",
       "      <th>Z0</th>\n",
       "      <th>Z1</th>\n",
       "      <th>W0</th>\n",
       "      <th>W1</th>\n",
       "      <th>W2</th>\n",
       "      <th>W3</th>\n",
       "      <th>W4</th>\n",
       "      <th>W5</th>\n",
       "      <th>W6</th>\n",
       "      <th>v0</th>\n",
       "      <th>y</th>\n",
       "    </tr>\n",
       "  </thead>\n",
       "  <tbody>\n",
       "    <tr>\n",
       "      <th>0</th>\n",
       "      <td>0.0</td>\n",
       "      <td>0.313718</td>\n",
       "      <td>-0.353159</td>\n",
       "      <td>1.573242</td>\n",
       "      <td>1.167338</td>\n",
       "      <td>-1.270361</td>\n",
       "      <td>0.972638</td>\n",
       "      <td>1.216200</td>\n",
       "      <td>-0.143037</td>\n",
       "      <td>True</td>\n",
       "      <td>25.378387</td>\n",
       "    </tr>\n",
       "    <tr>\n",
       "      <th>1</th>\n",
       "      <td>1.0</td>\n",
       "      <td>0.285723</td>\n",
       "      <td>0.711820</td>\n",
       "      <td>0.534953</td>\n",
       "      <td>0.581607</td>\n",
       "      <td>-1.098508</td>\n",
       "      <td>1.581972</td>\n",
       "      <td>-0.606891</td>\n",
       "      <td>0.924611</td>\n",
       "      <td>True</td>\n",
       "      <td>17.637897</td>\n",
       "    </tr>\n",
       "    <tr>\n",
       "      <th>2</th>\n",
       "      <td>1.0</td>\n",
       "      <td>0.747737</td>\n",
       "      <td>1.257279</td>\n",
       "      <td>0.322854</td>\n",
       "      <td>-0.087815</td>\n",
       "      <td>1.097296</td>\n",
       "      <td>-1.306569</td>\n",
       "      <td>0.083018</td>\n",
       "      <td>-1.140140</td>\n",
       "      <td>True</td>\n",
       "      <td>7.503461</td>\n",
       "    </tr>\n",
       "    <tr>\n",
       "      <th>3</th>\n",
       "      <td>1.0</td>\n",
       "      <td>0.673285</td>\n",
       "      <td>0.805833</td>\n",
       "      <td>0.008666</td>\n",
       "      <td>1.681053</td>\n",
       "      <td>-0.313155</td>\n",
       "      <td>1.776789</td>\n",
       "      <td>-0.941223</td>\n",
       "      <td>-0.483612</td>\n",
       "      <td>True</td>\n",
       "      <td>14.636521</td>\n",
       "    </tr>\n",
       "    <tr>\n",
       "      <th>4</th>\n",
       "      <td>0.0</td>\n",
       "      <td>0.134164</td>\n",
       "      <td>0.477748</td>\n",
       "      <td>0.097975</td>\n",
       "      <td>1.150387</td>\n",
       "      <td>0.419858</td>\n",
       "      <td>1.210495</td>\n",
       "      <td>-0.370777</td>\n",
       "      <td>3.004295</td>\n",
       "      <td>True</td>\n",
       "      <td>29.761448</td>\n",
       "    </tr>\n",
       "  </tbody>\n",
       "</table>\n",
       "</div>"
      ],
      "text/plain": [
       "    Z0        Z1        W0        W1        W2        W3        W4        W5  \\\n",
       "0  0.0  0.313718 -0.353159  1.573242  1.167338 -1.270361  0.972638  1.216200   \n",
       "1  1.0  0.285723  0.711820  0.534953  0.581607 -1.098508  1.581972 -0.606891   \n",
       "2  1.0  0.747737  1.257279  0.322854 -0.087815  1.097296 -1.306569  0.083018   \n",
       "3  1.0  0.673285  0.805833  0.008666  1.681053 -0.313155  1.776789 -0.941223   \n",
       "4  0.0  0.134164  0.477748  0.097975  1.150387  0.419858  1.210495 -0.370777   \n",
       "\n",
       "         W6    v0          y  \n",
       "0 -0.143037  True  25.378387  \n",
       "1  0.924611  True  17.637897  \n",
       "2 -1.140140  True   7.503461  \n",
       "3 -0.483612  True  14.636521  \n",
       "4  3.004295  True  29.761448  "
      ]
     },
     "execution_count": 8,
     "metadata": {},
     "output_type": "execute_result"
    }
   ],
   "source": [
    "data = dowhy.datasets.linear_dataset(\n",
    "    beta=10 # causal coef\n",
    "    , num_common_causes=7 # cofounders\n",
    "    , num_instruments = 2 #vi\n",
    "    , num_treatments=1 # treatment\n",
    "    , num_samples=10000 # sample\n",
    "    , treatment_is_binary=True\n",
    "    , outcome_is_binary=False\n",
    ")\n",
    "df = data[\"df\"]\n",
    "df.head()"
   ]
  },
  {
   "cell_type": "markdown",
   "metadata": {},
   "source": [
    "## Data Exploration"
   ]
  },
  {
   "cell_type": "markdown",
   "metadata": {},
   "source": [
    "A few brief exploration on the synthetic dataset to understand how it looks like"
   ]
  },
  {
   "cell_type": "code",
   "execution_count": 4,
   "metadata": {},
   "outputs": [
    {
     "name": "stdout",
     "output_type": "stream",
     "text": [
      "<class 'pandas.core.frame.DataFrame'>\n",
      "RangeIndex: 10000 entries, 0 to 9999\n",
      "Data columns (total 11 columns):\n",
      " #   Column  Non-Null Count  Dtype  \n",
      "---  ------  --------------  -----  \n",
      " 0   Z0      10000 non-null  float64\n",
      " 1   Z1      10000 non-null  float64\n",
      " 2   W0      10000 non-null  float64\n",
      " 3   W1      10000 non-null  float64\n",
      " 4   W2      10000 non-null  float64\n",
      " 5   W3      10000 non-null  float64\n",
      " 6   W4      10000 non-null  float64\n",
      " 7   W5      10000 non-null  float64\n",
      " 8   W6      10000 non-null  float64\n",
      " 9   v0      10000 non-null  bool   \n",
      " 10  y       10000 non-null  float64\n",
      "dtypes: bool(1), float64(10)\n",
      "memory usage: 791.1 KB\n"
     ]
    }
   ],
   "source": [
    "df.info()"
   ]
  },
  {
   "cell_type": "code",
   "execution_count": 5,
   "metadata": {},
   "outputs": [
    {
     "data": {
      "text/html": [
       "<style  type=\"text/css\" >\n",
       "    #T_b82e41e8_9405_11ea_ac2a_0242ac110002row0_col0 {\n",
       "            background-color:  #b40426;\n",
       "            color:  #f1f1f1;\n",
       "        }    #T_b82e41e8_9405_11ea_ac2a_0242ac110002row0_col1 {\n",
       "            background-color:  #3c4ec2;\n",
       "            color:  #f1f1f1;\n",
       "        }    #T_b82e41e8_9405_11ea_ac2a_0242ac110002row0_col2 {\n",
       "            background-color:  #3f53c6;\n",
       "            color:  #f1f1f1;\n",
       "        }    #T_b82e41e8_9405_11ea_ac2a_0242ac110002row0_col3 {\n",
       "            background-color:  #3b4cc0;\n",
       "            color:  #f1f1f1;\n",
       "        }    #T_b82e41e8_9405_11ea_ac2a_0242ac110002row0_col4 {\n",
       "            background-color:  #3b4cc0;\n",
       "            color:  #f1f1f1;\n",
       "        }    #T_b82e41e8_9405_11ea_ac2a_0242ac110002row0_col5 {\n",
       "            background-color:  #3c4ec2;\n",
       "            color:  #f1f1f1;\n",
       "        }    #T_b82e41e8_9405_11ea_ac2a_0242ac110002row0_col6 {\n",
       "            background-color:  #4055c8;\n",
       "            color:  #f1f1f1;\n",
       "        }    #T_b82e41e8_9405_11ea_ac2a_0242ac110002row0_col7 {\n",
       "            background-color:  #3c4ec2;\n",
       "            color:  #f1f1f1;\n",
       "        }    #T_b82e41e8_9405_11ea_ac2a_0242ac110002row0_col8 {\n",
       "            background-color:  #3e51c5;\n",
       "            color:  #f1f1f1;\n",
       "        }    #T_b82e41e8_9405_11ea_ac2a_0242ac110002row0_col9 {\n",
       "            background-color:  #7093f3;\n",
       "            color:  #000000;\n",
       "        }    #T_b82e41e8_9405_11ea_ac2a_0242ac110002row0_col10 {\n",
       "            background-color:  #3b4cc0;\n",
       "            color:  #f1f1f1;\n",
       "        }    #T_b82e41e8_9405_11ea_ac2a_0242ac110002row1_col0 {\n",
       "            background-color:  #3c4ec2;\n",
       "            color:  #f1f1f1;\n",
       "        }    #T_b82e41e8_9405_11ea_ac2a_0242ac110002row1_col1 {\n",
       "            background-color:  #b40426;\n",
       "            color:  #f1f1f1;\n",
       "        }    #T_b82e41e8_9405_11ea_ac2a_0242ac110002row1_col2 {\n",
       "            background-color:  #3d50c3;\n",
       "            color:  #f1f1f1;\n",
       "        }    #T_b82e41e8_9405_11ea_ac2a_0242ac110002row1_col3 {\n",
       "            background-color:  #4055c8;\n",
       "            color:  #f1f1f1;\n",
       "        }    #T_b82e41e8_9405_11ea_ac2a_0242ac110002row1_col4 {\n",
       "            background-color:  #3b4cc0;\n",
       "            color:  #f1f1f1;\n",
       "        }    #T_b82e41e8_9405_11ea_ac2a_0242ac110002row1_col5 {\n",
       "            background-color:  #3b4cc0;\n",
       "            color:  #f1f1f1;\n",
       "        }    #T_b82e41e8_9405_11ea_ac2a_0242ac110002row1_col6 {\n",
       "            background-color:  #3b4cc0;\n",
       "            color:  #f1f1f1;\n",
       "        }    #T_b82e41e8_9405_11ea_ac2a_0242ac110002row1_col7 {\n",
       "            background-color:  #3d50c3;\n",
       "            color:  #f1f1f1;\n",
       "        }    #T_b82e41e8_9405_11ea_ac2a_0242ac110002row1_col8 {\n",
       "            background-color:  #3b4cc0;\n",
       "            color:  #f1f1f1;\n",
       "        }    #T_b82e41e8_9405_11ea_ac2a_0242ac110002row1_col9 {\n",
       "            background-color:  #80a3fa;\n",
       "            color:  #000000;\n",
       "        }    #T_b82e41e8_9405_11ea_ac2a_0242ac110002row1_col10 {\n",
       "            background-color:  #4055c8;\n",
       "            color:  #f1f1f1;\n",
       "        }    #T_b82e41e8_9405_11ea_ac2a_0242ac110002row2_col0 {\n",
       "            background-color:  #4055c8;\n",
       "            color:  #f1f1f1;\n",
       "        }    #T_b82e41e8_9405_11ea_ac2a_0242ac110002row2_col1 {\n",
       "            background-color:  #3e51c5;\n",
       "            color:  #f1f1f1;\n",
       "        }    #T_b82e41e8_9405_11ea_ac2a_0242ac110002row2_col2 {\n",
       "            background-color:  #b40426;\n",
       "            color:  #f1f1f1;\n",
       "        }    #T_b82e41e8_9405_11ea_ac2a_0242ac110002row2_col3 {\n",
       "            background-color:  #4257c9;\n",
       "            color:  #f1f1f1;\n",
       "        }    #T_b82e41e8_9405_11ea_ac2a_0242ac110002row2_col4 {\n",
       "            background-color:  #3f53c6;\n",
       "            color:  #f1f1f1;\n",
       "        }    #T_b82e41e8_9405_11ea_ac2a_0242ac110002row2_col5 {\n",
       "            background-color:  #3e51c5;\n",
       "            color:  #f1f1f1;\n",
       "        }    #T_b82e41e8_9405_11ea_ac2a_0242ac110002row2_col6 {\n",
       "            background-color:  #3c4ec2;\n",
       "            color:  #f1f1f1;\n",
       "        }    #T_b82e41e8_9405_11ea_ac2a_0242ac110002row2_col7 {\n",
       "            background-color:  #4055c8;\n",
       "            color:  #f1f1f1;\n",
       "        }    #T_b82e41e8_9405_11ea_ac2a_0242ac110002row2_col8 {\n",
       "            background-color:  #3f53c6;\n",
       "            color:  #f1f1f1;\n",
       "        }    #T_b82e41e8_9405_11ea_ac2a_0242ac110002row2_col9 {\n",
       "            background-color:  #9ebeff;\n",
       "            color:  #000000;\n",
       "        }    #T_b82e41e8_9405_11ea_ac2a_0242ac110002row2_col10 {\n",
       "            background-color:  #6687ed;\n",
       "            color:  #000000;\n",
       "        }    #T_b82e41e8_9405_11ea_ac2a_0242ac110002row3_col0 {\n",
       "            background-color:  #3b4cc0;\n",
       "            color:  #f1f1f1;\n",
       "        }    #T_b82e41e8_9405_11ea_ac2a_0242ac110002row3_col1 {\n",
       "            background-color:  #4055c8;\n",
       "            color:  #f1f1f1;\n",
       "        }    #T_b82e41e8_9405_11ea_ac2a_0242ac110002row3_col2 {\n",
       "            background-color:  #4055c8;\n",
       "            color:  #f1f1f1;\n",
       "        }    #T_b82e41e8_9405_11ea_ac2a_0242ac110002row3_col3 {\n",
       "            background-color:  #b40426;\n",
       "            color:  #f1f1f1;\n",
       "        }    #T_b82e41e8_9405_11ea_ac2a_0242ac110002row3_col4 {\n",
       "            background-color:  #445acc;\n",
       "            color:  #f1f1f1;\n",
       "        }    #T_b82e41e8_9405_11ea_ac2a_0242ac110002row3_col5 {\n",
       "            background-color:  #3d50c3;\n",
       "            color:  #f1f1f1;\n",
       "        }    #T_b82e41e8_9405_11ea_ac2a_0242ac110002row3_col6 {\n",
       "            background-color:  #3c4ec2;\n",
       "            color:  #f1f1f1;\n",
       "        }    #T_b82e41e8_9405_11ea_ac2a_0242ac110002row3_col7 {\n",
       "            background-color:  #3f53c6;\n",
       "            color:  #f1f1f1;\n",
       "        }    #T_b82e41e8_9405_11ea_ac2a_0242ac110002row3_col8 {\n",
       "            background-color:  #3f53c6;\n",
       "            color:  #f1f1f1;\n",
       "        }    #T_b82e41e8_9405_11ea_ac2a_0242ac110002row3_col9 {\n",
       "            background-color:  #7295f4;\n",
       "            color:  #000000;\n",
       "        }    #T_b82e41e8_9405_11ea_ac2a_0242ac110002row3_col10 {\n",
       "            background-color:  #92b4fe;\n",
       "            color:  #000000;\n",
       "        }    #T_b82e41e8_9405_11ea_ac2a_0242ac110002row4_col0 {\n",
       "            background-color:  #3b4cc0;\n",
       "            color:  #f1f1f1;\n",
       "        }    #T_b82e41e8_9405_11ea_ac2a_0242ac110002row4_col1 {\n",
       "            background-color:  #3b4cc0;\n",
       "            color:  #f1f1f1;\n",
       "        }    #T_b82e41e8_9405_11ea_ac2a_0242ac110002row4_col2 {\n",
       "            background-color:  #3e51c5;\n",
       "            color:  #f1f1f1;\n",
       "        }    #T_b82e41e8_9405_11ea_ac2a_0242ac110002row4_col3 {\n",
       "            background-color:  #455cce;\n",
       "            color:  #f1f1f1;\n",
       "        }    #T_b82e41e8_9405_11ea_ac2a_0242ac110002row4_col4 {\n",
       "            background-color:  #b40426;\n",
       "            color:  #f1f1f1;\n",
       "        }    #T_b82e41e8_9405_11ea_ac2a_0242ac110002row4_col5 {\n",
       "            background-color:  #3d50c3;\n",
       "            color:  #f1f1f1;\n",
       "        }    #T_b82e41e8_9405_11ea_ac2a_0242ac110002row4_col6 {\n",
       "            background-color:  #3d50c3;\n",
       "            color:  #f1f1f1;\n",
       "        }    #T_b82e41e8_9405_11ea_ac2a_0242ac110002row4_col7 {\n",
       "            background-color:  #3d50c3;\n",
       "            color:  #f1f1f1;\n",
       "        }    #T_b82e41e8_9405_11ea_ac2a_0242ac110002row4_col8 {\n",
       "            background-color:  #3e51c5;\n",
       "            color:  #f1f1f1;\n",
       "        }    #T_b82e41e8_9405_11ea_ac2a_0242ac110002row4_col9 {\n",
       "            background-color:  #5e7de7;\n",
       "            color:  #000000;\n",
       "        }    #T_b82e41e8_9405_11ea_ac2a_0242ac110002row4_col10 {\n",
       "            background-color:  #dfdbd9;\n",
       "            color:  #000000;\n",
       "        }    #T_b82e41e8_9405_11ea_ac2a_0242ac110002row5_col0 {\n",
       "            background-color:  #3d50c3;\n",
       "            color:  #f1f1f1;\n",
       "        }    #T_b82e41e8_9405_11ea_ac2a_0242ac110002row5_col1 {\n",
       "            background-color:  #3b4cc0;\n",
       "            color:  #f1f1f1;\n",
       "        }    #T_b82e41e8_9405_11ea_ac2a_0242ac110002row5_col2 {\n",
       "            background-color:  #3d50c3;\n",
       "            color:  #f1f1f1;\n",
       "        }    #T_b82e41e8_9405_11ea_ac2a_0242ac110002row5_col3 {\n",
       "            background-color:  #3d50c3;\n",
       "            color:  #f1f1f1;\n",
       "        }    #T_b82e41e8_9405_11ea_ac2a_0242ac110002row5_col4 {\n",
       "            background-color:  #3d50c3;\n",
       "            color:  #f1f1f1;\n",
       "        }    #T_b82e41e8_9405_11ea_ac2a_0242ac110002row5_col5 {\n",
       "            background-color:  #b40426;\n",
       "            color:  #f1f1f1;\n",
       "        }    #T_b82e41e8_9405_11ea_ac2a_0242ac110002row5_col6 {\n",
       "            background-color:  #4257c9;\n",
       "            color:  #f1f1f1;\n",
       "        }    #T_b82e41e8_9405_11ea_ac2a_0242ac110002row5_col7 {\n",
       "            background-color:  #465ecf;\n",
       "            color:  #f1f1f1;\n",
       "        }    #T_b82e41e8_9405_11ea_ac2a_0242ac110002row5_col8 {\n",
       "            background-color:  #4257c9;\n",
       "            color:  #f1f1f1;\n",
       "        }    #T_b82e41e8_9405_11ea_ac2a_0242ac110002row5_col9 {\n",
       "            background-color:  #465ecf;\n",
       "            color:  #f1f1f1;\n",
       "        }    #T_b82e41e8_9405_11ea_ac2a_0242ac110002row5_col10 {\n",
       "            background-color:  #3b4cc0;\n",
       "            color:  #f1f1f1;\n",
       "        }    #T_b82e41e8_9405_11ea_ac2a_0242ac110002row6_col0 {\n",
       "            background-color:  #4055c8;\n",
       "            color:  #f1f1f1;\n",
       "        }    #T_b82e41e8_9405_11ea_ac2a_0242ac110002row6_col1 {\n",
       "            background-color:  #3b4cc0;\n",
       "            color:  #f1f1f1;\n",
       "        }    #T_b82e41e8_9405_11ea_ac2a_0242ac110002row6_col2 {\n",
       "            background-color:  #3b4cc0;\n",
       "            color:  #f1f1f1;\n",
       "        }    #T_b82e41e8_9405_11ea_ac2a_0242ac110002row6_col3 {\n",
       "            background-color:  #3c4ec2;\n",
       "            color:  #f1f1f1;\n",
       "        }    #T_b82e41e8_9405_11ea_ac2a_0242ac110002row6_col4 {\n",
       "            background-color:  #3d50c3;\n",
       "            color:  #f1f1f1;\n",
       "        }    #T_b82e41e8_9405_11ea_ac2a_0242ac110002row6_col5 {\n",
       "            background-color:  #4257c9;\n",
       "            color:  #f1f1f1;\n",
       "        }    #T_b82e41e8_9405_11ea_ac2a_0242ac110002row6_col6 {\n",
       "            background-color:  #b40426;\n",
       "            color:  #f1f1f1;\n",
       "        }    #T_b82e41e8_9405_11ea_ac2a_0242ac110002row6_col7 {\n",
       "            background-color:  #3b4cc0;\n",
       "            color:  #f1f1f1;\n",
       "        }    #T_b82e41e8_9405_11ea_ac2a_0242ac110002row6_col8 {\n",
       "            background-color:  #3d50c3;\n",
       "            color:  #f1f1f1;\n",
       "        }    #T_b82e41e8_9405_11ea_ac2a_0242ac110002row6_col9 {\n",
       "            background-color:  #506bda;\n",
       "            color:  #000000;\n",
       "        }    #T_b82e41e8_9405_11ea_ac2a_0242ac110002row6_col10 {\n",
       "            background-color:  #5470de;\n",
       "            color:  #000000;\n",
       "        }    #T_b82e41e8_9405_11ea_ac2a_0242ac110002row7_col0 {\n",
       "            background-color:  #3d50c3;\n",
       "            color:  #f1f1f1;\n",
       "        }    #T_b82e41e8_9405_11ea_ac2a_0242ac110002row7_col1 {\n",
       "            background-color:  #3e51c5;\n",
       "            color:  #f1f1f1;\n",
       "        }    #T_b82e41e8_9405_11ea_ac2a_0242ac110002row7_col2 {\n",
       "            background-color:  #4055c8;\n",
       "            color:  #f1f1f1;\n",
       "        }    #T_b82e41e8_9405_11ea_ac2a_0242ac110002row7_col3 {\n",
       "            background-color:  #4257c9;\n",
       "            color:  #f1f1f1;\n",
       "        }    #T_b82e41e8_9405_11ea_ac2a_0242ac110002row7_col4 {\n",
       "            background-color:  #3e51c5;\n",
       "            color:  #f1f1f1;\n",
       "        }    #T_b82e41e8_9405_11ea_ac2a_0242ac110002row7_col5 {\n",
       "            background-color:  #485fd1;\n",
       "            color:  #f1f1f1;\n",
       "        }    #T_b82e41e8_9405_11ea_ac2a_0242ac110002row7_col6 {\n",
       "            background-color:  #3c4ec2;\n",
       "            color:  #f1f1f1;\n",
       "        }    #T_b82e41e8_9405_11ea_ac2a_0242ac110002row7_col7 {\n",
       "            background-color:  #b40426;\n",
       "            color:  #f1f1f1;\n",
       "        }    #T_b82e41e8_9405_11ea_ac2a_0242ac110002row7_col8 {\n",
       "            background-color:  #3b4cc0;\n",
       "            color:  #f1f1f1;\n",
       "        }    #T_b82e41e8_9405_11ea_ac2a_0242ac110002row7_col9 {\n",
       "            background-color:  #8db0fe;\n",
       "            color:  #000000;\n",
       "        }    #T_b82e41e8_9405_11ea_ac2a_0242ac110002row7_col10 {\n",
       "            background-color:  #f7bca1;\n",
       "            color:  #000000;\n",
       "        }    #T_b82e41e8_9405_11ea_ac2a_0242ac110002row8_col0 {\n",
       "            background-color:  #3f53c6;\n",
       "            color:  #f1f1f1;\n",
       "        }    #T_b82e41e8_9405_11ea_ac2a_0242ac110002row8_col1 {\n",
       "            background-color:  #3c4ec2;\n",
       "            color:  #f1f1f1;\n",
       "        }    #T_b82e41e8_9405_11ea_ac2a_0242ac110002row8_col2 {\n",
       "            background-color:  #4055c8;\n",
       "            color:  #f1f1f1;\n",
       "        }    #T_b82e41e8_9405_11ea_ac2a_0242ac110002row8_col3 {\n",
       "            background-color:  #4055c8;\n",
       "            color:  #f1f1f1;\n",
       "        }    #T_b82e41e8_9405_11ea_ac2a_0242ac110002row8_col4 {\n",
       "            background-color:  #3f53c6;\n",
       "            color:  #f1f1f1;\n",
       "        }    #T_b82e41e8_9405_11ea_ac2a_0242ac110002row8_col5 {\n",
       "            background-color:  #445acc;\n",
       "            color:  #f1f1f1;\n",
       "        }    #T_b82e41e8_9405_11ea_ac2a_0242ac110002row8_col6 {\n",
       "            background-color:  #3f53c6;\n",
       "            color:  #f1f1f1;\n",
       "        }    #T_b82e41e8_9405_11ea_ac2a_0242ac110002row8_col7 {\n",
       "            background-color:  #3c4ec2;\n",
       "            color:  #f1f1f1;\n",
       "        }    #T_b82e41e8_9405_11ea_ac2a_0242ac110002row8_col8 {\n",
       "            background-color:  #b40426;\n",
       "            color:  #f1f1f1;\n",
       "        }    #T_b82e41e8_9405_11ea_ac2a_0242ac110002row8_col9 {\n",
       "            background-color:  #3b4cc0;\n",
       "            color:  #f1f1f1;\n",
       "        }    #T_b82e41e8_9405_11ea_ac2a_0242ac110002row8_col10 {\n",
       "            background-color:  #5d7ce6;\n",
       "            color:  #000000;\n",
       "        }    #T_b82e41e8_9405_11ea_ac2a_0242ac110002row9_col0 {\n",
       "            background-color:  #7295f4;\n",
       "            color:  #000000;\n",
       "        }    #T_b82e41e8_9405_11ea_ac2a_0242ac110002row9_col1 {\n",
       "            background-color:  #81a4fb;\n",
       "            color:  #000000;\n",
       "        }    #T_b82e41e8_9405_11ea_ac2a_0242ac110002row9_col2 {\n",
       "            background-color:  #9ebeff;\n",
       "            color:  #000000;\n",
       "        }    #T_b82e41e8_9405_11ea_ac2a_0242ac110002row9_col3 {\n",
       "            background-color:  #7597f6;\n",
       "            color:  #000000;\n",
       "        }    #T_b82e41e8_9405_11ea_ac2a_0242ac110002row9_col4 {\n",
       "            background-color:  #5f7fe8;\n",
       "            color:  #000000;\n",
       "        }    #T_b82e41e8_9405_11ea_ac2a_0242ac110002row9_col5 {\n",
       "            background-color:  #485fd1;\n",
       "            color:  #f1f1f1;\n",
       "        }    #T_b82e41e8_9405_11ea_ac2a_0242ac110002row9_col6 {\n",
       "            background-color:  #516ddb;\n",
       "            color:  #000000;\n",
       "        }    #T_b82e41e8_9405_11ea_ac2a_0242ac110002row9_col7 {\n",
       "            background-color:  #8db0fe;\n",
       "            color:  #000000;\n",
       "        }    #T_b82e41e8_9405_11ea_ac2a_0242ac110002row9_col8 {\n",
       "            background-color:  #3b4cc0;\n",
       "            color:  #f1f1f1;\n",
       "        }    #T_b82e41e8_9405_11ea_ac2a_0242ac110002row9_col9 {\n",
       "            background-color:  #b40426;\n",
       "            color:  #f1f1f1;\n",
       "        }    #T_b82e41e8_9405_11ea_ac2a_0242ac110002row9_col10 {\n",
       "            background-color:  #f3c8b2;\n",
       "            color:  #000000;\n",
       "        }    #T_b82e41e8_9405_11ea_ac2a_0242ac110002row10_col0 {\n",
       "            background-color:  #4e68d8;\n",
       "            color:  #000000;\n",
       "        }    #T_b82e41e8_9405_11ea_ac2a_0242ac110002row10_col1 {\n",
       "            background-color:  #5470de;\n",
       "            color:  #000000;\n",
       "        }    #T_b82e41e8_9405_11ea_ac2a_0242ac110002row10_col2 {\n",
       "            background-color:  #779af7;\n",
       "            color:  #000000;\n",
       "        }    #T_b82e41e8_9405_11ea_ac2a_0242ac110002row10_col3 {\n",
       "            background-color:  #a1c0ff;\n",
       "            color:  #000000;\n",
       "        }    #T_b82e41e8_9405_11ea_ac2a_0242ac110002row10_col4 {\n",
       "            background-color:  #e7d7ce;\n",
       "            color:  #000000;\n",
       "        }    #T_b82e41e8_9405_11ea_ac2a_0242ac110002row10_col5 {\n",
       "            background-color:  #4c66d6;\n",
       "            color:  #000000;\n",
       "        }    #T_b82e41e8_9405_11ea_ac2a_0242ac110002row10_col6 {\n",
       "            background-color:  #6788ee;\n",
       "            color:  #000000;\n",
       "        }    #T_b82e41e8_9405_11ea_ac2a_0242ac110002row10_col7 {\n",
       "            background-color:  #f7b599;\n",
       "            color:  #000000;\n",
       "        }    #T_b82e41e8_9405_11ea_ac2a_0242ac110002row10_col8 {\n",
       "            background-color:  #6e90f2;\n",
       "            color:  #000000;\n",
       "        }    #T_b82e41e8_9405_11ea_ac2a_0242ac110002row10_col9 {\n",
       "            background-color:  #f5c2aa;\n",
       "            color:  #000000;\n",
       "        }    #T_b82e41e8_9405_11ea_ac2a_0242ac110002row10_col10 {\n",
       "            background-color:  #b40426;\n",
       "            color:  #f1f1f1;\n",
       "        }</style><table id=\"T_b82e41e8_9405_11ea_ac2a_0242ac110002\" ><thead>    <tr>        <th class=\"blank level0\" ></th>        <th class=\"col_heading level0 col0\" >Z0</th>        <th class=\"col_heading level0 col1\" >Z1</th>        <th class=\"col_heading level0 col2\" >W0</th>        <th class=\"col_heading level0 col3\" >W1</th>        <th class=\"col_heading level0 col4\" >W2</th>        <th class=\"col_heading level0 col5\" >W3</th>        <th class=\"col_heading level0 col6\" >W4</th>        <th class=\"col_heading level0 col7\" >W5</th>        <th class=\"col_heading level0 col8\" >W6</th>        <th class=\"col_heading level0 col9\" >v0</th>        <th class=\"col_heading level0 col10\" >y</th>    </tr></thead><tbody>\n",
       "                <tr>\n",
       "                        <th id=\"T_b82e41e8_9405_11ea_ac2a_0242ac110002level0_row0\" class=\"row_heading level0 row0\" >Z0</th>\n",
       "                        <td id=\"T_b82e41e8_9405_11ea_ac2a_0242ac110002row0_col0\" class=\"data row0 col0\" >1.000000</td>\n",
       "                        <td id=\"T_b82e41e8_9405_11ea_ac2a_0242ac110002row0_col1\" class=\"data row0 col1\" >-0.007829</td>\n",
       "                        <td id=\"T_b82e41e8_9405_11ea_ac2a_0242ac110002row0_col2\" class=\"data row0 col2\" >0.008773</td>\n",
       "                        <td id=\"T_b82e41e8_9405_11ea_ac2a_0242ac110002row0_col3\" class=\"data row0 col3\" >-0.014901</td>\n",
       "                        <td id=\"T_b82e41e8_9405_11ea_ac2a_0242ac110002row0_col4\" class=\"data row0 col4\" >-0.014220</td>\n",
       "                        <td id=\"T_b82e41e8_9405_11ea_ac2a_0242ac110002row0_col5\" class=\"data row0 col5\" >-0.006646</td>\n",
       "                        <td id=\"T_b82e41e8_9405_11ea_ac2a_0242ac110002row0_col6\" class=\"data row0 col6\" >0.005577</td>\n",
       "                        <td id=\"T_b82e41e8_9405_11ea_ac2a_0242ac110002row0_col7\" class=\"data row0 col7\" >-0.004712</td>\n",
       "                        <td id=\"T_b82e41e8_9405_11ea_ac2a_0242ac110002row0_col8\" class=\"data row0 col8\" >0.003365</td>\n",
       "                        <td id=\"T_b82e41e8_9405_11ea_ac2a_0242ac110002row0_col9\" class=\"data row0 col9\" >0.162369</td>\n",
       "                        <td id=\"T_b82e41e8_9405_11ea_ac2a_0242ac110002row0_col10\" class=\"data row0 col10\" >0.049351</td>\n",
       "            </tr>\n",
       "            <tr>\n",
       "                        <th id=\"T_b82e41e8_9405_11ea_ac2a_0242ac110002level0_row1\" class=\"row_heading level0 row1\" >Z1</th>\n",
       "                        <td id=\"T_b82e41e8_9405_11ea_ac2a_0242ac110002row1_col0\" class=\"data row1 col0\" >-0.007829</td>\n",
       "                        <td id=\"T_b82e41e8_9405_11ea_ac2a_0242ac110002row1_col1\" class=\"data row1 col1\" >1.000000</td>\n",
       "                        <td id=\"T_b82e41e8_9405_11ea_ac2a_0242ac110002row1_col2\" class=\"data row1 col2\" >-0.000658</td>\n",
       "                        <td id=\"T_b82e41e8_9405_11ea_ac2a_0242ac110002row1_col3\" class=\"data row1 col3\" >0.005153</td>\n",
       "                        <td id=\"T_b82e41e8_9405_11ea_ac2a_0242ac110002row1_col4\" class=\"data row1 col4\" >-0.011391</td>\n",
       "                        <td id=\"T_b82e41e8_9405_11ea_ac2a_0242ac110002row1_col5\" class=\"data row1 col5\" >-0.013721</td>\n",
       "                        <td id=\"T_b82e41e8_9405_11ea_ac2a_0242ac110002row1_col6\" class=\"data row1 col6\" >-0.014710</td>\n",
       "                        <td id=\"T_b82e41e8_9405_11ea_ac2a_0242ac110002row1_col7\" class=\"data row1 col7\" >0.001056</td>\n",
       "                        <td id=\"T_b82e41e8_9405_11ea_ac2a_0242ac110002row1_col8\" class=\"data row1 col8\" >-0.008902</td>\n",
       "                        <td id=\"T_b82e41e8_9405_11ea_ac2a_0242ac110002row1_col9\" class=\"data row1 col9\" >0.206644</td>\n",
       "                        <td id=\"T_b82e41e8_9405_11ea_ac2a_0242ac110002row1_col10\" class=\"data row1 col10\" >0.070045</td>\n",
       "            </tr>\n",
       "            <tr>\n",
       "                        <th id=\"T_b82e41e8_9405_11ea_ac2a_0242ac110002level0_row2\" class=\"row_heading level0 row2\" >W0</th>\n",
       "                        <td id=\"T_b82e41e8_9405_11ea_ac2a_0242ac110002row2_col0\" class=\"data row2 col0\" >0.008773</td>\n",
       "                        <td id=\"T_b82e41e8_9405_11ea_ac2a_0242ac110002row2_col1\" class=\"data row2 col1\" >-0.000658</td>\n",
       "                        <td id=\"T_b82e41e8_9405_11ea_ac2a_0242ac110002row2_col2\" class=\"data row2 col2\" >1.000000</td>\n",
       "                        <td id=\"T_b82e41e8_9405_11ea_ac2a_0242ac110002row2_col3\" class=\"data row2 col3\" >0.011453</td>\n",
       "                        <td id=\"T_b82e41e8_9405_11ea_ac2a_0242ac110002row2_col4\" class=\"data row2 col4\" >0.004680</td>\n",
       "                        <td id=\"T_b82e41e8_9405_11ea_ac2a_0242ac110002row2_col5\" class=\"data row2 col5\" >0.000002</td>\n",
       "                        <td id=\"T_b82e41e8_9405_11ea_ac2a_0242ac110002row2_col6\" class=\"data row2 col6\" >-0.010121</td>\n",
       "                        <td id=\"T_b82e41e8_9405_11ea_ac2a_0242ac110002row2_col7\" class=\"data row2 col7\" >0.013356</td>\n",
       "                        <td id=\"T_b82e41e8_9405_11ea_ac2a_0242ac110002row2_col8\" class=\"data row2 col8\" >0.009672</td>\n",
       "                        <td id=\"T_b82e41e8_9405_11ea_ac2a_0242ac110002row2_col9\" class=\"data row2 col9\" >0.291642</td>\n",
       "                        <td id=\"T_b82e41e8_9405_11ea_ac2a_0242ac110002row2_col10\" class=\"data row2 col10\" >0.181924</td>\n",
       "            </tr>\n",
       "            <tr>\n",
       "                        <th id=\"T_b82e41e8_9405_11ea_ac2a_0242ac110002level0_row3\" class=\"row_heading level0 row3\" >W1</th>\n",
       "                        <td id=\"T_b82e41e8_9405_11ea_ac2a_0242ac110002row3_col0\" class=\"data row3 col0\" >-0.014901</td>\n",
       "                        <td id=\"T_b82e41e8_9405_11ea_ac2a_0242ac110002row3_col1\" class=\"data row3 col1\" >0.005153</td>\n",
       "                        <td id=\"T_b82e41e8_9405_11ea_ac2a_0242ac110002row3_col2\" class=\"data row3 col2\" >0.011453</td>\n",
       "                        <td id=\"T_b82e41e8_9405_11ea_ac2a_0242ac110002row3_col3\" class=\"data row3 col3\" >1.000000</td>\n",
       "                        <td id=\"T_b82e41e8_9405_11ea_ac2a_0242ac110002row3_col4\" class=\"data row3 col4\" >0.021270</td>\n",
       "                        <td id=\"T_b82e41e8_9405_11ea_ac2a_0242ac110002row3_col5\" class=\"data row3 col5\" >-0.003254</td>\n",
       "                        <td id=\"T_b82e41e8_9405_11ea_ac2a_0242ac110002row3_col6\" class=\"data row3 col6\" >-0.009167</td>\n",
       "                        <td id=\"T_b82e41e8_9405_11ea_ac2a_0242ac110002row3_col7\" class=\"data row3 col7\" >0.008899</td>\n",
       "                        <td id=\"T_b82e41e8_9405_11ea_ac2a_0242ac110002row3_col8\" class=\"data row3 col8\" >0.007068</td>\n",
       "                        <td id=\"T_b82e41e8_9405_11ea_ac2a_0242ac110002row3_col9\" class=\"data row3 col9\" >0.168553</td>\n",
       "                        <td id=\"T_b82e41e8_9405_11ea_ac2a_0242ac110002row3_col10\" class=\"data row3 col10\" >0.297541</td>\n",
       "            </tr>\n",
       "            <tr>\n",
       "                        <th id=\"T_b82e41e8_9405_11ea_ac2a_0242ac110002level0_row4\" class=\"row_heading level0 row4\" >W2</th>\n",
       "                        <td id=\"T_b82e41e8_9405_11ea_ac2a_0242ac110002row4_col0\" class=\"data row4 col0\" >-0.014220</td>\n",
       "                        <td id=\"T_b82e41e8_9405_11ea_ac2a_0242ac110002row4_col1\" class=\"data row4 col1\" >-0.011391</td>\n",
       "                        <td id=\"T_b82e41e8_9405_11ea_ac2a_0242ac110002row4_col2\" class=\"data row4 col2\" >0.004680</td>\n",
       "                        <td id=\"T_b82e41e8_9405_11ea_ac2a_0242ac110002row4_col3\" class=\"data row4 col3\" >0.021270</td>\n",
       "                        <td id=\"T_b82e41e8_9405_11ea_ac2a_0242ac110002row4_col4\" class=\"data row4 col4\" >1.000000</td>\n",
       "                        <td id=\"T_b82e41e8_9405_11ea_ac2a_0242ac110002row4_col5\" class=\"data row4 col5\" >-0.003982</td>\n",
       "                        <td id=\"T_b82e41e8_9405_11ea_ac2a_0242ac110002row4_col6\" class=\"data row4 col6\" >-0.004642</td>\n",
       "                        <td id=\"T_b82e41e8_9405_11ea_ac2a_0242ac110002row4_col7\" class=\"data row4 col7\" >0.000181</td>\n",
       "                        <td id=\"T_b82e41e8_9405_11ea_ac2a_0242ac110002row4_col8\" class=\"data row4 col8\" >0.004074</td>\n",
       "                        <td id=\"T_b82e41e8_9405_11ea_ac2a_0242ac110002row4_col9\" class=\"data row4 col9\" >0.107218</td>\n",
       "                        <td id=\"T_b82e41e8_9405_11ea_ac2a_0242ac110002row4_col10\" class=\"data row4 col10\" >0.532694</td>\n",
       "            </tr>\n",
       "            <tr>\n",
       "                        <th id=\"T_b82e41e8_9405_11ea_ac2a_0242ac110002level0_row5\" class=\"row_heading level0 row5\" >W3</th>\n",
       "                        <td id=\"T_b82e41e8_9405_11ea_ac2a_0242ac110002row5_col0\" class=\"data row5 col0\" >-0.006646</td>\n",
       "                        <td id=\"T_b82e41e8_9405_11ea_ac2a_0242ac110002row5_col1\" class=\"data row5 col1\" >-0.013721</td>\n",
       "                        <td id=\"T_b82e41e8_9405_11ea_ac2a_0242ac110002row5_col2\" class=\"data row5 col2\" >0.000002</td>\n",
       "                        <td id=\"T_b82e41e8_9405_11ea_ac2a_0242ac110002row5_col3\" class=\"data row5 col3\" >-0.003254</td>\n",
       "                        <td id=\"T_b82e41e8_9405_11ea_ac2a_0242ac110002row5_col4\" class=\"data row5 col4\" >-0.003982</td>\n",
       "                        <td id=\"T_b82e41e8_9405_11ea_ac2a_0242ac110002row5_col5\" class=\"data row5 col5\" >1.000000</td>\n",
       "                        <td id=\"T_b82e41e8_9405_11ea_ac2a_0242ac110002row5_col6\" class=\"data row5 col6\" >0.010193</td>\n",
       "                        <td id=\"T_b82e41e8_9405_11ea_ac2a_0242ac110002row5_col7\" class=\"data row5 col7\" >0.031829</td>\n",
       "                        <td id=\"T_b82e41e8_9405_11ea_ac2a_0242ac110002row5_col8\" class=\"data row5 col8\" >0.018415</td>\n",
       "                        <td id=\"T_b82e41e8_9405_11ea_ac2a_0242ac110002row5_col9\" class=\"data row5 col9\" >0.033358</td>\n",
       "                        <td id=\"T_b82e41e8_9405_11ea_ac2a_0242ac110002row5_col10\" class=\"data row5 col10\" >0.048241</td>\n",
       "            </tr>\n",
       "            <tr>\n",
       "                        <th id=\"T_b82e41e8_9405_11ea_ac2a_0242ac110002level0_row6\" class=\"row_heading level0 row6\" >W4</th>\n",
       "                        <td id=\"T_b82e41e8_9405_11ea_ac2a_0242ac110002row6_col0\" class=\"data row6 col0\" >0.005577</td>\n",
       "                        <td id=\"T_b82e41e8_9405_11ea_ac2a_0242ac110002row6_col1\" class=\"data row6 col1\" >-0.014710</td>\n",
       "                        <td id=\"T_b82e41e8_9405_11ea_ac2a_0242ac110002row6_col2\" class=\"data row6 col2\" >-0.010121</td>\n",
       "                        <td id=\"T_b82e41e8_9405_11ea_ac2a_0242ac110002row6_col3\" class=\"data row6 col3\" >-0.009167</td>\n",
       "                        <td id=\"T_b82e41e8_9405_11ea_ac2a_0242ac110002row6_col4\" class=\"data row6 col4\" >-0.004642</td>\n",
       "                        <td id=\"T_b82e41e8_9405_11ea_ac2a_0242ac110002row6_col5\" class=\"data row6 col5\" >0.010193</td>\n",
       "                        <td id=\"T_b82e41e8_9405_11ea_ac2a_0242ac110002row6_col6\" class=\"data row6 col6\" >1.000000</td>\n",
       "                        <td id=\"T_b82e41e8_9405_11ea_ac2a_0242ac110002row6_col7\" class=\"data row6 col7\" >-0.009106</td>\n",
       "                        <td id=\"T_b82e41e8_9405_11ea_ac2a_0242ac110002row6_col8\" class=\"data row6 col8\" >0.001847</td>\n",
       "                        <td id=\"T_b82e41e8_9405_11ea_ac2a_0242ac110002row6_col9\" class=\"data row6 col9\" >0.062584</td>\n",
       "                        <td id=\"T_b82e41e8_9405_11ea_ac2a_0242ac110002row6_col10\" class=\"data row6 col10\" >0.129853</td>\n",
       "            </tr>\n",
       "            <tr>\n",
       "                        <th id=\"T_b82e41e8_9405_11ea_ac2a_0242ac110002level0_row7\" class=\"row_heading level0 row7\" >W5</th>\n",
       "                        <td id=\"T_b82e41e8_9405_11ea_ac2a_0242ac110002row7_col0\" class=\"data row7 col0\" >-0.004712</td>\n",
       "                        <td id=\"T_b82e41e8_9405_11ea_ac2a_0242ac110002row7_col1\" class=\"data row7 col1\" >0.001056</td>\n",
       "                        <td id=\"T_b82e41e8_9405_11ea_ac2a_0242ac110002row7_col2\" class=\"data row7 col2\" >0.013356</td>\n",
       "                        <td id=\"T_b82e41e8_9405_11ea_ac2a_0242ac110002row7_col3\" class=\"data row7 col3\" >0.008899</td>\n",
       "                        <td id=\"T_b82e41e8_9405_11ea_ac2a_0242ac110002row7_col4\" class=\"data row7 col4\" >0.000181</td>\n",
       "                        <td id=\"T_b82e41e8_9405_11ea_ac2a_0242ac110002row7_col5\" class=\"data row7 col5\" >0.031829</td>\n",
       "                        <td id=\"T_b82e41e8_9405_11ea_ac2a_0242ac110002row7_col6\" class=\"data row7 col6\" >-0.009106</td>\n",
       "                        <td id=\"T_b82e41e8_9405_11ea_ac2a_0242ac110002row7_col7\" class=\"data row7 col7\" >1.000000</td>\n",
       "                        <td id=\"T_b82e41e8_9405_11ea_ac2a_0242ac110002row7_col8\" class=\"data row7 col8\" >-0.005054</td>\n",
       "                        <td id=\"T_b82e41e8_9405_11ea_ac2a_0242ac110002row7_col9\" class=\"data row7 col9\" >0.245483</td>\n",
       "                        <td id=\"T_b82e41e8_9405_11ea_ac2a_0242ac110002row7_col10\" class=\"data row7 col10\" >0.672394</td>\n",
       "            </tr>\n",
       "            <tr>\n",
       "                        <th id=\"T_b82e41e8_9405_11ea_ac2a_0242ac110002level0_row8\" class=\"row_heading level0 row8\" >W6</th>\n",
       "                        <td id=\"T_b82e41e8_9405_11ea_ac2a_0242ac110002row8_col0\" class=\"data row8 col0\" >0.003365</td>\n",
       "                        <td id=\"T_b82e41e8_9405_11ea_ac2a_0242ac110002row8_col1\" class=\"data row8 col1\" >-0.008902</td>\n",
       "                        <td id=\"T_b82e41e8_9405_11ea_ac2a_0242ac110002row8_col2\" class=\"data row8 col2\" >0.009672</td>\n",
       "                        <td id=\"T_b82e41e8_9405_11ea_ac2a_0242ac110002row8_col3\" class=\"data row8 col3\" >0.007068</td>\n",
       "                        <td id=\"T_b82e41e8_9405_11ea_ac2a_0242ac110002row8_col4\" class=\"data row8 col4\" >0.004074</td>\n",
       "                        <td id=\"T_b82e41e8_9405_11ea_ac2a_0242ac110002row8_col5\" class=\"data row8 col5\" >0.018415</td>\n",
       "                        <td id=\"T_b82e41e8_9405_11ea_ac2a_0242ac110002row8_col6\" class=\"data row8 col6\" >0.001847</td>\n",
       "                        <td id=\"T_b82e41e8_9405_11ea_ac2a_0242ac110002row8_col7\" class=\"data row8 col7\" >-0.005054</td>\n",
       "                        <td id=\"T_b82e41e8_9405_11ea_ac2a_0242ac110002row8_col8\" class=\"data row8 col8\" >1.000000</td>\n",
       "                        <td id=\"T_b82e41e8_9405_11ea_ac2a_0242ac110002row8_col9\" class=\"data row8 col9\" >-0.008463</td>\n",
       "                        <td id=\"T_b82e41e8_9405_11ea_ac2a_0242ac110002row8_col10\" class=\"data row8 col10\" >0.154425</td>\n",
       "            </tr>\n",
       "            <tr>\n",
       "                        <th id=\"T_b82e41e8_9405_11ea_ac2a_0242ac110002level0_row9\" class=\"row_heading level0 row9\" >v0</th>\n",
       "                        <td id=\"T_b82e41e8_9405_11ea_ac2a_0242ac110002row9_col0\" class=\"data row9 col0\" >0.162369</td>\n",
       "                        <td id=\"T_b82e41e8_9405_11ea_ac2a_0242ac110002row9_col1\" class=\"data row9 col1\" >0.206644</td>\n",
       "                        <td id=\"T_b82e41e8_9405_11ea_ac2a_0242ac110002row9_col2\" class=\"data row9 col2\" >0.291642</td>\n",
       "                        <td id=\"T_b82e41e8_9405_11ea_ac2a_0242ac110002row9_col3\" class=\"data row9 col3\" >0.168553</td>\n",
       "                        <td id=\"T_b82e41e8_9405_11ea_ac2a_0242ac110002row9_col4\" class=\"data row9 col4\" >0.107218</td>\n",
       "                        <td id=\"T_b82e41e8_9405_11ea_ac2a_0242ac110002row9_col5\" class=\"data row9 col5\" >0.033358</td>\n",
       "                        <td id=\"T_b82e41e8_9405_11ea_ac2a_0242ac110002row9_col6\" class=\"data row9 col6\" >0.062584</td>\n",
       "                        <td id=\"T_b82e41e8_9405_11ea_ac2a_0242ac110002row9_col7\" class=\"data row9 col7\" >0.245483</td>\n",
       "                        <td id=\"T_b82e41e8_9405_11ea_ac2a_0242ac110002row9_col8\" class=\"data row9 col8\" >-0.008463</td>\n",
       "                        <td id=\"T_b82e41e8_9405_11ea_ac2a_0242ac110002row9_col9\" class=\"data row9 col9\" >1.000000</td>\n",
       "                        <td id=\"T_b82e41e8_9405_11ea_ac2a_0242ac110002row9_col10\" class=\"data row9 col10\" >0.628938</td>\n",
       "            </tr>\n",
       "            <tr>\n",
       "                        <th id=\"T_b82e41e8_9405_11ea_ac2a_0242ac110002level0_row10\" class=\"row_heading level0 row10\" >y</th>\n",
       "                        <td id=\"T_b82e41e8_9405_11ea_ac2a_0242ac110002row10_col0\" class=\"data row10 col0\" >0.049351</td>\n",
       "                        <td id=\"T_b82e41e8_9405_11ea_ac2a_0242ac110002row10_col1\" class=\"data row10 col1\" >0.070045</td>\n",
       "                        <td id=\"T_b82e41e8_9405_11ea_ac2a_0242ac110002row10_col2\" class=\"data row10 col2\" >0.181924</td>\n",
       "                        <td id=\"T_b82e41e8_9405_11ea_ac2a_0242ac110002row10_col3\" class=\"data row10 col3\" >0.297541</td>\n",
       "                        <td id=\"T_b82e41e8_9405_11ea_ac2a_0242ac110002row10_col4\" class=\"data row10 col4\" >0.532694</td>\n",
       "                        <td id=\"T_b82e41e8_9405_11ea_ac2a_0242ac110002row10_col5\" class=\"data row10 col5\" >0.048241</td>\n",
       "                        <td id=\"T_b82e41e8_9405_11ea_ac2a_0242ac110002row10_col6\" class=\"data row10 col6\" >0.129853</td>\n",
       "                        <td id=\"T_b82e41e8_9405_11ea_ac2a_0242ac110002row10_col7\" class=\"data row10 col7\" >0.672394</td>\n",
       "                        <td id=\"T_b82e41e8_9405_11ea_ac2a_0242ac110002row10_col8\" class=\"data row10 col8\" >0.154425</td>\n",
       "                        <td id=\"T_b82e41e8_9405_11ea_ac2a_0242ac110002row10_col9\" class=\"data row10 col9\" >0.628938</td>\n",
       "                        <td id=\"T_b82e41e8_9405_11ea_ac2a_0242ac110002row10_col10\" class=\"data row10 col10\" >1.000000</td>\n",
       "            </tr>\n",
       "    </tbody></table>"
      ],
      "text/plain": [
       "<pandas.io.formats.style.Styler at 0x7f75ac171a90>"
      ]
     },
     "execution_count": 5,
     "metadata": {},
     "output_type": "execute_result"
    }
   ],
   "source": [
    "# Unbeliavable to check how corr changes nothing with the treatment having or not causal impact \n",
    "corr = df.corr()\n",
    "corr.style.background_gradient(cmap='coolwarm')"
   ]
  },
  {
   "cell_type": "markdown",
   "metadata": {},
   "source": [
    "As seen above, the cofounders have rasonable relationships both with intervention 'v0' and outcome 'y', and the intruments 'z's' only owns relationship with v0, then the synthetic data generator looks to be working as expected."
   ]
  },
  {
   "cell_type": "markdown",
   "metadata": {},
   "source": [
    "### Naivy Approach"
   ]
  },
  {
   "cell_type": "markdown",
   "metadata": {},
   "source": [
    "The naivy approach to discover the Average Treatment Effect (ATE) of an intervention would be to calculate the difference on outcome average under treatment and control (and it's what actually happens when dealing with randomized data). However the data isn't randomized and it's already know both intervention as outcomes owns cofundoers who affects the probability of receiving the treatment as the outcome value itself."
   ]
  },
  {
   "cell_type": "code",
   "execution_count": 9,
   "metadata": {},
   "outputs": [
    {
     "data": {
      "image/png": "[encoded data removed]",
      "text/plain": [
       "<Figure size 432x288 with 1 Axes>"
      ]
     },
     "metadata": {
      "needs_background": "light"
     },
     "output_type": "display_data"
    }
   ],
   "source": [
    "# number of uniqeu interventions\n",
    "interventions = df.v0.unique()\n",
    "\n",
    "# Iterate through the five airlines\n",
    "for intervention in interventions:\n",
    "    # Subset to the airline\n",
    "    subset = df[df['v0'] == intervention]\n",
    "    \n",
    "    # Draw the density plot\n",
    "    sns.distplot(\n",
    "        subset['y'], hist = False, kde = True\n",
    "        , kde_kws = {'shade': True, 'linewidth': 3}\n",
    "        , label = intervention\n",
    "    )\n",
    "    \n",
    "# Plot formatting\n",
    "#plt.legend(prop={'size': 16}, title = 'Airline')\n",
    "#plt.title('Density Plot with Multiple Airlines')\n",
    "#plt.xlabel('Delay (min)')\n",
    "#plt.ylabel('Density')"
   ]
  },
  {
   "cell_type": "code",
   "execution_count": 22,
   "metadata": {},
   "outputs": [
    {
     "name": "stdout",
     "output_type": "stream",
     "text": [
      "The Naivy ATE is: 16.831265\n"
     ]
    }
   ],
   "source": [
    "naivy_estimate = df[df.v0==1]['y'].mean() - df[df.v0==0]['y'].mean()\n",
    "print('The Naivy ATE is: %f' % naivy_estimate)"
   ]
  },
  {
   "cell_type": "markdown",
   "metadata": {},
   "source": [
    "## Causal Framework"
   ]
  },
  {
   "cell_type": "markdown",
   "metadata": {},
   "source": [
    "DoWhy is based on a simple unifying language for causal inference. Causal inference may seem tricky, but almost all methods follow four key steps:\n",
    "\n",
    "1. Model a causal inference problem using assumptions.\n",
    "2. Identify an expression for the causal effect under these assumptions (\"causal estimand\").\n",
    "3. Estimate the expression using statistical methods such as matching or instrumental variables.\n",
    "4. Finally, verify the validity of the estimate using a variety of robustness checks.\n",
    "\n",
    "\n",
    "This workflow can be captured by four key verbs in DoWhy:\n",
    "\n",
    "* model\n",
    "* identify\n",
    "* estimate\n",
    "* refute"
   ]
  },
  {
   "cell_type": "markdown",
   "metadata": {},
   "source": [
    "### **Model** Phase - input the \"graph\""
   ]
  },
  {
   "cell_type": "markdown",
   "metadata": {},
   "source": [
    "Assumptions are first-class citizens in DoWhy. Each analysis starts with a building a causal model. The assumptions can be viewed graphically or in terms of conditional independence statements. This serves to make each causal assumption explicit. This graph doesn't need to be complete - you can provide a partial graph, representing prior knowledge about some of the variables."
   ]
  },
  {
   "cell_type": "code",
   "execution_count": 3,
   "metadata": {},
   "outputs": [
    {
     "name": "stderr",
     "output_type": "stream",
     "text": [
      "WARNING:dowhy.causal_model:Causal Graph not provided. DoWhy will construct a graph based on data inputs.\n",
      "INFO:dowhy.causal_graph:If this is observed data (not from a randomized experiment), there might always be missing confounders. Adding a node named \"Unobserved Confounders\" to reflect this.\n",
      "INFO:dowhy.causal_model:Model to find the causal effect of treatment ['v0'] on outcome ['y']\n"
     ]
    }
   ],
   "source": [
    "# With graph\n",
    "model=CausalModel(\n",
    "    data = df\n",
    "    , treatment=data[\"treatment_name\"]\n",
    "    , outcome=data[\"outcome_name\"]\n",
    "    , common_causes=data[\"common_causes_names\"] # both works the same, but the first is based on a previous graph\n",
    "    , instruments=data[\"instrument_names\"]\n",
    ")"
   ]
  },
  {
   "cell_type": "code",
   "execution_count": 9,
   "metadata": {},
   "outputs": [
    {
     "name": "stderr",
     "output_type": "stream",
     "text": [
      "WARNING:dowhy.causal_graph:Warning: Pygraphviz cannot be loaded. Check that graphviz and pygraphviz are installed.\n",
      "INFO:dowhy.causal_graph:Using Matplotlib for plotting\n"
     ]
    },
    {
     "data": {
      "image/png": "[encoded data removed]",
      "text/plain": [
       "<Figure size 432x288 with 1 Axes>"
      ]
     },
     "metadata": {},
     "output_type": "display_data"
    }
   ],
   "source": [
    "# it doesn't work properly on newer python versions (3.6+)\n",
    "model.view_model()"
   ]
  },
  {
   "cell_type": "markdown",
   "metadata": {},
   "source": [
    "The above causal graph shows the assumptions encoded in the causal model. We can now use this graph to first identify \n",
    "the causal effect (go from a causal estimand to a probability expression), and then estimate the causal effect."
   ]
  },
  {
   "cell_type": "markdown",
   "metadata": {},
   "source": [
    "**DoWhy philosophy: Keep identification and estimation separate**\n",
    "\n",
    "Identification can be achieved without access to the data, acccesing only the graph. This results in an expression to be computed. This expression can then be evaluated using the available data in the estimation step.\n",
    "It is important to understand that these are orthogonal steps."
   ]
  },
  {
   "cell_type": "markdown",
   "metadata": {},
   "source": [
    "### Identification Phase"
   ]
  },
  {
   "cell_type": "markdown",
   "metadata": {},
   "source": [
    "Based on the causal graph, DoWhy finds all possible ways of identifying a desired causal effect based on the graphical model. It uses graph-based criteria and do-calculus to find potential ways find expressions that can identify the causal effect.\n",
    "\n",
    "Describe a little better the object output here"
   ]
  },
  {
   "cell_type": "code",
   "execution_count": 4,
   "metadata": {},
   "outputs": [
    {
     "name": "stderr",
     "output_type": "stream",
     "text": [
      "INFO:dowhy.causal_identifier:Common causes of treatment and outcome:['W3', 'W6', 'W2', 'W5', 'W4', 'U', 'W1', 'W0']\n",
      "WARNING:dowhy.causal_identifier:If this is observed data (not from a randomized experiment), there might always be missing confounders. Causal effect cannot be identified perfectly.\n",
      "INFO:dowhy.causal_identifier:Continuing by ignoring these unobserved confounders because proceed_when_unidentifiable flag is True.\n",
      "INFO:dowhy.causal_identifier:Instrumental variables for treatment and outcome:['Z1', 'Z0']\n"
     ]
    },
    {
     "name": "stdout",
     "output_type": "stream",
     "text": [
      "Estimand type: nonparametric-ate\n",
      "### Estimand : 1\n",
      "Estimand name: backdoor\n",
      "Estimand expression:\n",
      "  d                                       \n",
      "─────(Expectation(y|W3,W6,W2,W5,W4,W1,W0))\n",
      "d[v₀]                                     \n",
      "Estimand assumption 1, Unconfoundedness: If U→{v0} and U→y then P(y|v0,W3,W6,W2,W5,W4,W1,W0,U) = P(y|v0,W3,W6,W2,W5,W4,W1,W0)\n",
      "### Estimand : 2\n",
      "Estimand name: iv\n",
      "Estimand expression:\n",
      "Expectation(Derivative(y, [Z1, Z0])*Derivative([v0], [Z1, Z0])**(-1))\n",
      "Estimand assumption 1, As-if-random: If U→→y then ¬(U →→{Z1,Z0})\n",
      "Estimand assumption 2, Exclusion: If we remove {Z1,Z0}→{v0}, then ¬({Z1,Z0}→y)\n",
      "\n"
     ]
    }
   ],
   "source": [
    "identified_estimand = model.identify_effect(proceed_when_unidentifiable=True)\n",
    "print(identified_estimand)"
   ]
  },
  {
   "cell_type": "markdown",
   "metadata": {},
   "source": [
    "### Estimation Phase"
   ]
  },
  {
   "cell_type": "markdown",
   "metadata": {},
   "source": [
    "Identification is the causal problem. Estimation is simply a statistical problem.\n",
    "DoWhy respects this boundary and treats them separately. All dowhy's built-in estimation methods are briefly explained on this [presentation](https://causalinference.gitlab.io/kdd-tutorial/).\n",
    "Fundamentally, it's recommended to test at least two different methods to have more confidence on the effect. Here, we'll examine all DoWhy methods.\n",
    "\n",
    "Describe a little better the object output here"
   ]
  },
  {
   "cell_type": "markdown",
   "metadata": {},
   "source": [
    "#### Conditional Based Methods"
   ]
  },
  {
   "cell_type": "markdown",
   "metadata": {},
   "source": [
    "Conditioning-based methods are the workhorse of causal inference when running active experiments is not feasible. The approach here is to calculate treatment effect by identifying groups of individuals with the same (or similar) covariates on both control and treratment, aiming to neutralize the dependence between treatment and cofounders (then simulating the randomized perfect environment).  "
   ]
  },
  {
   "cell_type": "markdown",
   "metadata": {},
   "source": [
    "##### Propensity Score Matching"
   ]
  },
  {
   "cell_type": "markdown",
   "metadata": {},
   "source": [
    "Matching calculates the treatment effect by identifying pairs of similar individuals based on its covariates, where one is treated and the other not. The great caviat on this procedure is with the mathing method,  how to equilibrate bias / variance when matching the pairs, or dropping observations without mathcing, and model dependence if using propensity score models (as it is here)."
   ]
  },
  {
   "cell_type": "code",
   "execution_count": 14,
   "metadata": {},
   "outputs": [
    {
     "name": "stderr",
     "output_type": "stream",
     "text": [
      "INFO:dowhy.causal_estimator:INFO: Using Propensity Score Matching Estimator\n",
      "INFO:dowhy.causal_estimator:b: y~v0+W4+W5+W1+W2+W3+W6+W0\n",
      "/opt/conda/lib/python3.7/site-packages/sklearn/utils/validation.py:760: DataConversionWarning: A column-vector y was passed when a 1d array was expected. Please change the shape of y to (n_samples, ), for example using ravel().\n",
      "  y = column_or_1d(y, warn=True)\n"
     ]
    },
    {
     "name": "stdout",
     "output_type": "stream",
     "text": [
      "*** Causal Estimate ***\n",
      "\n",
      "## Target estimand\n",
      "Estimand type: nonparametric-ate\n",
      "### Estimand : 1\n",
      "Estimand name: backdoor\n",
      "Estimand expression:\n",
      "  d                                       \n",
      "─────(Expectation(y|W4,W5,W1,W2,W3,W6,W0))\n",
      "d[v₀]                                     \n",
      "Estimand assumption 1, Unconfoundedness: If U→{v0} and U→y then P(y|v0,W4,W5,W1,W2,W3,W6,W0,U) = P(y|v0,W4,W5,W1,W2,W3,W6,W0)\n",
      "### Estimand : 2\n",
      "Estimand name: iv\n",
      "Estimand expression:\n",
      "Expectation(Derivative(y, [Z1, Z0])*Derivative([v0], [Z1, Z0])**(-1))\n",
      "Estimand assumption 1, As-if-random: If U→→y then ¬(U →→{Z1,Z0})\n",
      "Estimand assumption 2, Exclusion: If we remove {Z1,Z0}→{v0}, then ¬({Z1,Z0}→y)\n",
      "\n",
      "## Realized estimand\n",
      "b: y~v0+W4+W5+W1+W2+W3+W6+W0\n",
      "## Estimate\n",
      "Value: 16.04709499950085\n",
      "\n"
     ]
    }
   ],
   "source": [
    "causal_estimate = model.estimate_effect(\n",
    "    identified_estimand, method_name=\"backdoor.propensity_score_matching\"\n",
    ")\n",
    "print(causal_estimate)"
   ]
  },
  {
   "cell_type": "markdown",
   "metadata": {},
   "source": [
    "#### Propensity-based Stratification"
   ]
  },
  {
   "cell_type": "markdown",
   "metadata": {},
   "source": [
    "Based on a similar approach as matching, stratification tries to generalizes the above concept by divigin the observations into stratas based on covariates balance, instead of 1:1 matchs. However this might introduce new caveats: the risk of being too generalist at some stratas, leading to less meaningfull associations, or creating stratas with too fews subjects."
   ]
  },
  {
   "cell_type": "code",
   "execution_count": 13,
   "metadata": {},
   "outputs": [
    {
     "name": "stderr",
     "output_type": "stream",
     "text": [
      "INFO:dowhy.causal_estimator:INFO: Using Propensity Score Stratification Estimator\n",
      "INFO:dowhy.causal_estimator:b: y~v0+W4+W5+W1+W2+W3+W6+W0\n",
      "/opt/conda/lib/python3.7/site-packages/sklearn/utils/validation.py:760: DataConversionWarning: A column-vector y was passed when a 1d array was expected. Please change the shape of y to (n_samples, ), for example using ravel().\n",
      "  y = column_or_1d(y, warn=True)\n"
     ]
    },
    {
     "name": "stdout",
     "output_type": "stream",
     "text": [
      "*** Causal Estimate ***\n",
      "\n",
      "## Target estimand\n",
      "Estimand type: nonparametric-ate\n",
      "### Estimand : 1\n",
      "Estimand name: backdoor\n",
      "Estimand expression:\n",
      "  d                                       \n",
      "─────(Expectation(y|W4,W5,W1,W2,W3,W6,W0))\n",
      "d[v₀]                                     \n",
      "Estimand assumption 1, Unconfoundedness: If U→{v0} and U→y then P(y|v0,W4,W5,W1,W2,W3,W6,W0,U) = P(y|v0,W4,W5,W1,W2,W3,W6,W0)\n",
      "### Estimand : 2\n",
      "Estimand name: iv\n",
      "Estimand expression:\n",
      "Expectation(Derivative(y, [Z1, Z0])*Derivative([v0], [Z1, Z0])**(-1))\n",
      "Estimand assumption 1, As-if-random: If U→→y then ¬(U →→{Z1,Z0})\n",
      "Estimand assumption 2, Exclusion: If we remove {Z1,Z0}→{v0}, then ¬({Z1,Z0}→y)\n",
      "\n",
      "## Realized estimand\n",
      "b: y~v0+W4+W5+W1+W2+W3+W6+W0\n",
      "## Estimate\n",
      "Value: 10.252676484347129\n",
      "\n"
     ]
    }
   ],
   "source": [
    "causal_estimate = model.estimate_effect(\n",
    "    identified_estimand, method_name=\"backdoor.propensity_score_stratification\"\n",
    ")\n",
    "print(causal_estimate)"
   ]
  },
  {
   "cell_type": "markdown",
   "metadata": {},
   "source": [
    "#### Inverse Propensity Weighting"
   ]
  },
  {
   "cell_type": "markdown",
   "metadata": {},
   "source": [
    "Similarly to the above one, it tries to neutralize the covaritates influence on treatment by assigning the probability of being treated, however, instead of using stratas or matchings, this process tries to directly weight the outcomes by a combination inversely proportional to the probability of being treated. The caveats regarding this method lies mainly when dealing with extreme values on the propensity score due to the higher variance generate on the weights by them."
   ]
  },
  {
   "cell_type": "markdown",
   "metadata": {},
   "source": [
    "DoWhy supports a few different weighting schemes:\n",
    "1. Vanilla Inverse Propensity Score weighting (IPS) (weighting_scheme=\"ips_weight\")\n",
    "2. Self-normalized IPS weighting (also known as the Hajek estimator) (weighting_scheme=\"ips_normalized_weight\")\n",
    "3. Stabilized IPS weighting (weighting_scheme = \"ips_stabilized_weight\")"
   ]
  },
  {
   "cell_type": "code",
   "execution_count": 7,
   "metadata": {},
   "outputs": [
    {
     "name": "stderr",
     "output_type": "stream",
     "text": [
      "INFO:dowhy.causal_estimator:INFO: Using Propensity Score Weighting Estimator\n",
      "INFO:dowhy.causal_estimator:b: y~v0+W3+W6+W2+W5+W4+W1+W0\n"
     ]
    },
    {
     "name": "stdout",
     "output_type": "stream",
     "text": [
      "*** Causal Estimate ***\n",
      "\n",
      "## Target estimand\n",
      "Estimand type: nonparametric-ate\n",
      "### Estimand : 1\n",
      "Estimand name: backdoor\n",
      "Estimand expression:\n",
      "  d                                       \n",
      "─────(Expectation(y|W3,W6,W2,W5,W4,W1,W0))\n",
      "d[v₀]                                     \n",
      "Estimand assumption 1, Unconfoundedness: If U→{v0} and U→y then P(y|v0,W3,W6,W2,W5,W4,W1,W0,U) = P(y|v0,W3,W6,W2,W5,W4,W1,W0)\n",
      "### Estimand : 2\n",
      "Estimand name: iv\n",
      "Estimand expression:\n",
      "Expectation(Derivative(y, [Z1, Z0])*Derivative([v0], [Z1, Z0])**(-1))\n",
      "Estimand assumption 1, As-if-random: If U→→y then ¬(U →→{Z1,Z0})\n",
      "Estimand assumption 2, Exclusion: If we remove {Z1,Z0}→{v0}, then ¬({Z1,Z0}→y)\n",
      "\n",
      "## Realized estimand\n",
      "b: y~v0+W3+W6+W2+W5+W4+W1+W0\n",
      "## Estimate\n",
      "Value: 13.518669054400416\n",
      "\n"
     ]
    },
    {
     "name": "stderr",
     "output_type": "stream",
     "text": [
      "/opt/conda/lib/python3.7/site-packages/sklearn/utils/validation.py:760: DataConversionWarning: A column-vector y was passed when a 1d array was expected. Please change the shape of y to (n_samples, ), for example using ravel().\n",
      "  y = column_or_1d(y, warn=True)\n"
     ]
    }
   ],
   "source": [
    "causal_estimate = model.estimate_effect(\n",
    "    identified_estimand\n",
    "    , method_name=\"backdoor.propensity_score_weighting\"\n",
    "    , target_units = \"ate\"\n",
    "    , method_params={\"weighting_scheme\":\"ips_normalized_weight\"}\n",
    ")\n",
    "print(causal_estimate)"
   ]
  },
  {
   "cell_type": "markdown",
   "metadata": {},
   "source": [
    "#### Linear Regression"
   ]
  },
  {
   "cell_type": "markdown",
   "metadata": {},
   "source": [
    "The most classical approach, it's resumed in fitting a linear regression into covariates, treatment and outcome and the treatment regression coefficient will measure the ATE. However using this approach is **very inadvisable** as it's very susceptible to be invalidated due to it's rigid assumptions (model correctness, multicolinearity and ignorability)."
   ]
  },
  {
   "cell_type": "code",
   "execution_count": 12,
   "metadata": {},
   "outputs": [
    {
     "name": "stderr",
     "output_type": "stream",
     "text": [
      "INFO:dowhy.causal_estimator:INFO: Using Linear Regression Estimator\n",
      "INFO:dowhy.causal_estimator:b: y~v0+W4+W5+W1+W2+W3+W6+W0\n"
     ]
    },
    {
     "name": "stdout",
     "output_type": "stream",
     "text": [
      "*** Causal Estimate ***\n",
      "\n",
      "## Target estimand\n",
      "Estimand type: nonparametric-ate\n",
      "### Estimand : 1\n",
      "Estimand name: backdoor\n",
      "Estimand expression:\n",
      "  d                                       \n",
      "─────(Expectation(y|W4,W5,W1,W2,W3,W6,W0))\n",
      "d[v₀]                                     \n",
      "Estimand assumption 1, Unconfoundedness: If U→{v0} and U→y then P(y|v0,W4,W5,W1,W2,W3,W6,W0,U) = P(y|v0,W4,W5,W1,W2,W3,W6,W0)\n",
      "### Estimand : 2\n",
      "Estimand name: iv\n",
      "Estimand expression:\n",
      "Expectation(Derivative(y, [Z1, Z0])*Derivative([v0], [Z1, Z0])**(-1))\n",
      "Estimand assumption 1, As-if-random: If U→→y then ¬(U →→{Z1,Z0})\n",
      "Estimand assumption 2, Exclusion: If we remove {Z1,Z0}→{v0}, then ¬({Z1,Z0}→y)\n",
      "\n",
      "## Realized estimand\n",
      "b: y~v0+W4+W5+W1+W2+W3+W6+W0\n",
      "## Estimate\n",
      "Value: 9.999999999999964\n",
      "\n"
     ]
    }
   ],
   "source": [
    "causal_estimate = model.estimate_effect(\n",
    "    identified_estimand,method_name=\"backdoor.linear_regression\"\n",
    ")\n",
    "print(causal_estimate)"
   ]
  },
  {
   "cell_type": "markdown",
   "metadata": {},
   "source": [
    "#### Intrumental Variables Methods"
   ]
  },
  {
   "cell_type": "markdown",
   "metadata": {},
   "source": [
    "More related to the \"Quasi-experiments\" approach, Intrumental Variable methods introduce \"as if random\" noise to the treatment assignment."
   ]
  },
  {
   "cell_type": "markdown",
   "metadata": {},
   "source": [
    "##### Binary Instrument/Wald Estimator"
   ]
  },
  {
   "cell_type": "markdown",
   "metadata": {},
   "source": [
    "This is the classical IV approach, it's based on the intrument's lack of correlation to both cofounders and outcomes, but to the treatment assignment. The greatest caveat here is the possibility of not generalizing well to the whole population."
   ]
  },
  {
   "cell_type": "code",
   "execution_count": 16,
   "metadata": {},
   "outputs": [
    {
     "name": "stderr",
     "output_type": "stream",
     "text": [
      "INFO:dowhy.causal_estimator:INFO: Using Instrumental Variable Estimator\n",
      "INFO:dowhy.causal_estimator:Realized estimand: Wald Estimator\n",
      "Realized estimand type: nonparametric-ate\n",
      "Estimand expression:\n",
      "                                                              -1\n",
      "Expectation(Derivative(y, Z0))⋅Expectation(Derivative(v0, Z0))  \n",
      "Estimand assumption 1, As-if-random: If U→→y then ¬(U →→{Z1,Z0})\n",
      "Estimand assumption 2, Exclusion: If we remove {Z1,Z0}→{v0}, then ¬({Z1,Z0}→y)\n",
      "Estimand assumption 3, treatment_effect_homogeneity: Each unit's treatment ['v0'] is affected in the same way by common causes of ['v0'] and y\n",
      "Estimand assumption 4, outcome_effect_homogeneity: Each unit's outcome y is affected in the same way by common causes of ['v0'] and y\n",
      "\n"
     ]
    },
    {
     "name": "stdout",
     "output_type": "stream",
     "text": [
      "*** Causal Estimate ***\n",
      "\n",
      "## Target estimand\n",
      "Estimand type: nonparametric-ate\n",
      "### Estimand : 1\n",
      "Estimand name: backdoor\n",
      "Estimand expression:\n",
      "  d                                       \n",
      "─────(Expectation(y|W4,W5,W1,W2,W3,W6,W0))\n",
      "d[v₀]                                     \n",
      "Estimand assumption 1, Unconfoundedness: If U→{v0} and U→y then P(y|v0,W4,W5,W1,W2,W3,W6,W0,U) = P(y|v0,W4,W5,W1,W2,W3,W6,W0)\n",
      "### Estimand : 2\n",
      "Estimand name: iv\n",
      "Estimand expression:\n",
      "Expectation(Derivative(y, [Z1, Z0])*Derivative([v0], [Z1, Z0])**(-1))\n",
      "Estimand assumption 1, As-if-random: If U→→y then ¬(U →→{Z1,Z0})\n",
      "Estimand assumption 2, Exclusion: If we remove {Z1,Z0}→{v0}, then ¬({Z1,Z0}→y)\n",
      "\n",
      "## Realized estimand\n",
      "Realized estimand: Wald Estimator\n",
      "Realized estimand type: nonparametric-ate\n",
      "Estimand expression:\n",
      "                                                              -1\n",
      "Expectation(Derivative(y, Z0))⋅Expectation(Derivative(v0, Z0))  \n",
      "Estimand assumption 1, As-if-random: If U→→y then ¬(U →→{Z1,Z0})\n",
      "Estimand assumption 2, Exclusion: If we remove {Z1,Z0}→{v0}, then ¬({Z1,Z0}→y)\n",
      "Estimand assumption 3, treatment_effect_homogeneity: Each unit's treatment ['v0'] is affected in the same way by common causes of ['v0'] and y\n",
      "Estimand assumption 4, outcome_effect_homogeneity: Each unit's outcome y is affected in the same way by common causes of ['v0'] and y\n",
      "\n",
      "## Estimate\n",
      "Value: 10.942108208904793\n",
      "\n"
     ]
    }
   ],
   "source": [
    "causal_estimate = model.estimate_effect(\n",
    "    identified_estimand,method_name=\"iv.instrumental_variable\"\n",
    "    , method_params = {'iv_instrument_name': ['Z0']}\n",
    ")\n",
    "print(causal_estimate)"
   ]
  },
  {
   "cell_type": "markdown",
   "metadata": {},
   "source": [
    "##### Regression Discontinuity"
   ]
  },
  {
   "cell_type": "markdown",
   "metadata": {},
   "source": [
    "Instead of an IV influencing the distribution of treatment over individuals, this method is based on arbitraty changes to decide the treated ones arbitrally (thought an abrupte cutt off). The racional here is: people near the threshold are very similar to each other both on treatment and control, \"as if random\" assigned to each \"side\". The caveat is the effect estimation only on the boundary, so it might generalize so well to the whole data.\n",
    "\n",
    "\n",
    "(Worth to mention this design wouldn't be suited to the synthetic dataset chosen for this demonstration) "
   ]
  },
  {
   "cell_type": "code",
   "execution_count": 17,
   "metadata": {},
   "outputs": [
    {
     "name": "stderr",
     "output_type": "stream",
     "text": [
      "INFO:dowhy.causal_estimator:Using Regression Discontinuity Estimator\n",
      "INFO:dowhy.causal_estimator:\n",
      "INFO:dowhy.causal_estimator:INFO: Using Instrumental Variable Estimator\n",
      "INFO:dowhy.causal_estimator:Realized estimand: Wald Estimator\n",
      "Realized estimand type: nonparametric-ate\n",
      "Estimand expression:\n",
      "                                                                              \n",
      "Expectation(Derivative(y, local_rd_variable))⋅Expectation(Derivative(v0, local\n",
      "\n",
      "              -1\n",
      "_rd_variable))  \n",
      "Estimand assumption 1, As-if-random: If U→→y then ¬(U →→{Z1,Z0})\n",
      "Estimand assumption 2, Exclusion: If we remove {Z1,Z0}→{v0}, then ¬({Z1,Z0}→y)\n",
      "Estimand assumption 3, treatment_effect_homogeneity: Each unit's treatment ['local_treatment'] is affected in the same way by common causes of ['local_treatment'] and local_outcome\n",
      "Estimand assumption 4, outcome_effect_homogeneity: Each unit's outcome local_outcome is affected in the same way by common causes of ['local_treatment'] and local_outcome\n",
      "\n"
     ]
    },
    {
     "name": "stdout",
     "output_type": "stream",
     "text": [
      "      local_rd_variable  local_treatment  local_outcome\n",
      "17             0.587663             True      16.735838\n",
      "32             0.558842             True       4.235377\n",
      "42             0.528779             True      22.030615\n",
      "43             0.582572             True      16.139430\n",
      "45             0.586549             True       2.934968\n",
      "...                 ...              ...            ...\n",
      "9969           0.437027             True       2.489741\n",
      "9978           0.513033             True      14.086854\n",
      "9980           0.489366             True      29.300886\n",
      "9990           0.486356             True       7.368931\n",
      "9995           0.591452             True      18.760037\n",
      "\n",
      "[1988 rows x 3 columns]\n",
      "*** Causal Estimate ***\n",
      "\n",
      "## Target estimand\n",
      "Estimand type: nonparametric-ate\n",
      "### Estimand : 1\n",
      "Estimand name: backdoor\n",
      "Estimand expression:\n",
      "  d                                       \n",
      "─────(Expectation(y|W4,W5,W1,W2,W3,W6,W0))\n",
      "d[v₀]                                     \n",
      "Estimand assumption 1, Unconfoundedness: If U→{v0} and U→y then P(y|v0,W4,W5,W1,W2,W3,W6,W0,U) = P(y|v0,W4,W5,W1,W2,W3,W6,W0)\n",
      "### Estimand : 2\n",
      "Estimand name: iv\n",
      "Estimand expression:\n",
      "Expectation(Derivative(y, [Z1, Z0])*Derivative([v0], [Z1, Z0])**(-1))\n",
      "Estimand assumption 1, As-if-random: If U→→y then ¬(U →→{Z1,Z0})\n",
      "Estimand assumption 2, Exclusion: If we remove {Z1,Z0}→{v0}, then ¬({Z1,Z0}→y)\n",
      "\n",
      "## Realized estimand\n",
      "Realized estimand: Wald Estimator\n",
      "Realized estimand type: nonparametric-ate\n",
      "Estimand expression:\n",
      "                                                                              \n",
      "Expectation(Derivative(y, local_rd_variable))⋅Expectation(Derivative(v0, local\n",
      "\n",
      "              -1\n",
      "_rd_variable))  \n",
      "Estimand assumption 1, As-if-random: If U→→y then ¬(U →→{Z1,Z0})\n",
      "Estimand assumption 2, Exclusion: If we remove {Z1,Z0}→{v0}, then ¬({Z1,Z0}→y)\n",
      "Estimand assumption 3, treatment_effect_homogeneity: Each unit's treatment ['local_treatment'] is affected in the same way by common causes of ['local_treatment'] and local_outcome\n",
      "Estimand assumption 4, outcome_effect_homogeneity: Each unit's outcome local_outcome is affected in the same way by common causes of ['local_treatment'] and local_outcome\n",
      "\n",
      "## Estimate\n",
      "Value: -45.829612388555375\n",
      "\n"
     ]
    }
   ],
   "source": [
    "causal_estimate = model.estimate_effect(\n",
    "    identified_estimand,\n",
    "    method_name=\"iv.regression_discontinuity\", \n",
    "    method_params={\n",
    "        'rd_variable_name':'Z1'\n",
    "        , 'rd_threshold_value':0.5\n",
    "        , 'rd_bandwidth': 0.1\n",
    "    }\n",
    ")\n",
    "print(causal_estimate)"
   ]
  },
  {
   "cell_type": "markdown",
   "metadata": {},
   "source": [
    "### Refuting Phase"
   ]
  },
  {
   "cell_type": "markdown",
   "metadata": {},
   "source": [
    "Lastly, the package offers [automated robustness checks](https://www.r-bloggers.com/dowhy-library-exploration/) as well. The most critical, and often skipped, part of causal analysis is checking the robustness of estimates to unverified assumptions. DoWhy makes it easy to automatically run sensitivity and robustness checks on the obtained estimate."
   ]
  },
  {
   "cell_type": "markdown",
   "metadata": {},
   "source": [
    "To test the robustness methods, let's create a an estimated object just for this purpose."
   ]
  },
  {
   "cell_type": "code",
   "execution_count": 13,
   "metadata": {},
   "outputs": [
    {
     "name": "stderr",
     "output_type": "stream",
     "text": [
      "INFO:dowhy.causal_estimator:INFO: Using Propensity Score Stratification Estimator\n",
      "INFO:dowhy.causal_estimator:b: y~v0+W3+W6+W2+W5+W4+W1+W0\n",
      "/opt/conda/lib/python3.7/site-packages/sklearn/utils/validation.py:760: DataConversionWarning: A column-vector y was passed when a 1d array was expected. Please change the shape of y to (n_samples, ), for example using ravel().\n",
      "  y = column_or_1d(y, warn=True)\n"
     ]
    }
   ],
   "source": [
    "estimate_to_refute = model.estimate_effect(\n",
    "    identified_estimand, method_name=\"backdoor.propensity_score_stratification\"\n",
    ")"
   ]
  },
  {
   "cell_type": "markdown",
   "metadata": {},
   "source": [
    "#### Adding a random common cause variable"
   ]
  },
  {
   "cell_type": "markdown",
   "metadata": {},
   "source": [
    "If the estimation is robust, adding a random covariate shouldn't affect it. This means the sample size is probably large enough to accommodate further confounders without loss of accuracy."
   ]
  },
  {
   "cell_type": "code",
   "execution_count": 20,
   "metadata": {},
   "outputs": [
    {
     "name": "stderr",
     "output_type": "stream",
     "text": [
      "INFO:dowhy.causal_estimator:INFO: Using Propensity Score Stratification Estimator\n",
      "INFO:dowhy.causal_estimator:b: y~v0+W4+W5+W1+W2+W3+W6+W0+w_random\n"
     ]
    },
    {
     "name": "stdout",
     "output_type": "stream",
     "text": [
      "Refute: Add a Random Common Cause\n",
      "Estimated effect:(10.252676484347129,)\n",
      "New effect:(10.280796680941915,)\n",
      "\n"
     ]
    },
    {
     "name": "stderr",
     "output_type": "stream",
     "text": [
      "/opt/conda/lib/python3.7/site-packages/sklearn/utils/validation.py:760: DataConversionWarning: A column-vector y was passed when a 1d array was expected. Please change the shape of y to (n_samples, ), for example using ravel().\n",
      "  y = column_or_1d(y, warn=True)\n"
     ]
    }
   ],
   "source": [
    "res_random=model.refute_estimate(\n",
    "    identified_estimand, estimate_to_refute\n",
    "    , method_name=\"random_common_cause\", random_seed = 667\n",
    ")\n",
    "print(res_random)"
   ]
  },
  {
   "cell_type": "markdown",
   "metadata": {},
   "source": [
    "#### Replacing treatment with a random (placebo) variable (A/A Test)"
   ]
  },
  {
   "cell_type": "markdown",
   "metadata": {},
   "source": [
    "Random assign outcome to both treatment and control should neutralize any treatment effect."
   ]
  },
  {
   "cell_type": "code",
   "execution_count": 14,
   "metadata": {},
   "outputs": [
    {
     "name": "stderr",
     "output_type": "stream",
     "text": [
      "INFO:dowhy.causal_estimator:INFO: Using Propensity Score Stratification Estimator\n",
      "INFO:dowhy.causal_estimator:b: y~placebo+W3+W6+W2+W5+W4+W1+W0\n",
      "/opt/conda/lib/python3.7/site-packages/sklearn/utils/validation.py:760: DataConversionWarning: A column-vector y was passed when a 1d array was expected. Please change the shape of y to (n_samples, ), for example using ravel().\n",
      "  y = column_or_1d(y, warn=True)\n"
     ]
    },
    {
     "name": "stdout",
     "output_type": "stream",
     "text": [
      "Refute: Use a Placebo Treatment\n",
      "Estimated effect:(9.665820090076354,)\n",
      "New effect:(0.49186638394364723,)\n",
      "\n"
     ]
    }
   ],
   "source": [
    "res_placebo=model.refute_estimate(\n",
    "    identified_estimand, estimate_to_refute, random_seed = 667\n",
    "    , method_name=\"placebo_treatment_refuter\", placebo_type=\"permute\"\n",
    ")\n",
    "print(res_placebo)"
   ]
  },
  {
   "cell_type": "markdown",
   "metadata": {},
   "source": [
    "#### Removing a random subset of the data"
   ]
  },
  {
   "cell_type": "markdown",
   "metadata": {},
   "source": [
    "If the estimation is robust, the treatment effect shouldn't vary too much thourgh data subsets."
   ]
  },
  {
   "cell_type": "code",
   "execution_count": 23,
   "metadata": {},
   "outputs": [
    {
     "name": "stderr",
     "output_type": "stream",
     "text": [
      "INFO:dowhy.causal_estimator:INFO: Using Propensity Score Stratification Estimator\n",
      "INFO:dowhy.causal_estimator:b: y~v0+W4+W5+W1+W2+W3+W6+W0\n",
      "/opt/conda/lib/python3.7/site-packages/sklearn/utils/validation.py:760: DataConversionWarning: A column-vector y was passed when a 1d array was expected. Please change the shape of y to (n_samples, ), for example using ravel().\n",
      "  y = column_or_1d(y, warn=True)\n"
     ]
    },
    {
     "name": "stdout",
     "output_type": "stream",
     "text": [
      "Refute: Use a subset of data\n",
      "Estimated effect:(10.252676484347129,)\n",
      "New effect:(10.520028319997916,)\n",
      "\n"
     ]
    }
   ],
   "source": [
    "res_subset=model.refute_estimate(\n",
    "    identified_estimand, estimate_to_refute, random_seed = 667\n",
    "    , method_name=\"data_subset_refuter\", subset_fraction=0.9\n",
    ")\n",
    "print(res_subset)"
   ]
  },
  {
   "cell_type": "markdown",
   "metadata": {},
   "source": [
    "#### Adding an unobserved common cause variable (sensitivity analysis)"
   ]
  },
  {
   "cell_type": "markdown",
   "metadata": {},
   "source": [
    "How sensitive is the estimation to minor vilations of the assumptions? How big should be the effect of a confounder to be able to reverse the estimation sign? let’s test the unconfoundness hypothesis by running a simulation to add the effect of unknown confounders. **Domain Knowledge helps to guide reasonable values to this simulations**.\n",
    "\n",
    "\n",
    "The effect_strength_on_treatment and effect_strength_on_outcome arguments denote the confounder's coefficient on treatment or outcome. If it's set to \"binary_flip\", it'll be the probability of the confounder flipping the treatment/outcome from 0 to 1 (or vice verca); or if it's set to \"linear\", it'll be the linear coefficient of the confounder on the treatment/outcome. This selection will depend on the treatment/outcome nature (it it's binary or continuos)."
   ]
  },
  {
   "cell_type": "markdown",
   "metadata": {},
   "source": [
    "##### First test: minimal magnitude unkown confounder"
   ]
  },
  {
   "cell_type": "code",
   "execution_count": 18,
   "metadata": {},
   "outputs": [
    {
     "name": "stderr",
     "output_type": "stream",
     "text": [
      "INFO:dowhy.causal_estimator:INFO: Using Propensity Score Stratification Estimator\n",
      "INFO:dowhy.causal_estimator:b: y~v0+W3+W6+W2+W5+W4+W1+W0\n",
      "/opt/conda/lib/python3.7/site-packages/sklearn/utils/validation.py:760: DataConversionWarning: A column-vector y was passed when a 1d array was expected. Please change the shape of y to (n_samples, ), for example using ravel().\n",
      "  y = column_or_1d(y, warn=True)\n"
     ]
    },
    {
     "name": "stdout",
     "output_type": "stream",
     "text": [
      "Refute: Add an Unobserved Common Cause\n",
      "Estimated effect:(9.665820090076354,)\n",
      "New effect:(8.954236678973386,)\n",
      "\n"
     ]
    }
   ],
   "source": [
    "res_unobserved_minimal=model.refute_estimate(\n",
    "    identified_estimand, estimate_to_refute, method_name=\"add_unobserved_common_cause\"\n",
    "    , confounders_effect_on_treatment=\"binary_flip\", confounders_effect_on_outcome=\"linear\"\n",
    "    , effect_strength_on_treatment=0.01, effect_strength_on_outcome=0.01, random_seed = 667\n",
    ")\n",
    "print(res_unobserved_minimal)"
   ]
  },
  {
   "cell_type": "markdown",
   "metadata": {},
   "source": [
    "##### First test: reasonable magnitude unkown confounder"
   ]
  },
  {
   "cell_type": "code",
   "execution_count": 20,
   "metadata": {},
   "outputs": [
    {
     "name": "stderr",
     "output_type": "stream",
     "text": [
      "INFO:dowhy.causal_estimator:INFO: Using Propensity Score Stratification Estimator\n",
      "INFO:dowhy.causal_estimator:b: y~v0+W3+W6+W2+W5+W4+W1+W0\n",
      "/opt/conda/lib/python3.7/site-packages/sklearn/utils/validation.py:760: DataConversionWarning: A column-vector y was passed when a 1d array was expected. Please change the shape of y to (n_samples, ), for example using ravel().\n",
      "  y = column_or_1d(y, warn=True)\n"
     ]
    },
    {
     "name": "stdout",
     "output_type": "stream",
     "text": [
      "Refute: Add an Unobserved Common Cause\n",
      "Estimated effect:(9.665820090076354,)\n",
      "New effect:(4.209078078723106,)\n",
      "\n"
     ]
    }
   ],
   "source": [
    "res_unobserved_reasonable=model.refute_estimate(\n",
    "    identified_estimand, estimate_to_refute, method_name=\"add_unobserved_common_cause\"\n",
    "    , confounders_effect_on_treatment=\"binary_flip\", confounders_effect_on_outcome=\"linear\"\n",
    "    , effect_strength_on_treatment=0.05, effect_strength_on_outcome=0.05, random_seed = 667\n",
    ")\n",
    "print(res_unobserved_reasonable)"
   ]
  },
  {
   "cell_type": "markdown",
   "metadata": {},
   "source": [
    "## Other Package Interesting Funcionality"
   ]
  },
  {
   "cell_type": "markdown",
   "metadata": {},
   "source": [
    "* Heterogeneous Treatment Estimation Support"
   ]
  },
  {
   "cell_type": "markdown",
   "metadata": {},
   "source": [
    "You can input additional parameters to the estimate_effect method. For instance, to estimate the effect on any subset of the units, you can specify the \"target_units\" parameter which can be a string (\"ate\", \"att\", or \"atc\"), lambda function that filters rows of the data frame, or a new dataframe on which to compute the effect. You can also specify \"effect modifiers\" to estimate heterogeneous effects across these variables. See `help(CausalModel.estimate_effect)`. "
   ]
  },
  {
   "cell_type": "code",
   "execution_count": 18,
   "metadata": {},
   "outputs": [
    {
     "name": "stderr",
     "output_type": "stream",
     "text": [
      "INFO:dowhy.causal_estimator:INFO: Using Propensity Score Stratification Estimator\n",
      "INFO:dowhy.causal_estimator:b: y~v0+W4+W5+W1+W2+W3+W6+W0\n",
      "/opt/conda/lib/python3.7/site-packages/sklearn/utils/validation.py:760: DataConversionWarning: A column-vector y was passed when a 1d array was expected. Please change the shape of y to (n_samples, ), for example using ravel().\n",
      "  y = column_or_1d(y, warn=True)\n"
     ]
    },
    {
     "name": "stdout",
     "output_type": "stream",
     "text": [
      "*** Causal Estimate ***\n",
      "\n",
      "## Target estimand\n",
      "Estimand type: nonparametric-ate\n",
      "### Estimand : 1\n",
      "Estimand name: backdoor\n",
      "Estimand expression:\n",
      "  d                                       \n",
      "─────(Expectation(y|W4,W5,W1,W2,W3,W6,W0))\n",
      "d[v₀]                                     \n",
      "Estimand assumption 1, Unconfoundedness: If U→{v0} and U→y then P(y|v0,W4,W5,W1,W2,W3,W6,W0,U) = P(y|v0,W4,W5,W1,W2,W3,W6,W0)\n",
      "### Estimand : 2\n",
      "Estimand name: iv\n",
      "Estimand expression:\n",
      "Expectation(Derivative(y, [Z1, Z0])*Derivative([v0], [Z1, Z0])**(-1))\n",
      "Estimand assumption 1, As-if-random: If U→→y then ¬(U →→{Z1,Z0})\n",
      "Estimand assumption 2, Exclusion: If we remove {Z1,Z0}→{v0}, then ¬({Z1,Z0}→y)\n",
      "\n",
      "## Realized estimand\n",
      "b: y~v0+W4+W5+W1+W2+W3+W6+W0\n",
      "## Estimate\n",
      "Value: 10.354852941146467\n",
      "\n"
     ]
    }
   ],
   "source": [
    "# Causal effect on the control group (ATC)\n",
    "causal_estimate_atc = model.estimate_effect(identified_estimand,\n",
    "        method_name=\"backdoor.propensity_score_stratification\",\n",
    "        target_units = \"atc\")\n",
    "print(causal_estimate_atc)"
   ]
  },
  {
   "cell_type": "markdown",
   "metadata": {},
   "source": [
    "### Do Sampler"
   ]
  },
  {
   "cell_type": "markdown",
   "metadata": {},
   "source": [
    "Add brief theoretical explanation of what it is, Ts and Bs"
   ]
  },
  {
   "cell_type": "code",
   "execution_count": 11,
   "metadata": {},
   "outputs": [
    {
     "name": "stderr",
     "output_type": "stream",
     "text": [
      "WARNING:dowhy.causal_model:Causal Graph not provided. DoWhy will construct a graph based on data inputs.\n",
      "INFO:dowhy.causal_graph:If this is observed data (not from a randomized experiment), there might always be missing confounders. Adding a node named \"Unobserved Confounders\" to reflect this.\n",
      "INFO:dowhy.causal_model:Model to find the causal effect of treatment ['v0'] on outcome ['y']\n",
      "INFO:dowhy.causal_identifier:Common causes of treatment and outcome:['W3', 'U', 'W6', 'W2', 'W1', 'W4', 'W0', 'W5']\n",
      "WARNING:dowhy.causal_identifier:If this is observed data (not from a randomized experiment), there might always be missing confounders. Causal effect cannot be identified perfectly.\n"
     ]
    },
    {
     "name": "stdin",
     "output_type": "stream",
     "text": [
      "WARN: Do you want to continue by ignoring any unobserved confounders? (use proceed_when_unidentifiable=True to disable this prompt) [y/n]  \n"
     ]
    },
    {
     "name": "stdout",
     "output_type": "stream",
     "text": [
      "Please respond with 'y' or 'n'\n"
     ]
    },
    {
     "name": "stdin",
     "output_type": "stream",
     "text": [
      "WARN: Do you want to continue by ignoring any unobserved confounders? (use proceed_when_unidentifiable=True to disable this prompt) [y/n]  y\n"
     ]
    },
    {
     "name": "stderr",
     "output_type": "stream",
     "text": [
      "INFO:dowhy.causal_identifier:Instrumental variables for treatment and outcome:[]\n",
      "INFO:dowhy.do_sampler:Using WeightingSampler for do sampling.\n",
      "INFO:dowhy.do_sampler:Caution: do samplers assume iid data.\n"
     ]
    }
   ],
   "source": [
    "do_df=(\n",
    "    df\n",
    "    .causal.do(\n",
    "        x='v0',outcome='y',common_causes=[ 'W0', 'W1', 'W2', 'W3', 'W4', 'W5', 'W6']\n",
    "        ,variable_types={\n",
    "            'v0':'b','y':'c','W0':'c', 'W1':'c', 'W2':'c'\n",
    "            , 'W3':'c', 'W4':'c', 'W5':'c', 'W6':'c'\n",
    "        }\n",
    "    )\n",
    ")"
   ]
  },
  {
   "cell_type": "code",
   "execution_count": 12,
   "metadata": {},
   "outputs": [
    {
     "data": {
      "image/png": "[encoded data removed]",
      "text/plain": [
       "<Figure size 432x288 with 1 Axes>"
      ]
     },
     "metadata": {
      "needs_background": "light"
     },
     "output_type": "display_data"
    }
   ],
   "source": [
    "# \n",
    "interventions = do_df.v0.unique()\n",
    "\n",
    "# Iterate through the five airlines\n",
    "for intervention in interventions:\n",
    "    # Subset to the airline\n",
    "    subset = do_df[do_df['v0'] == intervention]\n",
    "    \n",
    "    # Draw the density plot\n",
    "    sns.distplot(subset['y'], hist = False, kde = True,\n",
    "                 kde_kws = {'shade': True, 'linewidth': 3},\n",
    "                 label = intervention)"
   ]
  },
  {
   "cell_type": "code",
   "execution_count": 23,
   "metadata": {},
   "outputs": [
    {
     "name": "stdout",
     "output_type": "stream",
     "text": [
      "The Do Calculus ATE is: 13.553620\n"
     ]
    }
   ],
   "source": [
    "do_causal_estimate = do_df[do_df.v0==1]['y'].mean() - do_df[do_df.v0==0]['y'].mean()\n",
    "print('The Do Calculus ATE is: %f' % do_causal_estimate)"
   ]
  },
  {
   "cell_type": "code",
   "execution_count": null,
   "metadata": {},
   "outputs": [],
   "source": []
  }
 ],
 "metadata": {
  "kernelspec": {
   "display_name": "Python 3",
   "language": "python",
   "name": "python3"
  },
  "language_info": {
   "codemirror_mode": {
    "name": "ipython",
    "version": 3
   },
   "file_extension": ".py",
   "mimetype": "text/x-python",
   "name": "python",
   "nbconvert_exporter": "python",
   "pygments_lexer": "ipython3",
   "version": "3.7.6"
  }
 },
 "nbformat": 4,
 "nbformat_minor": 4
}
