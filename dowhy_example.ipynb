{
 "cells": [
  {
   "cell_type": "markdown",
   "metadata": {},
   "source": [
    "# Using DoWhy for Causal Inference\n",
    "This notebook aims to demonstrate the capabilites of using the Causal Framework to make causal inference from observational data, and the tools we have available to validate our conclusions, all of them powered by Microsoft's DoWHy package.\n",
    "\n",
    "First, let us add the required path for Python to find the DoWhy code and load all required packages."
   ]
  },
  {
   "cell_type": "markdown",
   "metadata": {},
   "source": [
    "## Loading Packages and Dependencies"
   ]
  },
  {
   "cell_type": "code",
   "execution_count": 1,
   "metadata": {},
   "outputs": [],
   "source": [
    "import os, sys\n",
    "sys.path.append(os.path.abspath(\"../../../\"))"
   ]
  },
  {
   "cell_type": "markdown",
   "metadata": {},
   "source": [
    "Let's check the python version. "
   ]
  },
  {
   "cell_type": "code",
   "execution_count": 2,
   "metadata": {},
   "outputs": [],
   "source": [
    "import numpy as np\n",
    "import pandas as pd\n",
    "import logging # implement a flexible event logging system for applications and libraries.\n",
    "import seaborn as sns\n",
    "# dowhy framework\n",
    "import dowhy\n",
    "from dowhy import CausalModel\n",
    "import dowhy.datasets"
   ]
  },
  {
   "cell_type": "markdown",
   "metadata": {},
   "source": [
    "Now, let us load a dataset. For simplicity, we simulate a dataset with linear relationships between common causes and treatment, and common causes and outcome. \n",
    "\n",
    "Beta is the true causal effect. "
   ]
  },
  {
   "cell_type": "code",
   "execution_count": 3,
   "metadata": {
    "scrolled": true
   },
   "outputs": [
    {
     "data": {
      "text/html": [
       "<div>\n",
       "<style scoped>\n",
       "    .dataframe tbody tr th:only-of-type {\n",
       "        vertical-align: middle;\n",
       "    }\n",
       "\n",
       "    .dataframe tbody tr th {\n",
       "        vertical-align: top;\n",
       "    }\n",
       "\n",
       "    .dataframe thead th {\n",
       "        text-align: right;\n",
       "    }\n",
       "</style>\n",
       "<table border=\"1\" class=\"dataframe\">\n",
       "  <thead>\n",
       "    <tr style=\"text-align: right;\">\n",
       "      <th></th>\n",
       "      <th>Z0</th>\n",
       "      <th>Z1</th>\n",
       "      <th>W0</th>\n",
       "      <th>W1</th>\n",
       "      <th>W2</th>\n",
       "      <th>W3</th>\n",
       "      <th>W4</th>\n",
       "      <th>W5</th>\n",
       "      <th>W6</th>\n",
       "      <th>v0</th>\n",
       "      <th>y</th>\n",
       "    </tr>\n",
       "  </thead>\n",
       "  <tbody>\n",
       "    <tr>\n",
       "      <th>0</th>\n",
       "      <td>0.0</td>\n",
       "      <td>0.981591</td>\n",
       "      <td>0.254408</td>\n",
       "      <td>0.267385</td>\n",
       "      <td>-0.675821</td>\n",
       "      <td>-0.780334</td>\n",
       "      <td>0.850708</td>\n",
       "      <td>-1.173327</td>\n",
       "      <td>0.512784</td>\n",
       "      <td>True</td>\n",
       "      <td>13.143780</td>\n",
       "    </tr>\n",
       "    <tr>\n",
       "      <th>1</th>\n",
       "      <td>0.0</td>\n",
       "      <td>0.739717</td>\n",
       "      <td>2.051190</td>\n",
       "      <td>1.286142</td>\n",
       "      <td>3.215333</td>\n",
       "      <td>0.685932</td>\n",
       "      <td>0.148755</td>\n",
       "      <td>-0.859980</td>\n",
       "      <td>0.327655</td>\n",
       "      <td>True</td>\n",
       "      <td>21.515152</td>\n",
       "    </tr>\n",
       "    <tr>\n",
       "      <th>2</th>\n",
       "      <td>0.0</td>\n",
       "      <td>0.480738</td>\n",
       "      <td>-1.966790</td>\n",
       "      <td>-0.708500</td>\n",
       "      <td>0.324418</td>\n",
       "      <td>-0.776335</td>\n",
       "      <td>-0.006867</td>\n",
       "      <td>0.372406</td>\n",
       "      <td>-1.093293</td>\n",
       "      <td>True</td>\n",
       "      <td>-2.887758</td>\n",
       "    </tr>\n",
       "    <tr>\n",
       "      <th>3</th>\n",
       "      <td>0.0</td>\n",
       "      <td>0.333255</td>\n",
       "      <td>0.560699</td>\n",
       "      <td>1.138837</td>\n",
       "      <td>-0.247843</td>\n",
       "      <td>-0.039835</td>\n",
       "      <td>0.094485</td>\n",
       "      <td>-0.780377</td>\n",
       "      <td>-2.725204</td>\n",
       "      <td>True</td>\n",
       "      <td>-0.725794</td>\n",
       "    </tr>\n",
       "    <tr>\n",
       "      <th>4</th>\n",
       "      <td>0.0</td>\n",
       "      <td>0.243483</td>\n",
       "      <td>2.377180</td>\n",
       "      <td>-1.335499</td>\n",
       "      <td>2.540207</td>\n",
       "      <td>-1.897213</td>\n",
       "      <td>1.433275</td>\n",
       "      <td>-0.726731</td>\n",
       "      <td>1.058589</td>\n",
       "      <td>True</td>\n",
       "      <td>22.140836</td>\n",
       "    </tr>\n",
       "  </tbody>\n",
       "</table>\n",
       "</div>"
      ],
      "text/plain": [
       "    Z0        Z1        W0        W1        W2        W3        W4        W5  \\\n",
       "0  0.0  0.981591  0.254408  0.267385 -0.675821 -0.780334  0.850708 -1.173327   \n",
       "1  0.0  0.739717  2.051190  1.286142  3.215333  0.685932  0.148755 -0.859980   \n",
       "2  0.0  0.480738 -1.966790 -0.708500  0.324418 -0.776335 -0.006867  0.372406   \n",
       "3  0.0  0.333255  0.560699  1.138837 -0.247843 -0.039835  0.094485 -0.780377   \n",
       "4  0.0  0.243483  2.377180 -1.335499  2.540207 -1.897213  1.433275 -0.726731   \n",
       "\n",
       "         W6    v0          y  \n",
       "0  0.512784  True  13.143780  \n",
       "1  0.327655  True  21.515152  \n",
       "2 -1.093293  True  -2.887758  \n",
       "3 -2.725204  True  -0.725794  \n",
       "4  1.058589  True  22.140836  "
      ]
     },
     "execution_count": 3,
     "metadata": {},
     "output_type": "execute_result"
    }
   ],
   "source": [
    "data = dowhy.datasets.linear_dataset(\n",
    "    beta=10, # causal coef\n",
    "    num_common_causes=7, # cofounders\n",
    "    num_instruments = 2, #vi\n",
    "    num_treatments=1, # treatment\n",
    "    num_samples=10000, # sample\n",
    "    treatment_is_binary=True,\n",
    "    outcome_is_binary=False\n",
    ")\n",
    "df = data[\"df\"]\n",
    "df.head()"
   ]
  },
  {
   "cell_type": "markdown",
   "metadata": {},
   "source": [
    "Note that we are using a pandas dataframe to load the data. At present, DoWhy only supports pandas dataframe as input."
   ]
  },
  {
   "cell_type": "markdown",
   "metadata": {},
   "source": [
    "## Data Exploration"
   ]
  },
  {
   "cell_type": "code",
   "execution_count": 4,
   "metadata": {},
   "outputs": [
    {
     "name": "stdout",
     "output_type": "stream",
     "text": [
      "<class 'pandas.core.frame.DataFrame'>\n",
      "RangeIndex: 10000 entries, 0 to 9999\n",
      "Data columns (total 11 columns):\n",
      " #   Column  Non-Null Count  Dtype  \n",
      "---  ------  --------------  -----  \n",
      " 0   Z0      10000 non-null  float64\n",
      " 1   Z1      10000 non-null  float64\n",
      " 2   W0      10000 non-null  float64\n",
      " 3   W1      10000 non-null  float64\n",
      " 4   W2      10000 non-null  float64\n",
      " 5   W3      10000 non-null  float64\n",
      " 6   W4      10000 non-null  float64\n",
      " 7   W5      10000 non-null  float64\n",
      " 8   W6      10000 non-null  float64\n",
      " 9   v0      10000 non-null  bool   \n",
      " 10  y       10000 non-null  float64\n",
      "dtypes: bool(1), float64(10)\n",
      "memory usage: 791.1 KB\n"
     ]
    }
   ],
   "source": [
    "df.info()"
   ]
  },
  {
   "cell_type": "code",
   "execution_count": 5,
   "metadata": {},
   "outputs": [
    {
     "data": {
      "text/html": [
       "<style  type=\"text/css\" >\n",
       "    #T_37a4ab2a_89ce_11ea_b25a_0242ac110002row0_col0 {\n",
       "            background-color:  #b40426;\n",
       "            color:  #f1f1f1;\n",
       "        }    #T_37a4ab2a_89ce_11ea_b25a_0242ac110002row0_col1 {\n",
       "            background-color:  #3e51c5;\n",
       "            color:  #f1f1f1;\n",
       "        }    #T_37a4ab2a_89ce_11ea_b25a_0242ac110002row0_col2 {\n",
       "            background-color:  #3e51c5;\n",
       "            color:  #f1f1f1;\n",
       "        }    #T_37a4ab2a_89ce_11ea_b25a_0242ac110002row0_col3 {\n",
       "            background-color:  #3f53c6;\n",
       "            color:  #f1f1f1;\n",
       "        }    #T_37a4ab2a_89ce_11ea_b25a_0242ac110002row0_col4 {\n",
       "            background-color:  #3c4ec2;\n",
       "            color:  #f1f1f1;\n",
       "        }    #T_37a4ab2a_89ce_11ea_b25a_0242ac110002row0_col5 {\n",
       "            background-color:  #4358cb;\n",
       "            color:  #f1f1f1;\n",
       "        }    #T_37a4ab2a_89ce_11ea_b25a_0242ac110002row0_col6 {\n",
       "            background-color:  #4358cb;\n",
       "            color:  #f1f1f1;\n",
       "        }    #T_37a4ab2a_89ce_11ea_b25a_0242ac110002row0_col7 {\n",
       "            background-color:  #3b4cc0;\n",
       "            color:  #f1f1f1;\n",
       "        }    #T_37a4ab2a_89ce_11ea_b25a_0242ac110002row0_col8 {\n",
       "            background-color:  #3f53c6;\n",
       "            color:  #f1f1f1;\n",
       "        }    #T_37a4ab2a_89ce_11ea_b25a_0242ac110002row0_col9 {\n",
       "            background-color:  #5d7ce6;\n",
       "            color:  #000000;\n",
       "        }    #T_37a4ab2a_89ce_11ea_b25a_0242ac110002row0_col10 {\n",
       "            background-color:  #3b4cc0;\n",
       "            color:  #f1f1f1;\n",
       "        }    #T_37a4ab2a_89ce_11ea_b25a_0242ac110002row1_col0 {\n",
       "            background-color:  #3d50c3;\n",
       "            color:  #f1f1f1;\n",
       "        }    #T_37a4ab2a_89ce_11ea_b25a_0242ac110002row1_col1 {\n",
       "            background-color:  #b40426;\n",
       "            color:  #f1f1f1;\n",
       "        }    #T_37a4ab2a_89ce_11ea_b25a_0242ac110002row1_col2 {\n",
       "            background-color:  #3e51c5;\n",
       "            color:  #f1f1f1;\n",
       "        }    #T_37a4ab2a_89ce_11ea_b25a_0242ac110002row1_col3 {\n",
       "            background-color:  #4358cb;\n",
       "            color:  #f1f1f1;\n",
       "        }    #T_37a4ab2a_89ce_11ea_b25a_0242ac110002row1_col4 {\n",
       "            background-color:  #3b4cc0;\n",
       "            color:  #f1f1f1;\n",
       "        }    #T_37a4ab2a_89ce_11ea_b25a_0242ac110002row1_col5 {\n",
       "            background-color:  #465ecf;\n",
       "            color:  #f1f1f1;\n",
       "        }    #T_37a4ab2a_89ce_11ea_b25a_0242ac110002row1_col6 {\n",
       "            background-color:  #4257c9;\n",
       "            color:  #f1f1f1;\n",
       "        }    #T_37a4ab2a_89ce_11ea_b25a_0242ac110002row1_col7 {\n",
       "            background-color:  #3f53c6;\n",
       "            color:  #f1f1f1;\n",
       "        }    #T_37a4ab2a_89ce_11ea_b25a_0242ac110002row1_col8 {\n",
       "            background-color:  #3b4cc0;\n",
       "            color:  #f1f1f1;\n",
       "        }    #T_37a4ab2a_89ce_11ea_b25a_0242ac110002row1_col9 {\n",
       "            background-color:  #80a3fa;\n",
       "            color:  #000000;\n",
       "        }    #T_37a4ab2a_89ce_11ea_b25a_0242ac110002row1_col10 {\n",
       "            background-color:  #4358cb;\n",
       "            color:  #f1f1f1;\n",
       "        }    #T_37a4ab2a_89ce_11ea_b25a_0242ac110002row2_col0 {\n",
       "            background-color:  #3b4cc0;\n",
       "            color:  #f1f1f1;\n",
       "        }    #T_37a4ab2a_89ce_11ea_b25a_0242ac110002row2_col1 {\n",
       "            background-color:  #3e51c5;\n",
       "            color:  #f1f1f1;\n",
       "        }    #T_37a4ab2a_89ce_11ea_b25a_0242ac110002row2_col2 {\n",
       "            background-color:  #b40426;\n",
       "            color:  #f1f1f1;\n",
       "        }    #T_37a4ab2a_89ce_11ea_b25a_0242ac110002row2_col3 {\n",
       "            background-color:  #3c4ec2;\n",
       "            color:  #f1f1f1;\n",
       "        }    #T_37a4ab2a_89ce_11ea_b25a_0242ac110002row2_col4 {\n",
       "            background-color:  #3e51c5;\n",
       "            color:  #f1f1f1;\n",
       "        }    #T_37a4ab2a_89ce_11ea_b25a_0242ac110002row2_col5 {\n",
       "            background-color:  #4055c8;\n",
       "            color:  #f1f1f1;\n",
       "        }    #T_37a4ab2a_89ce_11ea_b25a_0242ac110002row2_col6 {\n",
       "            background-color:  #3c4ec2;\n",
       "            color:  #f1f1f1;\n",
       "        }    #T_37a4ab2a_89ce_11ea_b25a_0242ac110002row2_col7 {\n",
       "            background-color:  #3b4cc0;\n",
       "            color:  #f1f1f1;\n",
       "        }    #T_37a4ab2a_89ce_11ea_b25a_0242ac110002row2_col8 {\n",
       "            background-color:  #3e51c5;\n",
       "            color:  #f1f1f1;\n",
       "        }    #T_37a4ab2a_89ce_11ea_b25a_0242ac110002row2_col9 {\n",
       "            background-color:  #516ddb;\n",
       "            color:  #000000;\n",
       "        }    #T_37a4ab2a_89ce_11ea_b25a_0242ac110002row2_col10 {\n",
       "            background-color:  #9ebeff;\n",
       "            color:  #000000;\n",
       "        }    #T_37a4ab2a_89ce_11ea_b25a_0242ac110002row3_col0 {\n",
       "            background-color:  #3d50c3;\n",
       "            color:  #f1f1f1;\n",
       "        }    #T_37a4ab2a_89ce_11ea_b25a_0242ac110002row3_col1 {\n",
       "            background-color:  #4257c9;\n",
       "            color:  #f1f1f1;\n",
       "        }    #T_37a4ab2a_89ce_11ea_b25a_0242ac110002row3_col2 {\n",
       "            background-color:  #3b4cc0;\n",
       "            color:  #f1f1f1;\n",
       "        }    #T_37a4ab2a_89ce_11ea_b25a_0242ac110002row3_col3 {\n",
       "            background-color:  #b40426;\n",
       "            color:  #f1f1f1;\n",
       "        }    #T_37a4ab2a_89ce_11ea_b25a_0242ac110002row3_col4 {\n",
       "            background-color:  #4055c8;\n",
       "            color:  #f1f1f1;\n",
       "        }    #T_37a4ab2a_89ce_11ea_b25a_0242ac110002row3_col5 {\n",
       "            background-color:  #3c4ec2;\n",
       "            color:  #f1f1f1;\n",
       "        }    #T_37a4ab2a_89ce_11ea_b25a_0242ac110002row3_col6 {\n",
       "            background-color:  #3d50c3;\n",
       "            color:  #f1f1f1;\n",
       "        }    #T_37a4ab2a_89ce_11ea_b25a_0242ac110002row3_col7 {\n",
       "            background-color:  #3b4cc0;\n",
       "            color:  #f1f1f1;\n",
       "        }    #T_37a4ab2a_89ce_11ea_b25a_0242ac110002row3_col8 {\n",
       "            background-color:  #3b4cc0;\n",
       "            color:  #f1f1f1;\n",
       "        }    #T_37a4ab2a_89ce_11ea_b25a_0242ac110002row3_col9 {\n",
       "            background-color:  #6282ea;\n",
       "            color:  #000000;\n",
       "        }    #T_37a4ab2a_89ce_11ea_b25a_0242ac110002row3_col10 {\n",
       "            background-color:  #97b8ff;\n",
       "            color:  #000000;\n",
       "        }    #T_37a4ab2a_89ce_11ea_b25a_0242ac110002row4_col0 {\n",
       "            background-color:  #3c4ec2;\n",
       "            color:  #f1f1f1;\n",
       "        }    #T_37a4ab2a_89ce_11ea_b25a_0242ac110002row4_col1 {\n",
       "            background-color:  #3b4cc0;\n",
       "            color:  #f1f1f1;\n",
       "        }    #T_37a4ab2a_89ce_11ea_b25a_0242ac110002row4_col2 {\n",
       "            background-color:  #3f53c6;\n",
       "            color:  #f1f1f1;\n",
       "        }    #T_37a4ab2a_89ce_11ea_b25a_0242ac110002row4_col3 {\n",
       "            background-color:  #4358cb;\n",
       "            color:  #f1f1f1;\n",
       "        }    #T_37a4ab2a_89ce_11ea_b25a_0242ac110002row4_col4 {\n",
       "            background-color:  #b40426;\n",
       "            color:  #f1f1f1;\n",
       "        }    #T_37a4ab2a_89ce_11ea_b25a_0242ac110002row4_col5 {\n",
       "            background-color:  #3f53c6;\n",
       "            color:  #f1f1f1;\n",
       "        }    #T_37a4ab2a_89ce_11ea_b25a_0242ac110002row4_col6 {\n",
       "            background-color:  #445acc;\n",
       "            color:  #f1f1f1;\n",
       "        }    #T_37a4ab2a_89ce_11ea_b25a_0242ac110002row4_col7 {\n",
       "            background-color:  #4055c8;\n",
       "            color:  #f1f1f1;\n",
       "        }    #T_37a4ab2a_89ce_11ea_b25a_0242ac110002row4_col8 {\n",
       "            background-color:  #3e51c5;\n",
       "            color:  #f1f1f1;\n",
       "        }    #T_37a4ab2a_89ce_11ea_b25a_0242ac110002row4_col9 {\n",
       "            background-color:  #a2c1ff;\n",
       "            color:  #000000;\n",
       "        }    #T_37a4ab2a_89ce_11ea_b25a_0242ac110002row4_col10 {\n",
       "            background-color:  #5f7fe8;\n",
       "            color:  #000000;\n",
       "        }    #T_37a4ab2a_89ce_11ea_b25a_0242ac110002row5_col0 {\n",
       "            background-color:  #3e51c5;\n",
       "            color:  #f1f1f1;\n",
       "        }    #T_37a4ab2a_89ce_11ea_b25a_0242ac110002row5_col1 {\n",
       "            background-color:  #445acc;\n",
       "            color:  #f1f1f1;\n",
       "        }    #T_37a4ab2a_89ce_11ea_b25a_0242ac110002row5_col2 {\n",
       "            background-color:  #3f53c6;\n",
       "            color:  #f1f1f1;\n",
       "        }    #T_37a4ab2a_89ce_11ea_b25a_0242ac110002row5_col3 {\n",
       "            background-color:  #3b4cc0;\n",
       "            color:  #f1f1f1;\n",
       "        }    #T_37a4ab2a_89ce_11ea_b25a_0242ac110002row5_col4 {\n",
       "            background-color:  #3c4ec2;\n",
       "            color:  #f1f1f1;\n",
       "        }    #T_37a4ab2a_89ce_11ea_b25a_0242ac110002row5_col5 {\n",
       "            background-color:  #b40426;\n",
       "            color:  #f1f1f1;\n",
       "        }    #T_37a4ab2a_89ce_11ea_b25a_0242ac110002row5_col6 {\n",
       "            background-color:  #3b4cc0;\n",
       "            color:  #f1f1f1;\n",
       "        }    #T_37a4ab2a_89ce_11ea_b25a_0242ac110002row5_col7 {\n",
       "            background-color:  #3f53c6;\n",
       "            color:  #f1f1f1;\n",
       "        }    #T_37a4ab2a_89ce_11ea_b25a_0242ac110002row5_col8 {\n",
       "            background-color:  #3d50c3;\n",
       "            color:  #f1f1f1;\n",
       "        }    #T_37a4ab2a_89ce_11ea_b25a_0242ac110002row5_col9 {\n",
       "            background-color:  #485fd1;\n",
       "            color:  #f1f1f1;\n",
       "        }    #T_37a4ab2a_89ce_11ea_b25a_0242ac110002row5_col10 {\n",
       "            background-color:  #536edd;\n",
       "            color:  #000000;\n",
       "        }    #T_37a4ab2a_89ce_11ea_b25a_0242ac110002row6_col0 {\n",
       "            background-color:  #3e51c5;\n",
       "            color:  #f1f1f1;\n",
       "        }    #T_37a4ab2a_89ce_11ea_b25a_0242ac110002row6_col1 {\n",
       "            background-color:  #3e51c5;\n",
       "            color:  #f1f1f1;\n",
       "        }    #T_37a4ab2a_89ce_11ea_b25a_0242ac110002row6_col2 {\n",
       "            background-color:  #3b4cc0;\n",
       "            color:  #f1f1f1;\n",
       "        }    #T_37a4ab2a_89ce_11ea_b25a_0242ac110002row6_col3 {\n",
       "            background-color:  #3c4ec2;\n",
       "            color:  #f1f1f1;\n",
       "        }    #T_37a4ab2a_89ce_11ea_b25a_0242ac110002row6_col4 {\n",
       "            background-color:  #4055c8;\n",
       "            color:  #f1f1f1;\n",
       "        }    #T_37a4ab2a_89ce_11ea_b25a_0242ac110002row6_col5 {\n",
       "            background-color:  #3b4cc0;\n",
       "            color:  #f1f1f1;\n",
       "        }    #T_37a4ab2a_89ce_11ea_b25a_0242ac110002row6_col6 {\n",
       "            background-color:  #b40426;\n",
       "            color:  #f1f1f1;\n",
       "        }    #T_37a4ab2a_89ce_11ea_b25a_0242ac110002row6_col7 {\n",
       "            background-color:  #3f53c6;\n",
       "            color:  #f1f1f1;\n",
       "        }    #T_37a4ab2a_89ce_11ea_b25a_0242ac110002row6_col8 {\n",
       "            background-color:  #3b4cc0;\n",
       "            color:  #f1f1f1;\n",
       "        }    #T_37a4ab2a_89ce_11ea_b25a_0242ac110002row6_col9 {\n",
       "            background-color:  #85a8fc;\n",
       "            color:  #000000;\n",
       "        }    #T_37a4ab2a_89ce_11ea_b25a_0242ac110002row6_col10 {\n",
       "            background-color:  #e2dad5;\n",
       "            color:  #000000;\n",
       "        }    #T_37a4ab2a_89ce_11ea_b25a_0242ac110002row7_col0 {\n",
       "            background-color:  #3b4cc0;\n",
       "            color:  #f1f1f1;\n",
       "        }    #T_37a4ab2a_89ce_11ea_b25a_0242ac110002row7_col1 {\n",
       "            background-color:  #4257c9;\n",
       "            color:  #f1f1f1;\n",
       "        }    #T_37a4ab2a_89ce_11ea_b25a_0242ac110002row7_col2 {\n",
       "            background-color:  #3d50c3;\n",
       "            color:  #f1f1f1;\n",
       "        }    #T_37a4ab2a_89ce_11ea_b25a_0242ac110002row7_col3 {\n",
       "            background-color:  #3e51c5;\n",
       "            color:  #f1f1f1;\n",
       "        }    #T_37a4ab2a_89ce_11ea_b25a_0242ac110002row7_col4 {\n",
       "            background-color:  #4257c9;\n",
       "            color:  #f1f1f1;\n",
       "        }    #T_37a4ab2a_89ce_11ea_b25a_0242ac110002row7_col5 {\n",
       "            background-color:  #445acc;\n",
       "            color:  #f1f1f1;\n",
       "        }    #T_37a4ab2a_89ce_11ea_b25a_0242ac110002row7_col6 {\n",
       "            background-color:  #445acc;\n",
       "            color:  #f1f1f1;\n",
       "        }    #T_37a4ab2a_89ce_11ea_b25a_0242ac110002row7_col7 {\n",
       "            background-color:  #b40426;\n",
       "            color:  #f1f1f1;\n",
       "        }    #T_37a4ab2a_89ce_11ea_b25a_0242ac110002row7_col8 {\n",
       "            background-color:  #4055c8;\n",
       "            color:  #f1f1f1;\n",
       "        }    #T_37a4ab2a_89ce_11ea_b25a_0242ac110002row7_col9 {\n",
       "            background-color:  #5977e3;\n",
       "            color:  #000000;\n",
       "        }    #T_37a4ab2a_89ce_11ea_b25a_0242ac110002row7_col10 {\n",
       "            background-color:  #aec9fc;\n",
       "            color:  #000000;\n",
       "        }    #T_37a4ab2a_89ce_11ea_b25a_0242ac110002row8_col0 {\n",
       "            background-color:  #3e51c5;\n",
       "            color:  #f1f1f1;\n",
       "        }    #T_37a4ab2a_89ce_11ea_b25a_0242ac110002row8_col1 {\n",
       "            background-color:  #3b4cc0;\n",
       "            color:  #f1f1f1;\n",
       "        }    #T_37a4ab2a_89ce_11ea_b25a_0242ac110002row8_col2 {\n",
       "            background-color:  #3f53c6;\n",
       "            color:  #f1f1f1;\n",
       "        }    #T_37a4ab2a_89ce_11ea_b25a_0242ac110002row8_col3 {\n",
       "            background-color:  #3c4ec2;\n",
       "            color:  #f1f1f1;\n",
       "        }    #T_37a4ab2a_89ce_11ea_b25a_0242ac110002row8_col4 {\n",
       "            background-color:  #3e51c5;\n",
       "            color:  #f1f1f1;\n",
       "        }    #T_37a4ab2a_89ce_11ea_b25a_0242ac110002row8_col5 {\n",
       "            background-color:  #4055c8;\n",
       "            color:  #f1f1f1;\n",
       "        }    #T_37a4ab2a_89ce_11ea_b25a_0242ac110002row8_col6 {\n",
       "            background-color:  #3d50c3;\n",
       "            color:  #f1f1f1;\n",
       "        }    #T_37a4ab2a_89ce_11ea_b25a_0242ac110002row8_col7 {\n",
       "            background-color:  #3f53c6;\n",
       "            color:  #f1f1f1;\n",
       "        }    #T_37a4ab2a_89ce_11ea_b25a_0242ac110002row8_col8 {\n",
       "            background-color:  #b40426;\n",
       "            color:  #f1f1f1;\n",
       "        }    #T_37a4ab2a_89ce_11ea_b25a_0242ac110002row8_col9 {\n",
       "            background-color:  #3b4cc0;\n",
       "            color:  #f1f1f1;\n",
       "        }    #T_37a4ab2a_89ce_11ea_b25a_0242ac110002row8_col10 {\n",
       "            background-color:  #d6dce4;\n",
       "            color:  #000000;\n",
       "        }    #T_37a4ab2a_89ce_11ea_b25a_0242ac110002row9_col0 {\n",
       "            background-color:  #6687ed;\n",
       "            color:  #000000;\n",
       "        }    #T_37a4ab2a_89ce_11ea_b25a_0242ac110002row9_col1 {\n",
       "            background-color:  #89acfd;\n",
       "            color:  #000000;\n",
       "        }    #T_37a4ab2a_89ce_11ea_b25a_0242ac110002row9_col2 {\n",
       "            background-color:  #5d7ce6;\n",
       "            color:  #000000;\n",
       "        }    #T_37a4ab2a_89ce_11ea_b25a_0242ac110002row9_col3 {\n",
       "            background-color:  #6e90f2;\n",
       "            color:  #000000;\n",
       "        }    #T_37a4ab2a_89ce_11ea_b25a_0242ac110002row9_col4 {\n",
       "            background-color:  #aac7fd;\n",
       "            color:  #000000;\n",
       "        }    #T_37a4ab2a_89ce_11ea_b25a_0242ac110002row9_col5 {\n",
       "            background-color:  #5572df;\n",
       "            color:  #000000;\n",
       "        }    #T_37a4ab2a_89ce_11ea_b25a_0242ac110002row9_col6 {\n",
       "            background-color:  #92b4fe;\n",
       "            color:  #000000;\n",
       "        }    #T_37a4ab2a_89ce_11ea_b25a_0242ac110002row9_col7 {\n",
       "            background-color:  #6282ea;\n",
       "            color:  #000000;\n",
       "        }    #T_37a4ab2a_89ce_11ea_b25a_0242ac110002row9_col8 {\n",
       "            background-color:  #445acc;\n",
       "            color:  #f1f1f1;\n",
       "        }    #T_37a4ab2a_89ce_11ea_b25a_0242ac110002row9_col9 {\n",
       "            background-color:  #b40426;\n",
       "            color:  #f1f1f1;\n",
       "        }    #T_37a4ab2a_89ce_11ea_b25a_0242ac110002row9_col10 {\n",
       "            background-color:  #e5d8d1;\n",
       "            color:  #000000;\n",
       "        }    #T_37a4ab2a_89ce_11ea_b25a_0242ac110002row10_col0 {\n",
       "            background-color:  #4961d2;\n",
       "            color:  #f1f1f1;\n",
       "        }    #T_37a4ab2a_89ce_11ea_b25a_0242ac110002row10_col1 {\n",
       "            background-color:  #536edd;\n",
       "            color:  #000000;\n",
       "        }    #T_37a4ab2a_89ce_11ea_b25a_0242ac110002row10_col2 {\n",
       "            background-color:  #abc8fd;\n",
       "            color:  #000000;\n",
       "        }    #T_37a4ab2a_89ce_11ea_b25a_0242ac110002row10_col3 {\n",
       "            background-color:  #a5c3fe;\n",
       "            color:  #000000;\n",
       "        }    #T_37a4ab2a_89ce_11ea_b25a_0242ac110002row10_col4 {\n",
       "            background-color:  #6e90f2;\n",
       "            color:  #000000;\n",
       "        }    #T_37a4ab2a_89ce_11ea_b25a_0242ac110002row10_col5 {\n",
       "            background-color:  #6687ed;\n",
       "            color:  #000000;\n",
       "        }    #T_37a4ab2a_89ce_11ea_b25a_0242ac110002row10_col6 {\n",
       "            background-color:  #ead5c9;\n",
       "            color:  #000000;\n",
       "        }    #T_37a4ab2a_89ce_11ea_b25a_0242ac110002row10_col7 {\n",
       "            background-color:  #b9d0f9;\n",
       "            color:  #000000;\n",
       "        }    #T_37a4ab2a_89ce_11ea_b25a_0242ac110002row10_col8 {\n",
       "            background-color:  #dddcdc;\n",
       "            color:  #000000;\n",
       "        }    #T_37a4ab2a_89ce_11ea_b25a_0242ac110002row10_col9 {\n",
       "            background-color:  #e8d6cc;\n",
       "            color:  #000000;\n",
       "        }    #T_37a4ab2a_89ce_11ea_b25a_0242ac110002row10_col10 {\n",
       "            background-color:  #b40426;\n",
       "            color:  #f1f1f1;\n",
       "        }</style><table id=\"T_37a4ab2a_89ce_11ea_b25a_0242ac110002\" ><thead>    <tr>        <th class=\"blank level0\" ></th>        <th class=\"col_heading level0 col0\" >Z0</th>        <th class=\"col_heading level0 col1\" >Z1</th>        <th class=\"col_heading level0 col2\" >W0</th>        <th class=\"col_heading level0 col3\" >W1</th>        <th class=\"col_heading level0 col4\" >W2</th>        <th class=\"col_heading level0 col5\" >W3</th>        <th class=\"col_heading level0 col6\" >W4</th>        <th class=\"col_heading level0 col7\" >W5</th>        <th class=\"col_heading level0 col8\" >W6</th>        <th class=\"col_heading level0 col9\" >v0</th>        <th class=\"col_heading level0 col10\" >y</th>    </tr></thead><tbody>\n",
       "                <tr>\n",
       "                        <th id=\"T_37a4ab2a_89ce_11ea_b25a_0242ac110002level0_row0\" class=\"row_heading level0 row0\" >Z0</th>\n",
       "                        <td id=\"T_37a4ab2a_89ce_11ea_b25a_0242ac110002row0_col0\" class=\"data row0 col0\" >1.000000</td>\n",
       "                        <td id=\"T_37a4ab2a_89ce_11ea_b25a_0242ac110002row0_col1\" class=\"data row0 col1\" >0.000559</td>\n",
       "                        <td id=\"T_37a4ab2a_89ce_11ea_b25a_0242ac110002row0_col2\" class=\"data row0 col2\" >-0.004302</td>\n",
       "                        <td id=\"T_37a4ab2a_89ce_11ea_b25a_0242ac110002row0_col3\" class=\"data row0 col3\" >0.000826</td>\n",
       "                        <td id=\"T_37a4ab2a_89ce_11ea_b25a_0242ac110002row0_col4\" class=\"data row0 col4\" >-0.002654</td>\n",
       "                        <td id=\"T_37a4ab2a_89ce_11ea_b25a_0242ac110002row0_col5\" class=\"data row0 col5\" >0.007415</td>\n",
       "                        <td id=\"T_37a4ab2a_89ce_11ea_b25a_0242ac110002row0_col6\" class=\"data row0 col6\" >0.007277</td>\n",
       "                        <td id=\"T_37a4ab2a_89ce_11ea_b25a_0242ac110002row0_col7\" class=\"data row0 col7\" >-0.007838</td>\n",
       "                        <td id=\"T_37a4ab2a_89ce_11ea_b25a_0242ac110002row0_col8\" class=\"data row0 col8\" >0.005322</td>\n",
       "                        <td id=\"T_37a4ab2a_89ce_11ea_b25a_0242ac110002row0_col9\" class=\"data row0 col9\" >0.131097</td>\n",
       "                        <td id=\"T_37a4ab2a_89ce_11ea_b25a_0242ac110002row0_col10\" class=\"data row0 col10\" >0.041421</td>\n",
       "            </tr>\n",
       "            <tr>\n",
       "                        <th id=\"T_37a4ab2a_89ce_11ea_b25a_0242ac110002level0_row1\" class=\"row_heading level0 row1\" >Z1</th>\n",
       "                        <td id=\"T_37a4ab2a_89ce_11ea_b25a_0242ac110002row1_col0\" class=\"data row1 col0\" >0.000559</td>\n",
       "                        <td id=\"T_37a4ab2a_89ce_11ea_b25a_0242ac110002row1_col1\" class=\"data row1 col1\" >1.000000</td>\n",
       "                        <td id=\"T_37a4ab2a_89ce_11ea_b25a_0242ac110002row1_col2\" class=\"data row1 col2\" >-0.000949</td>\n",
       "                        <td id=\"T_37a4ab2a_89ce_11ea_b25a_0242ac110002row1_col3\" class=\"data row1 col3\" >0.010723</td>\n",
       "                        <td id=\"T_37a4ab2a_89ce_11ea_b25a_0242ac110002row1_col4\" class=\"data row1 col4\" >-0.010050</td>\n",
       "                        <td id=\"T_37a4ab2a_89ce_11ea_b25a_0242ac110002row1_col5\" class=\"data row1 col5\" >0.021192</td>\n",
       "                        <td id=\"T_37a4ab2a_89ce_11ea_b25a_0242ac110002row1_col6\" class=\"data row1 col6\" >0.002194</td>\n",
       "                        <td id=\"T_37a4ab2a_89ce_11ea_b25a_0242ac110002row1_col7\" class=\"data row1 col7\" >0.011575</td>\n",
       "                        <td id=\"T_37a4ab2a_89ce_11ea_b25a_0242ac110002row1_col8\" class=\"data row1 col8\" >-0.013294</td>\n",
       "                        <td id=\"T_37a4ab2a_89ce_11ea_b25a_0242ac110002row1_col9\" class=\"data row1 col9\" >0.228483</td>\n",
       "                        <td id=\"T_37a4ab2a_89ce_11ea_b25a_0242ac110002row1_col10\" class=\"data row1 col10\" >0.069575</td>\n",
       "            </tr>\n",
       "            <tr>\n",
       "                        <th id=\"T_37a4ab2a_89ce_11ea_b25a_0242ac110002level0_row2\" class=\"row_heading level0 row2\" >W0</th>\n",
       "                        <td id=\"T_37a4ab2a_89ce_11ea_b25a_0242ac110002row2_col0\" class=\"data row2 col0\" >-0.004302</td>\n",
       "                        <td id=\"T_37a4ab2a_89ce_11ea_b25a_0242ac110002row2_col1\" class=\"data row2 col1\" >-0.000949</td>\n",
       "                        <td id=\"T_37a4ab2a_89ce_11ea_b25a_0242ac110002row2_col2\" class=\"data row2 col2\" >1.000000</td>\n",
       "                        <td id=\"T_37a4ab2a_89ce_11ea_b25a_0242ac110002row2_col3\" class=\"data row2 col3\" >-0.012450</td>\n",
       "                        <td id=\"T_37a4ab2a_89ce_11ea_b25a_0242ac110002row2_col4\" class=\"data row2 col4\" >0.002329</td>\n",
       "                        <td id=\"T_37a4ab2a_89ce_11ea_b25a_0242ac110002row2_col5\" class=\"data row2 col5\" >0.000421</td>\n",
       "                        <td id=\"T_37a4ab2a_89ce_11ea_b25a_0242ac110002row2_col6\" class=\"data row2 col6\" >-0.016291</td>\n",
       "                        <td id=\"T_37a4ab2a_89ce_11ea_b25a_0242ac110002row2_col7\" class=\"data row2 col7\" >-0.005894</td>\n",
       "                        <td id=\"T_37a4ab2a_89ce_11ea_b25a_0242ac110002row2_col8\" class=\"data row2 col8\" >0.000202</td>\n",
       "                        <td id=\"T_37a4ab2a_89ce_11ea_b25a_0242ac110002row2_col9\" class=\"data row2 col9\" >0.096589</td>\n",
       "                        <td id=\"T_37a4ab2a_89ce_11ea_b25a_0242ac110002row2_col10\" class=\"data row2 col10\" >0.326196</td>\n",
       "            </tr>\n",
       "            <tr>\n",
       "                        <th id=\"T_37a4ab2a_89ce_11ea_b25a_0242ac110002level0_row3\" class=\"row_heading level0 row3\" >W1</th>\n",
       "                        <td id=\"T_37a4ab2a_89ce_11ea_b25a_0242ac110002row3_col0\" class=\"data row3 col0\" >0.000826</td>\n",
       "                        <td id=\"T_37a4ab2a_89ce_11ea_b25a_0242ac110002row3_col1\" class=\"data row3 col1\" >0.010723</td>\n",
       "                        <td id=\"T_37a4ab2a_89ce_11ea_b25a_0242ac110002row3_col2\" class=\"data row3 col2\" >-0.012450</td>\n",
       "                        <td id=\"T_37a4ab2a_89ce_11ea_b25a_0242ac110002row3_col3\" class=\"data row3 col3\" >1.000000</td>\n",
       "                        <td id=\"T_37a4ab2a_89ce_11ea_b25a_0242ac110002row3_col4\" class=\"data row3 col4\" >0.013125</td>\n",
       "                        <td id=\"T_37a4ab2a_89ce_11ea_b25a_0242ac110002row3_col5\" class=\"data row3 col5\" >-0.017785</td>\n",
       "                        <td id=\"T_37a4ab2a_89ce_11ea_b25a_0242ac110002row3_col6\" class=\"data row3 col6\" >-0.012416</td>\n",
       "                        <td id=\"T_37a4ab2a_89ce_11ea_b25a_0242ac110002row3_col7\" class=\"data row3 col7\" >-0.004025</td>\n",
       "                        <td id=\"T_37a4ab2a_89ce_11ea_b25a_0242ac110002row3_col8\" class=\"data row3 col8\" >-0.012293</td>\n",
       "                        <td id=\"T_37a4ab2a_89ce_11ea_b25a_0242ac110002row3_col9\" class=\"data row3 col9\" >0.145645</td>\n",
       "                        <td id=\"T_37a4ab2a_89ce_11ea_b25a_0242ac110002row3_col10\" class=\"data row3 col10\" >0.307400</td>\n",
       "            </tr>\n",
       "            <tr>\n",
       "                        <th id=\"T_37a4ab2a_89ce_11ea_b25a_0242ac110002level0_row4\" class=\"row_heading level0 row4\" >W2</th>\n",
       "                        <td id=\"T_37a4ab2a_89ce_11ea_b25a_0242ac110002row4_col0\" class=\"data row4 col0\" >-0.002654</td>\n",
       "                        <td id=\"T_37a4ab2a_89ce_11ea_b25a_0242ac110002row4_col1\" class=\"data row4 col1\" >-0.010050</td>\n",
       "                        <td id=\"T_37a4ab2a_89ce_11ea_b25a_0242ac110002row4_col2\" class=\"data row4 col2\" >0.002329</td>\n",
       "                        <td id=\"T_37a4ab2a_89ce_11ea_b25a_0242ac110002row4_col3\" class=\"data row4 col3\" >0.013125</td>\n",
       "                        <td id=\"T_37a4ab2a_89ce_11ea_b25a_0242ac110002row4_col4\" class=\"data row4 col4\" >1.000000</td>\n",
       "                        <td id=\"T_37a4ab2a_89ce_11ea_b25a_0242ac110002row4_col5\" class=\"data row4 col5\" >-0.003478</td>\n",
       "                        <td id=\"T_37a4ab2a_89ce_11ea_b25a_0242ac110002row4_col6\" class=\"data row4 col6\" >0.012945</td>\n",
       "                        <td id=\"T_37a4ab2a_89ce_11ea_b25a_0242ac110002row4_col7\" class=\"data row4 col7\" >0.015141</td>\n",
       "                        <td id=\"T_37a4ab2a_89ce_11ea_b25a_0242ac110002row4_col8\" class=\"data row4 col8\" >0.001977</td>\n",
       "                        <td id=\"T_37a4ab2a_89ce_11ea_b25a_0242ac110002row4_col9\" class=\"data row4 col9\" >0.327309</td>\n",
       "                        <td id=\"T_37a4ab2a_89ce_11ea_b25a_0242ac110002row4_col10\" class=\"data row4 col10\" >0.154985</td>\n",
       "            </tr>\n",
       "            <tr>\n",
       "                        <th id=\"T_37a4ab2a_89ce_11ea_b25a_0242ac110002level0_row5\" class=\"row_heading level0 row5\" >W3</th>\n",
       "                        <td id=\"T_37a4ab2a_89ce_11ea_b25a_0242ac110002row5_col0\" class=\"data row5 col0\" >0.007415</td>\n",
       "                        <td id=\"T_37a4ab2a_89ce_11ea_b25a_0242ac110002row5_col1\" class=\"data row5 col1\" >0.021192</td>\n",
       "                        <td id=\"T_37a4ab2a_89ce_11ea_b25a_0242ac110002row5_col2\" class=\"data row5 col2\" >0.000421</td>\n",
       "                        <td id=\"T_37a4ab2a_89ce_11ea_b25a_0242ac110002row5_col3\" class=\"data row5 col3\" >-0.017785</td>\n",
       "                        <td id=\"T_37a4ab2a_89ce_11ea_b25a_0242ac110002row5_col4\" class=\"data row5 col4\" >-0.003478</td>\n",
       "                        <td id=\"T_37a4ab2a_89ce_11ea_b25a_0242ac110002row5_col5\" class=\"data row5 col5\" >1.000000</td>\n",
       "                        <td id=\"T_37a4ab2a_89ce_11ea_b25a_0242ac110002row5_col6\" class=\"data row5 col6\" >-0.022486</td>\n",
       "                        <td id=\"T_37a4ab2a_89ce_11ea_b25a_0242ac110002row5_col7\" class=\"data row5 col7\" >0.010494</td>\n",
       "                        <td id=\"T_37a4ab2a_89ce_11ea_b25a_0242ac110002row5_col8\" class=\"data row5 col8\" >-0.001976</td>\n",
       "                        <td id=\"T_37a4ab2a_89ce_11ea_b25a_0242ac110002row5_col9\" class=\"data row5 col9\" >0.066496</td>\n",
       "                        <td id=\"T_37a4ab2a_89ce_11ea_b25a_0242ac110002row5_col10\" class=\"data row5 col10\" >0.117730</td>\n",
       "            </tr>\n",
       "            <tr>\n",
       "                        <th id=\"T_37a4ab2a_89ce_11ea_b25a_0242ac110002level0_row6\" class=\"row_heading level0 row6\" >W4</th>\n",
       "                        <td id=\"T_37a4ab2a_89ce_11ea_b25a_0242ac110002row6_col0\" class=\"data row6 col0\" >0.007277</td>\n",
       "                        <td id=\"T_37a4ab2a_89ce_11ea_b25a_0242ac110002row6_col1\" class=\"data row6 col1\" >0.002194</td>\n",
       "                        <td id=\"T_37a4ab2a_89ce_11ea_b25a_0242ac110002row6_col2\" class=\"data row6 col2\" >-0.016291</td>\n",
       "                        <td id=\"T_37a4ab2a_89ce_11ea_b25a_0242ac110002row6_col3\" class=\"data row6 col3\" >-0.012416</td>\n",
       "                        <td id=\"T_37a4ab2a_89ce_11ea_b25a_0242ac110002row6_col4\" class=\"data row6 col4\" >0.012945</td>\n",
       "                        <td id=\"T_37a4ab2a_89ce_11ea_b25a_0242ac110002row6_col5\" class=\"data row6 col5\" >-0.022486</td>\n",
       "                        <td id=\"T_37a4ab2a_89ce_11ea_b25a_0242ac110002row6_col6\" class=\"data row6 col6\" >1.000000</td>\n",
       "                        <td id=\"T_37a4ab2a_89ce_11ea_b25a_0242ac110002row6_col7\" class=\"data row6 col7\" >0.010822</td>\n",
       "                        <td id=\"T_37a4ab2a_89ce_11ea_b25a_0242ac110002row6_col8\" class=\"data row6 col8\" >-0.012854</td>\n",
       "                        <td id=\"T_37a4ab2a_89ce_11ea_b25a_0242ac110002row6_col9\" class=\"data row6 col9\" >0.246327</td>\n",
       "                        <td id=\"T_37a4ab2a_89ce_11ea_b25a_0242ac110002row6_col10\" class=\"data row6 col10\" >0.542651</td>\n",
       "            </tr>\n",
       "            <tr>\n",
       "                        <th id=\"T_37a4ab2a_89ce_11ea_b25a_0242ac110002level0_row7\" class=\"row_heading level0 row7\" >W5</th>\n",
       "                        <td id=\"T_37a4ab2a_89ce_11ea_b25a_0242ac110002row7_col0\" class=\"data row7 col0\" >-0.007838</td>\n",
       "                        <td id=\"T_37a4ab2a_89ce_11ea_b25a_0242ac110002row7_col1\" class=\"data row7 col1\" >0.011575</td>\n",
       "                        <td id=\"T_37a4ab2a_89ce_11ea_b25a_0242ac110002row7_col2\" class=\"data row7 col2\" >-0.005894</td>\n",
       "                        <td id=\"T_37a4ab2a_89ce_11ea_b25a_0242ac110002row7_col3\" class=\"data row7 col3\" >-0.004025</td>\n",
       "                        <td id=\"T_37a4ab2a_89ce_11ea_b25a_0242ac110002row7_col4\" class=\"data row7 col4\" >0.015141</td>\n",
       "                        <td id=\"T_37a4ab2a_89ce_11ea_b25a_0242ac110002row7_col5\" class=\"data row7 col5\" >0.010494</td>\n",
       "                        <td id=\"T_37a4ab2a_89ce_11ea_b25a_0242ac110002row7_col6\" class=\"data row7 col6\" >0.010822</td>\n",
       "                        <td id=\"T_37a4ab2a_89ce_11ea_b25a_0242ac110002row7_col7\" class=\"data row7 col7\" >1.000000</td>\n",
       "                        <td id=\"T_37a4ab2a_89ce_11ea_b25a_0242ac110002row7_col8\" class=\"data row7 col8\" >0.009795</td>\n",
       "                        <td id=\"T_37a4ab2a_89ce_11ea_b25a_0242ac110002row7_col9\" class=\"data row7 col9\" >0.118990</td>\n",
       "                        <td id=\"T_37a4ab2a_89ce_11ea_b25a_0242ac110002row7_col10\" class=\"data row7 col10\" >0.371848</td>\n",
       "            </tr>\n",
       "            <tr>\n",
       "                        <th id=\"T_37a4ab2a_89ce_11ea_b25a_0242ac110002level0_row8\" class=\"row_heading level0 row8\" >W6</th>\n",
       "                        <td id=\"T_37a4ab2a_89ce_11ea_b25a_0242ac110002row8_col0\" class=\"data row8 col0\" >0.005322</td>\n",
       "                        <td id=\"T_37a4ab2a_89ce_11ea_b25a_0242ac110002row8_col1\" class=\"data row8 col1\" >-0.013294</td>\n",
       "                        <td id=\"T_37a4ab2a_89ce_11ea_b25a_0242ac110002row8_col2\" class=\"data row8 col2\" >0.000202</td>\n",
       "                        <td id=\"T_37a4ab2a_89ce_11ea_b25a_0242ac110002row8_col3\" class=\"data row8 col3\" >-0.012293</td>\n",
       "                        <td id=\"T_37a4ab2a_89ce_11ea_b25a_0242ac110002row8_col4\" class=\"data row8 col4\" >0.001977</td>\n",
       "                        <td id=\"T_37a4ab2a_89ce_11ea_b25a_0242ac110002row8_col5\" class=\"data row8 col5\" >-0.001976</td>\n",
       "                        <td id=\"T_37a4ab2a_89ce_11ea_b25a_0242ac110002row8_col6\" class=\"data row8 col6\" >-0.012854</td>\n",
       "                        <td id=\"T_37a4ab2a_89ce_11ea_b25a_0242ac110002row8_col7\" class=\"data row8 col7\" >0.009795</td>\n",
       "                        <td id=\"T_37a4ab2a_89ce_11ea_b25a_0242ac110002row8_col8\" class=\"data row8 col8\" >1.000000</td>\n",
       "                        <td id=\"T_37a4ab2a_89ce_11ea_b25a_0242ac110002row8_col9\" class=\"data row8 col9\" >0.021548</td>\n",
       "                        <td id=\"T_37a4ab2a_89ce_11ea_b25a_0242ac110002row8_col10\" class=\"data row8 col10\" >0.495092</td>\n",
       "            </tr>\n",
       "            <tr>\n",
       "                        <th id=\"T_37a4ab2a_89ce_11ea_b25a_0242ac110002level0_row9\" class=\"row_heading level0 row9\" >v0</th>\n",
       "                        <td id=\"T_37a4ab2a_89ce_11ea_b25a_0242ac110002row9_col0\" class=\"data row9 col0\" >0.131097</td>\n",
       "                        <td id=\"T_37a4ab2a_89ce_11ea_b25a_0242ac110002row9_col1\" class=\"data row9 col1\" >0.228483</td>\n",
       "                        <td id=\"T_37a4ab2a_89ce_11ea_b25a_0242ac110002row9_col2\" class=\"data row9 col2\" >0.096589</td>\n",
       "                        <td id=\"T_37a4ab2a_89ce_11ea_b25a_0242ac110002row9_col3\" class=\"data row9 col3\" >0.145645</td>\n",
       "                        <td id=\"T_37a4ab2a_89ce_11ea_b25a_0242ac110002row9_col4\" class=\"data row9 col4\" >0.327309</td>\n",
       "                        <td id=\"T_37a4ab2a_89ce_11ea_b25a_0242ac110002row9_col5\" class=\"data row9 col5\" >0.066496</td>\n",
       "                        <td id=\"T_37a4ab2a_89ce_11ea_b25a_0242ac110002row9_col6\" class=\"data row9 col6\" >0.246327</td>\n",
       "                        <td id=\"T_37a4ab2a_89ce_11ea_b25a_0242ac110002row9_col7\" class=\"data row9 col7\" >0.118990</td>\n",
       "                        <td id=\"T_37a4ab2a_89ce_11ea_b25a_0242ac110002row9_col8\" class=\"data row9 col8\" >0.021548</td>\n",
       "                        <td id=\"T_37a4ab2a_89ce_11ea_b25a_0242ac110002row9_col9\" class=\"data row9 col9\" >1.000000</td>\n",
       "                        <td id=\"T_37a4ab2a_89ce_11ea_b25a_0242ac110002row9_col10\" class=\"data row9 col10\" >0.553531</td>\n",
       "            </tr>\n",
       "            <tr>\n",
       "                        <th id=\"T_37a4ab2a_89ce_11ea_b25a_0242ac110002level0_row10\" class=\"row_heading level0 row10\" >y</th>\n",
       "                        <td id=\"T_37a4ab2a_89ce_11ea_b25a_0242ac110002row10_col0\" class=\"data row10 col0\" >0.041421</td>\n",
       "                        <td id=\"T_37a4ab2a_89ce_11ea_b25a_0242ac110002row10_col1\" class=\"data row10 col1\" >0.069575</td>\n",
       "                        <td id=\"T_37a4ab2a_89ce_11ea_b25a_0242ac110002row10_col2\" class=\"data row10 col2\" >0.326196</td>\n",
       "                        <td id=\"T_37a4ab2a_89ce_11ea_b25a_0242ac110002row10_col3\" class=\"data row10 col3\" >0.307400</td>\n",
       "                        <td id=\"T_37a4ab2a_89ce_11ea_b25a_0242ac110002row10_col4\" class=\"data row10 col4\" >0.154985</td>\n",
       "                        <td id=\"T_37a4ab2a_89ce_11ea_b25a_0242ac110002row10_col5\" class=\"data row10 col5\" >0.117730</td>\n",
       "                        <td id=\"T_37a4ab2a_89ce_11ea_b25a_0242ac110002row10_col6\" class=\"data row10 col6\" >0.542651</td>\n",
       "                        <td id=\"T_37a4ab2a_89ce_11ea_b25a_0242ac110002row10_col7\" class=\"data row10 col7\" >0.371848</td>\n",
       "                        <td id=\"T_37a4ab2a_89ce_11ea_b25a_0242ac110002row10_col8\" class=\"data row10 col8\" >0.495092</td>\n",
       "                        <td id=\"T_37a4ab2a_89ce_11ea_b25a_0242ac110002row10_col9\" class=\"data row10 col9\" >0.553531</td>\n",
       "                        <td id=\"T_37a4ab2a_89ce_11ea_b25a_0242ac110002row10_col10\" class=\"data row10 col10\" >1.000000</td>\n",
       "            </tr>\n",
       "    </tbody></table>"
      ],
      "text/plain": [
       "<pandas.io.formats.style.Styler at 0x7f5dea72f190>"
      ]
     },
     "execution_count": 5,
     "metadata": {},
     "output_type": "execute_result"
    }
   ],
   "source": [
    "# Unbeliavable to check how corr changes nothing with the treatment having or not causal impact \n",
    "corr = df.corr()\n",
    "corr.style.background_gradient(cmap='coolwarm')"
   ]
  },
  {
   "cell_type": "code",
   "execution_count": 6,
   "metadata": {},
   "outputs": [
    {
     "data": {
      "text/plain": [
       "<matplotlib.axes._subplots.AxesSubplot at 0x7f5de859b410>"
      ]
     },
     "execution_count": 6,
     "metadata": {},
     "output_type": "execute_result"
    },
    {
     "data": {
      "image/png": "[encoded data removed]",
      "text/plain": [
       "<Figure size 432x288 with 1 Axes>"
      ]
     },
     "metadata": {
      "needs_background": "light"
     },
     "output_type": "display_data"
    }
   ],
   "source": [
    "sns.barplot(data=df, x='v0', y='y')"
   ]
  },
  {
   "cell_type": "code",
   "execution_count": 16,
   "metadata": {},
   "outputs": [],
   "source": [
    "#cofounders_y = [col for col in df.columns if 'W' in col or 'y'in col]\n",
    "#sns.pairplot(df[cofounders_y])"
   ]
  },
  {
   "cell_type": "markdown",
   "metadata": {},
   "source": [
    "## Causal Framework"
   ]
  },
  {
   "cell_type": "markdown",
   "metadata": {},
   "source": [
    "### **Model** Phase - input the \"graph\""
   ]
  },
  {
   "cell_type": "markdown",
   "metadata": {},
   "source": [
    "We now input a causal graph in the GML graph format (recommended). You can also use the DOT format."
   ]
  },
  {
   "cell_type": "code",
   "execution_count": 7,
   "metadata": {},
   "outputs": [
    {
     "name": "stderr",
     "output_type": "stream",
     "text": [
      "WARNING:dowhy.causal_model:Causal Graph not provided. DoWhy will construct a graph based on data inputs.\n",
      "INFO:dowhy.causal_graph:If this is observed data (not from a randomized experiment), there might always be missing confounders. Adding a node named \"Unobserved Confounders\" to reflect this.\n",
      "INFO:dowhy.causal_model:Model to find the causal effect of treatment ['v0'] on outcome ['y']\n"
     ]
    }
   ],
   "source": [
    "# With graph\n",
    "model=CausalModel(\n",
    "    data = df,\n",
    "    treatment=data[\"treatment_name\"],\n",
    "    outcome=data[\"outcome_name\"],\n",
    "    common_causes=data[\"common_causes_names\"], # both works the same, but the first is based on a previous graph\n",
    "    instruments=data[\"instrument_names\"],\n",
    "    logging_level = logging.INFO # not 100% of its funcionality, but I suppose it serves to gain efficiency\n",
    ")"
   ]
  },
  {
   "cell_type": "code",
   "execution_count": 18,
   "metadata": {},
   "outputs": [
    {
     "name": "stderr",
     "output_type": "stream",
     "text": [
      "WARNING:dowhy.causal_graph:Warning: Pygraphviz cannot be loaded. Check that graphviz and pygraphviz are installed.\n",
      "INFO:dowhy.causal_graph:Using Matplotlib for plotting\n"
     ]
    },
    {
     "data": {
      "image/png": "[encoded data removed]",
      "text/plain": [
       "<Figure size 432x288 with 1 Axes>"
      ]
     },
     "metadata": {},
     "output_type": "display_data"
    }
   ],
   "source": [
    "model.view_model()"
   ]
  },
  {
   "cell_type": "code",
   "execution_count": 20,
   "metadata": {
    "scrolled": true
   },
   "outputs": [],
   "source": [
    "#from IPython.display import Image, display\n",
    "#display(Image(filename=\"causal_model.png\"))"
   ]
  },
  {
   "cell_type": "markdown",
   "metadata": {},
   "source": [
    "The above causal graph shows the assumptions encoded in the causal model. We can now use this graph to first identify \n",
    "the causal effect (go from a causal estimand to a probability expression), and then estimate the causal effect."
   ]
  },
  {
   "cell_type": "markdown",
   "metadata": {},
   "source": [
    "**DoWhy philosophy: Keep identification and estimation separate**\n",
    "\n",
    "Identification can be achieved without access to the data, acccesing only the graph. This results in an expression to be computed. This expression can then be evaluated using the available data in the estimation step.\n",
    "It is important to understand that these are orthogonal steps."
   ]
  },
  {
   "cell_type": "markdown",
   "metadata": {},
   "source": [
    "### Identification Phase"
   ]
  },
  {
   "cell_type": "code",
   "execution_count": 8,
   "metadata": {},
   "outputs": [
    {
     "name": "stderr",
     "output_type": "stream",
     "text": [
      "INFO:dowhy.causal_identifier:Common causes of treatment and outcome:['W5', 'W6', 'U', 'W0', 'W4', 'W2', 'W3', 'W1']\n",
      "WARNING:dowhy.causal_identifier:If this is observed data (not from a randomized experiment), there might always be missing confounders. Causal effect cannot be identified perfectly.\n",
      "INFO:dowhy.causal_identifier:Continuing by ignoring these unobserved confounders because proceed_when_unidentifiable flag is True.\n",
      "INFO:dowhy.causal_identifier:Instrumental variables for treatment and outcome:['Z1', 'Z0']\n"
     ]
    },
    {
     "name": "stdout",
     "output_type": "stream",
     "text": [
      "Estimand type: nonparametric-ate\n",
      "### Estimand : 1\n",
      "Estimand name: backdoor\n",
      "Estimand expression:\n",
      "  d                                       \n",
      "─────(Expectation(y|W5,W6,W0,W4,W2,W3,W1))\n",
      "d[v₀]                                     \n",
      "Estimand assumption 1, Unconfoundedness: If U→{v0} and U→y then P(y|v0,W5,W6,W0,W4,W2,W3,W1,U) = P(y|v0,W5,W6,W0,W4,W2,W3,W1)\n",
      "### Estimand : 2\n",
      "Estimand name: iv\n",
      "Estimand expression:\n",
      "Expectation(Derivative(y, [Z1, Z0])*Derivative([v0], [Z1, Z0])**(-1))\n",
      "Estimand assumption 1, As-if-random: If U→→y then ¬(U →→{Z1,Z0})\n",
      "Estimand assumption 2, Exclusion: If we remove {Z1,Z0}→{v0}, then ¬({Z1,Z0}→y)\n",
      "\n"
     ]
    }
   ],
   "source": [
    "identified_estimand = model.identify_effect(proceed_when_unidentifiable=True)\n",
    "print(identified_estimand)"
   ]
  },
  {
   "cell_type": "markdown",
   "metadata": {},
   "source": [
    "### Estimation Phase"
   ]
  },
  {
   "cell_type": "markdown",
   "metadata": {},
   "source": [
    "Fundamentally, test at least two different methods to have more confidence on the effect. Here, we'll examine ass built-in methods inside DoWhy"
   ]
  },
  {
   "cell_type": "markdown",
   "metadata": {},
   "source": [
    "* Linear Regression"
   ]
  },
  {
   "cell_type": "markdown",
   "metadata": {},
   "source": [
    "Brief Explanation of T's and B's "
   ]
  },
  {
   "cell_type": "code",
   "execution_count": 22,
   "metadata": {},
   "outputs": [
    {
     "name": "stderr",
     "output_type": "stream",
     "text": [
      "INFO:dowhy.causal_estimator:INFO: Using Linear Regression Estimator\n",
      "INFO:dowhy.causal_estimator:b: y~v0+W5+W6+W0+W4+W2+W3+W1\n"
     ]
    },
    {
     "name": "stdout",
     "output_type": "stream",
     "text": [
      "*** Causal Estimate ***\n",
      "\n",
      "## Target estimand\n",
      "Estimand type: nonparametric-ate\n",
      "### Estimand : 1\n",
      "Estimand name: backdoor\n",
      "Estimand expression:\n",
      "  d                                       \n",
      "─────(Expectation(y|W5,W6,W0,W4,W2,W3,W1))\n",
      "d[v₀]                                     \n",
      "Estimand assumption 1, Unconfoundedness: If U→{v0} and U→y then P(y|v0,W5,W6,W0,W4,W2,W3,W1,U) = P(y|v0,W5,W6,W0,W4,W2,W3,W1)\n",
      "### Estimand : 2\n",
      "Estimand name: iv\n",
      "Estimand expression:\n",
      "Expectation(Derivative(y, [Z1, Z0])*Derivative([v0], [Z1, Z0])**(-1))\n",
      "Estimand assumption 1, As-if-random: If U→→y then ¬(U →→{Z1,Z0})\n",
      "Estimand assumption 2, Exclusion: If we remove {Z1,Z0}→{v0}, then ¬({Z1,Z0}→y)\n",
      "\n",
      "## Realized estimand\n",
      "b: y~v0+W5+W6+W0+W4+W2+W3+W1\n",
      "## Estimate\n",
      "Value: 10.000000000000002\n",
      "\n"
     ]
    }
   ],
   "source": [
    "causal_estimate = model.estimate_effect(identified_estimand,\n",
    "        method_name=\"backdoor.linear_regression\")\n",
    "print(causal_estimate)"
   ]
  },
  {
   "cell_type": "markdown",
   "metadata": {},
   "source": [
    "* Propensity-based Stratification"
   ]
  },
  {
   "cell_type": "markdown",
   "metadata": {},
   "source": [
    "Brief Explanation of T's and B's "
   ]
  },
  {
   "cell_type": "code",
   "execution_count": 25,
   "metadata": {},
   "outputs": [
    {
     "name": "stderr",
     "output_type": "stream",
     "text": [
      "INFO:dowhy.causal_estimator:INFO: Using Propensity Score Stratification Estimator\n",
      "INFO:dowhy.causal_estimator:b: y~v0+W5+W6+W0+W4+W2+W3+W1\n",
      "/opt/conda/lib/python3.7/site-packages/sklearn/utils/validation.py:760: DataConversionWarning: A column-vector y was passed when a 1d array was expected. Please change the shape of y to (n_samples, ), for example using ravel().\n",
      "  y = column_or_1d(y, warn=True)\n"
     ]
    },
    {
     "name": "stdout",
     "output_type": "stream",
     "text": [
      "*** Causal Estimate ***\n",
      "\n",
      "## Target estimand\n",
      "Estimand type: nonparametric-ate\n",
      "### Estimand : 1\n",
      "Estimand name: backdoor\n",
      "Estimand expression:\n",
      "  d                                       \n",
      "─────(Expectation(y|W5,W6,W0,W4,W2,W3,W1))\n",
      "d[v₀]                                     \n",
      "Estimand assumption 1, Unconfoundedness: If U→{v0} and U→y then P(y|v0,W5,W6,W0,W4,W2,W3,W1,U) = P(y|v0,W5,W6,W0,W4,W2,W3,W1)\n",
      "### Estimand : 2\n",
      "Estimand name: iv\n",
      "Estimand expression:\n",
      "Expectation(Derivative(y, [Z1, Z0])*Derivative([v0], [Z1, Z0])**(-1))\n",
      "Estimand assumption 1, As-if-random: If U→→y then ¬(U →→{Z1,Z0})\n",
      "Estimand assumption 2, Exclusion: If we remove {Z1,Z0}→{v0}, then ¬({Z1,Z0}→y)\n",
      "\n",
      "## Realized estimand\n",
      "b: y~v0+W5+W6+W0+W4+W2+W3+W1\n",
      "## Estimate\n",
      "Value: 10.081473093106588\n",
      "\n"
     ]
    }
   ],
   "source": [
    "causal_estimate = model.estimate_effect(\n",
    "    identified_estimand,method_name=\"backdoor.propensity_score_stratification\"\n",
    ")\n",
    "print(causal_estimate)"
   ]
  },
  {
   "cell_type": "markdown",
   "metadata": {},
   "source": [
    "* Propensity Score Matching"
   ]
  },
  {
   "cell_type": "markdown",
   "metadata": {},
   "source": [
    "Brief Explanation of T's and B's "
   ]
  },
  {
   "cell_type": "code",
   "execution_count": 19,
   "metadata": {},
   "outputs": [
    {
     "name": "stderr",
     "output_type": "stream",
     "text": [
      "INFO:dowhy.causal_estimator:INFO: Using Propensity Score Matching Estimator\n",
      "INFO:dowhy.causal_estimator:b: y~v0+W5+W6+W0+W4+W2+W3+W1\n",
      "/opt/conda/lib/python3.7/site-packages/sklearn/utils/validation.py:760: DataConversionWarning: A column-vector y was passed when a 1d array was expected. Please change the shape of y to (n_samples, ), for example using ravel().\n",
      "  y = column_or_1d(y, warn=True)\n"
     ]
    },
    {
     "name": "stdout",
     "output_type": "stream",
     "text": [
      "*** Causal Estimate ***\n",
      "\n",
      "## Target estimand\n",
      "Estimand type: nonparametric-ate\n",
      "### Estimand : 1\n",
      "Estimand name: backdoor\n",
      "Estimand expression:\n",
      "  d                                       \n",
      "─────(Expectation(y|W5,W6,W0,W4,W2,W3,W1))\n",
      "d[v₀]                                     \n",
      "Estimand assumption 1, Unconfoundedness: If U→{v0} and U→y then P(y|v0,W5,W6,W0,W4,W2,W3,W1,U) = P(y|v0,W5,W6,W0,W4,W2,W3,W1)\n",
      "### Estimand : 2\n",
      "Estimand name: iv\n",
      "Estimand expression:\n",
      "Expectation(Derivative(y, [Z1, Z0])*Derivative([v0], [Z1, Z0])**(-1))\n",
      "Estimand assumption 1, As-if-random: If U→→y then ¬(U →→{Z1,Z0})\n",
      "Estimand assumption 2, Exclusion: If we remove {Z1,Z0}→{v0}, then ¬({Z1,Z0}→y)\n",
      "\n",
      "## Realized estimand\n",
      "b: y~v0+W5+W6+W0+W4+W2+W3+W1\n",
      "## Estimate\n",
      "Value: 14.36293017656476\n",
      "\n"
     ]
    }
   ],
   "source": [
    "causal_estimate = model.estimate_effect(identified_estimand,\n",
    "        method_name=\"backdoor.propensity_score_matching\")\n",
    "print(causal_estimate)"
   ]
  },
  {
   "cell_type": "markdown",
   "metadata": {},
   "source": [
    "* Inverse Propensity Weighting"
   ]
  },
  {
   "cell_type": "markdown",
   "metadata": {},
   "source": [
    "Brief Explanation of T's and B's "
   ]
  },
  {
   "cell_type": "markdown",
   "metadata": {},
   "source": [
    "We will be using (inverse) propensity scores to assign weights to units in the data. DoWhy supports a few different weighting schemes:\n",
    "1. Vanilla Inverse Propensity Score weighting (IPS) (weighting_scheme=\"ips_weight\")\n",
    "2. Self-normalized IPS weighting (also known as the Hajek estimator) (weighting_scheme=\"ips_normalized_weight\")\n",
    "3. Stabilized IPS weighting (weighting_scheme = \"ips_stabilized_weight\")"
   ]
  },
  {
   "cell_type": "code",
   "execution_count": 24,
   "metadata": {},
   "outputs": [
    {
     "name": "stderr",
     "output_type": "stream",
     "text": [
      "INFO:dowhy.causal_estimator:INFO: Using Propensity Score Weighting Estimator\n",
      "INFO:dowhy.causal_estimator:b: y~v0+W5+W6+W0+W4+W2+W3+W1\n"
     ]
    },
    {
     "name": "stdout",
     "output_type": "stream",
     "text": [
      "*** Causal Estimate ***\n",
      "\n",
      "## Target estimand\n",
      "Estimand type: nonparametric-ate\n",
      "### Estimand : 1\n",
      "Estimand name: backdoor\n",
      "Estimand expression:\n",
      "  d                                       \n",
      "─────(Expectation(y|W5,W6,W0,W4,W2,W3,W1))\n",
      "d[v₀]                                     \n",
      "Estimand assumption 1, Unconfoundedness: If U→{v0} and U→y then P(y|v0,W5,W6,W0,W4,W2,W3,W1,U) = P(y|v0,W5,W6,W0,W4,W2,W3,W1)\n",
      "### Estimand : 2\n",
      "Estimand name: iv\n",
      "Estimand expression:\n",
      "Expectation(Derivative(y, [Z1, Z0])*Derivative([v0], [Z1, Z0])**(-1))\n",
      "Estimand assumption 1, As-if-random: If U→→y then ¬(U →→{Z1,Z0})\n",
      "Estimand assumption 2, Exclusion: If we remove {Z1,Z0}→{v0}, then ¬({Z1,Z0}→y)\n",
      "\n",
      "## Realized estimand\n",
      "b: y~v0+W5+W6+W0+W4+W2+W3+W1\n",
      "## Estimate\n",
      "Value: 14.975399894996706\n",
      "\n"
     ]
    },
    {
     "name": "stderr",
     "output_type": "stream",
     "text": [
      "/opt/conda/lib/python3.7/site-packages/sklearn/utils/validation.py:760: DataConversionWarning: A column-vector y was passed when a 1d array was expected. Please change the shape of y to (n_samples, ), for example using ravel().\n",
      "  y = column_or_1d(y, warn=True)\n"
     ]
    }
   ],
   "source": [
    "causal_estimate = model.estimate_effect(\n",
    "    identified_estimand,\n",
    "    method_name=\"backdoor.propensity_score_weighting\",\n",
    "    target_units = \"ate\",\n",
    "    method_params={\"weighting_scheme\":\"ips_normalized_weight\"}\n",
    ")\n",
    "print(causal_estimate)"
   ]
  },
  {
   "cell_type": "markdown",
   "metadata": {},
   "source": [
    "* Binary Instrument/Wald Estimator"
   ]
  },
  {
   "cell_type": "markdown",
   "metadata": {},
   "source": [
    "Brief Explanation of T's and B's "
   ]
  },
  {
   "cell_type": "code",
   "execution_count": 32,
   "metadata": {},
   "outputs": [
    {
     "name": "stderr",
     "output_type": "stream",
     "text": [
      "INFO:dowhy.causal_estimator:INFO: Using Instrumental Variable Estimator\n",
      "INFO:dowhy.causal_estimator:Realized estimand: Wald Estimator\n",
      "Realized estimand type: nonparametric-ate\n",
      "Estimand expression:\n",
      "                                                              -1\n",
      "Expectation(Derivative(y, Z0))⋅Expectation(Derivative(v0, Z0))  \n",
      "Estimand assumption 1, As-if-random: If U→→y then ¬(U →→{Z1,Z0})\n",
      "Estimand assumption 2, Exclusion: If we remove {Z1,Z0}→{v0}, then ¬({Z1,Z0}→y)\n",
      "Estimand assumption 3, treatment_effect_homogeneity: Each unit's treatment ['v0'] is affected in the same way by common causes of ['v0'] and y\n",
      "Estimand assumption 4, outcome_effect_homogeneity: Each unit's outcome y is affected in the same way by common causes of ['v0'] and y\n",
      "\n"
     ]
    },
    {
     "name": "stdout",
     "output_type": "stream",
     "text": [
      "*** Causal Estimate ***\n",
      "\n",
      "## Target estimand\n",
      "Estimand type: nonparametric-ate\n",
      "### Estimand : 1\n",
      "Estimand name: backdoor\n",
      "Estimand expression:\n",
      "  d                                       \n",
      "─────(Expectation(y|W5,W6,W0,W4,W2,W3,W1))\n",
      "d[v₀]                                     \n",
      "Estimand assumption 1, Unconfoundedness: If U→{v0} and U→y then P(y|v0,W5,W6,W0,W4,W2,W3,W1,U) = P(y|v0,W5,W6,W0,W4,W2,W3,W1)\n",
      "### Estimand : 2\n",
      "Estimand name: iv\n",
      "Estimand expression:\n",
      "Expectation(Derivative(y, [Z1, Z0])*Derivative([v0], [Z1, Z0])**(-1))\n",
      "Estimand assumption 1, As-if-random: If U→→y then ¬(U →→{Z1,Z0})\n",
      "Estimand assumption 2, Exclusion: If we remove {Z1,Z0}→{v0}, then ¬({Z1,Z0}→y)\n",
      "\n",
      "## Realized estimand\n",
      "Realized estimand: Wald Estimator\n",
      "Realized estimand type: nonparametric-ate\n",
      "Estimand expression:\n",
      "                                                              -1\n",
      "Expectation(Derivative(y, Z0))⋅Expectation(Derivative(v0, Z0))  \n",
      "Estimand assumption 1, As-if-random: If U→→y then ¬(U →→{Z1,Z0})\n",
      "Estimand assumption 2, Exclusion: If we remove {Z1,Z0}→{v0}, then ¬({Z1,Z0}→y)\n",
      "Estimand assumption 3, treatment_effect_homogeneity: Each unit's treatment ['v0'] is affected in the same way by common causes of ['v0'] and y\n",
      "Estimand assumption 4, outcome_effect_homogeneity: Each unit's outcome y is affected in the same way by common causes of ['v0'] and y\n",
      "\n",
      "## Estimate\n",
      "Value: 10.836616477552493\n",
      "\n"
     ]
    }
   ],
   "source": [
    "causal_estimate = model.estimate_effect(identified_estimand,\n",
    "        method_name=\"iv.instrumental_variable\", method_params = {'iv_instrument_name': ['Z0']})\n",
    "print(causal_estimate)"
   ]
  },
  {
   "cell_type": "markdown",
   "metadata": {},
   "source": [
    "* Regression Discontinuity"
   ]
  },
  {
   "cell_type": "markdown",
   "metadata": {},
   "source": [
    "(Worth to mention this design wouldn't be suited to this case) \n",
    "Brief Explanation of T's and B's "
   ]
  },
  {
   "cell_type": "code",
   "execution_count": 34,
   "metadata": {},
   "outputs": [
    {
     "name": "stderr",
     "output_type": "stream",
     "text": [
      "INFO:dowhy.causal_estimator:Using Regression Discontinuity Estimator\n",
      "INFO:dowhy.causal_estimator:\n",
      "INFO:dowhy.causal_estimator:INFO: Using Instrumental Variable Estimator\n",
      "INFO:dowhy.causal_estimator:Realized estimand: Wald Estimator\n",
      "Realized estimand type: nonparametric-ate\n",
      "Estimand expression:\n",
      "                                                                              \n",
      "Expectation(Derivative(y, local_rd_variable))⋅Expectation(Derivative(v0, local\n",
      "\n",
      "              -1\n",
      "_rd_variable))  \n",
      "Estimand assumption 1, As-if-random: If U→→y then ¬(U →→{Z1,Z0})\n",
      "Estimand assumption 2, Exclusion: If we remove {Z1,Z0}→{v0}, then ¬({Z1,Z0}→y)\n",
      "Estimand assumption 3, treatment_effect_homogeneity: Each unit's treatment ['local_treatment'] is affected in the same way by common causes of ['local_treatment'] and local_outcome\n",
      "Estimand assumption 4, outcome_effect_homogeneity: Each unit's outcome local_outcome is affected in the same way by common causes of ['local_treatment'] and local_outcome\n",
      "\n"
     ]
    },
    {
     "name": "stdout",
     "output_type": "stream",
     "text": [
      "      local_rd_variable  local_treatment  local_outcome\n",
      "2              0.480738             True      -2.887758\n",
      "12             0.416654             True      23.379573\n",
      "25             0.487785             True       3.537029\n",
      "27             0.590342             True      -4.098223\n",
      "42             0.532731             True      23.900428\n",
      "...                 ...              ...            ...\n",
      "9975           0.408114             True      11.813213\n",
      "9976           0.518325             True      18.740856\n",
      "9981           0.423903             True      13.411380\n",
      "9984           0.401221             True      15.911383\n",
      "9989           0.434868             True      -1.407089\n",
      "\n",
      "[1946 rows x 3 columns]\n",
      "*** Causal Estimate ***\n",
      "\n",
      "## Target estimand\n",
      "Estimand type: nonparametric-ate\n",
      "### Estimand : 1\n",
      "Estimand name: backdoor\n",
      "Estimand expression:\n",
      "  d                                       \n",
      "─────(Expectation(y|W5,W6,W0,W4,W2,W3,W1))\n",
      "d[v₀]                                     \n",
      "Estimand assumption 1, Unconfoundedness: If U→{v0} and U→y then P(y|v0,W5,W6,W0,W4,W2,W3,W1,U) = P(y|v0,W5,W6,W0,W4,W2,W3,W1)\n",
      "### Estimand : 2\n",
      "Estimand name: iv\n",
      "Estimand expression:\n",
      "Expectation(Derivative(y, [Z1, Z0])*Derivative([v0], [Z1, Z0])**(-1))\n",
      "Estimand assumption 1, As-if-random: If U→→y then ¬(U →→{Z1,Z0})\n",
      "Estimand assumption 2, Exclusion: If we remove {Z1,Z0}→{v0}, then ¬({Z1,Z0}→y)\n",
      "\n",
      "## Realized estimand\n",
      "Realized estimand: Wald Estimator\n",
      "Realized estimand type: nonparametric-ate\n",
      "Estimand expression:\n",
      "                                                                              \n",
      "Expectation(Derivative(y, local_rd_variable))⋅Expectation(Derivative(v0, local\n",
      "\n",
      "              -1\n",
      "_rd_variable))  \n",
      "Estimand assumption 1, As-if-random: If U→→y then ¬(U →→{Z1,Z0})\n",
      "Estimand assumption 2, Exclusion: If we remove {Z1,Z0}→{v0}, then ¬({Z1,Z0}→y)\n",
      "Estimand assumption 3, treatment_effect_homogeneity: Each unit's treatment ['local_treatment'] is affected in the same way by common causes of ['local_treatment'] and local_outcome\n",
      "Estimand assumption 4, outcome_effect_homogeneity: Each unit's outcome local_outcome is affected in the same way by common causes of ['local_treatment'] and local_outcome\n",
      "\n",
      "## Estimate\n",
      "Value: 6.454845584274891\n",
      "\n"
     ]
    }
   ],
   "source": [
    "causal_estimate = model.estimate_effect(identified_estimand,\n",
    "        method_name=\"iv.regression_discontinuity\", \n",
    "        method_params={'rd_variable_name':'Z1',\n",
    "                       'rd_threshold_value':0.5,\n",
    "                       'rd_bandwidth': 0.1})\n",
    "print(causal_estimate)"
   ]
  },
  {
   "cell_type": "markdown",
   "metadata": {},
   "source": [
    "### HTE Support"
   ]
  },
  {
   "cell_type": "markdown",
   "metadata": {},
   "source": [
    "You can input additional parameters to the estimate_effect method. For instance, to estimate the effect on any subset of the units, you can specify the \"target_units\" parameter which can be a string (\"ate\", \"att\", or \"atc\"), lambda function that filters rows of the data frame, or a new dataframe on which to compute the effect. You can also specify \"effect modifiers\" to estimate heterogeneous effects across these variables. See `help(CausalModel.estimate_effect)`. "
   ]
  },
  {
   "cell_type": "code",
   "execution_count": 12,
   "metadata": {},
   "outputs": [
    {
     "ename": "ImportError",
     "evalue": "linear_regressio_estimator is not an existing causal estimator.",
     "output_type": "error",
     "traceback": [
      "\u001b[0;31m---------------------------------------------------------------------------\u001b[0m",
      "\u001b[0;31mModuleNotFoundError\u001b[0m                       Traceback (most recent call last)",
      "\u001b[0;32m/opt/conda/lib/python3.7/site-packages/dowhy/causal_estimators/__init__.py\u001b[0m in \u001b[0;36mget_class_object\u001b[0;34m(method_name, *args, **kwargs)\u001b[0m\n\u001b[1;32m     12\u001b[0m \u001b[0;34m\u001b[0m\u001b[0m\n\u001b[0;32m---> 13\u001b[0;31m         \u001b[0mestimator_module\u001b[0m \u001b[0;34m=\u001b[0m \u001b[0mimport_module\u001b[0m\u001b[0;34m(\u001b[0m\u001b[0;34m'.'\u001b[0m \u001b[0;34m+\u001b[0m \u001b[0mmodule_name\u001b[0m\u001b[0;34m,\u001b[0m                                          \u001b[0mpackage\u001b[0m\u001b[0;34m=\u001b[0m\u001b[0;34m\"dowhy.causal_estimators\"\u001b[0m\u001b[0;34m)\u001b[0m\u001b[0;34m\u001b[0m\u001b[0;34m\u001b[0m\u001b[0m\n\u001b[0m\u001b[1;32m     14\u001b[0m         \u001b[0mestimator_class\u001b[0m \u001b[0;34m=\u001b[0m \u001b[0mgetattr\u001b[0m\u001b[0;34m(\u001b[0m\u001b[0mestimator_module\u001b[0m\u001b[0;34m,\u001b[0m \u001b[0mclass_name\u001b[0m\u001b[0;34m)\u001b[0m\u001b[0;34m\u001b[0m\u001b[0;34m\u001b[0m\u001b[0m\n",
      "\u001b[0;32m/opt/conda/lib/python3.7/importlib/__init__.py\u001b[0m in \u001b[0;36mimport_module\u001b[0;34m(name, package)\u001b[0m\n\u001b[1;32m    126\u001b[0m             \u001b[0mlevel\u001b[0m \u001b[0;34m+=\u001b[0m \u001b[0;36m1\u001b[0m\u001b[0;34m\u001b[0m\u001b[0;34m\u001b[0m\u001b[0m\n\u001b[0;32m--> 127\u001b[0;31m     \u001b[0;32mreturn\u001b[0m \u001b[0m_bootstrap\u001b[0m\u001b[0;34m.\u001b[0m\u001b[0m_gcd_import\u001b[0m\u001b[0;34m(\u001b[0m\u001b[0mname\u001b[0m\u001b[0;34m[\u001b[0m\u001b[0mlevel\u001b[0m\u001b[0;34m:\u001b[0m\u001b[0;34m]\u001b[0m\u001b[0;34m,\u001b[0m \u001b[0mpackage\u001b[0m\u001b[0;34m,\u001b[0m \u001b[0mlevel\u001b[0m\u001b[0;34m)\u001b[0m\u001b[0;34m\u001b[0m\u001b[0;34m\u001b[0m\u001b[0m\n\u001b[0m\u001b[1;32m    128\u001b[0m \u001b[0;34m\u001b[0m\u001b[0m\n",
      "\u001b[0;32m/opt/conda/lib/python3.7/importlib/_bootstrap.py\u001b[0m in \u001b[0;36m_gcd_import\u001b[0;34m(name, package, level)\u001b[0m\n",
      "\u001b[0;32m/opt/conda/lib/python3.7/importlib/_bootstrap.py\u001b[0m in \u001b[0;36m_find_and_load\u001b[0;34m(name, import_)\u001b[0m\n",
      "\u001b[0;32m/opt/conda/lib/python3.7/importlib/_bootstrap.py\u001b[0m in \u001b[0;36m_find_and_load_unlocked\u001b[0;34m(name, import_)\u001b[0m\n",
      "\u001b[0;31mModuleNotFoundError\u001b[0m: No module named 'dowhy.causal_estimators.linear_regressio_estimator'",
      "\nDuring handling of the above exception, another exception occurred:\n",
      "\u001b[0;31mImportError\u001b[0m                               Traceback (most recent call last)",
      "\u001b[0;32m<ipython-input-12-63a006547f74>\u001b[0m in \u001b[0;36m<module>\u001b[0;34m\u001b[0m\n\u001b[1;32m      2\u001b[0m causal_estimate_att = model.estimate_effect(identified_estimand,\n\u001b[1;32m      3\u001b[0m         \u001b[0mmethod_name\u001b[0m\u001b[0;34m=\u001b[0m\u001b[0;34m\"backdoor.linear_regressio\"\u001b[0m\u001b[0;34m,\u001b[0m\u001b[0;34m\u001b[0m\u001b[0;34m\u001b[0m\u001b[0m\n\u001b[0;32m----> 4\u001b[0;31m         target_units = \"atc\")\n\u001b[0m\u001b[1;32m      5\u001b[0m \u001b[0mprint\u001b[0m\u001b[0;34m(\u001b[0m\u001b[0mcausal_estimate_att\u001b[0m\u001b[0;34m)\u001b[0m\u001b[0;34m\u001b[0m\u001b[0;34m\u001b[0m\u001b[0m\n",
      "\u001b[0;32m/opt/conda/lib/python3.7/site-packages/dowhy/causal_model.py\u001b[0m in \u001b[0;36mestimate_effect\u001b[0;34m(self, identified_estimand, method_name, control_value, treatment_value, test_significance, evaluate_effect_strength, confidence_intervals, target_units, effect_modifiers, method_params)\u001b[0m\n\u001b[1;32m    195\u001b[0m                 \u001b[0mmethod_params\u001b[0m\u001b[0;34m[\u001b[0m\u001b[0;34m\"_econml_methodname\"\u001b[0m\u001b[0;34m]\u001b[0m \u001b[0;34m=\u001b[0m \u001b[0mestimator_name\u001b[0m\u001b[0;34m\u001b[0m\u001b[0;34m\u001b[0m\u001b[0m\n\u001b[1;32m    196\u001b[0m             \u001b[0;32melse\u001b[0m\u001b[0;34m:\u001b[0m\u001b[0;34m\u001b[0m\u001b[0;34m\u001b[0m\u001b[0m\n\u001b[0;32m--> 197\u001b[0;31m                 \u001b[0mcausal_estimator_class\u001b[0m \u001b[0;34m=\u001b[0m \u001b[0mcausal_estimators\u001b[0m\u001b[0;34m.\u001b[0m\u001b[0mget_class_object\u001b[0m\u001b[0;34m(\u001b[0m\u001b[0mestimator_name\u001b[0m \u001b[0;34m+\u001b[0m \u001b[0;34m\"_estimator\"\u001b[0m\u001b[0;34m)\u001b[0m\u001b[0;34m\u001b[0m\u001b[0;34m\u001b[0m\u001b[0m\n\u001b[0m\u001b[1;32m    198\u001b[0m \u001b[0;34m\u001b[0m\u001b[0m\n\u001b[1;32m    199\u001b[0m         \u001b[0;31m# Check if estimator's target estimand is identified\u001b[0m\u001b[0;34m\u001b[0m\u001b[0;34m\u001b[0m\u001b[0;34m\u001b[0m\u001b[0m\n",
      "\u001b[0;32m/opt/conda/lib/python3.7/site-packages/dowhy/causal_estimators/__init__.py\u001b[0m in \u001b[0;36mget_class_object\u001b[0;34m(method_name, *args, **kwargs)\u001b[0m\n\u001b[1;32m     16\u001b[0m \u001b[0;34m\u001b[0m\u001b[0m\n\u001b[1;32m     17\u001b[0m     \u001b[0;32mexcept\u001b[0m \u001b[0;34m(\u001b[0m\u001b[0mAttributeError\u001b[0m\u001b[0;34m,\u001b[0m \u001b[0mAssertionError\u001b[0m\u001b[0;34m,\u001b[0m \u001b[0mImportError\u001b[0m\u001b[0;34m)\u001b[0m\u001b[0;34m:\u001b[0m\u001b[0;34m\u001b[0m\u001b[0;34m\u001b[0m\u001b[0m\n\u001b[0;32m---> 18\u001b[0;31m         \u001b[0;32mraise\u001b[0m \u001b[0mImportError\u001b[0m\u001b[0;34m(\u001b[0m\u001b[0;34m'{} is not an existing causal estimator.'\u001b[0m\u001b[0;34m.\u001b[0m\u001b[0mformat\u001b[0m\u001b[0;34m(\u001b[0m\u001b[0mmethod_name\u001b[0m\u001b[0;34m)\u001b[0m\u001b[0;34m)\u001b[0m\u001b[0;34m\u001b[0m\u001b[0;34m\u001b[0m\u001b[0m\n\u001b[0m\u001b[1;32m     19\u001b[0m     \u001b[0;32mreturn\u001b[0m \u001b[0mestimator_class\u001b[0m\u001b[0;34m\u001b[0m\u001b[0;34m\u001b[0m\u001b[0m\n",
      "\u001b[0;31mImportError\u001b[0m: linear_regressio_estimator is not an existing causal estimator."
     ]
    }
   ],
   "source": [
    "# Causal effect on the control group (ATC)\n",
    "causal_estimate_att = model.estimate_effect(identified_estimand,\n",
    "        method_name=\"backdoor.propensity_score_stratification\",\n",
    "        target_units = \"atc\")\n",
    "print(causal_estimate_att)"
   ]
  },
  {
   "cell_type": "markdown",
   "metadata": {},
   "source": [
    "## Interface 2: Specify common causes and instruments"
   ]
  },
  {
   "cell_type": "code",
   "execution_count": null,
   "metadata": {
    "scrolled": true
   },
   "outputs": [],
   "source": [
    "# Without graph                                       \n",
    "model= CausalModel(                             \n",
    "        data=df,                                      \n",
    "        treatment=data[\"treatment_name\"],             \n",
    "        outcome=data[\"outcome_name\"],                 \n",
    "        common_causes=data[\"common_causes_names\"],\n",
    "        effect_modifiers=data[\"effect_modifier_names\"])                         "
   ]
  },
  {
   "cell_type": "code",
   "execution_count": null,
   "metadata": {},
   "outputs": [],
   "source": [
    "model.view_model()"
   ]
  },
  {
   "cell_type": "code",
   "execution_count": null,
   "metadata": {},
   "outputs": [],
   "source": [
    "from IPython.display import Image, display\n",
    "display(Image(filename=\"causal_model.png\"))"
   ]
  },
  {
   "cell_type": "markdown",
   "metadata": {},
   "source": [
    "We get the same causal graph. Now identification and estimation is done as before."
   ]
  },
  {
   "cell_type": "code",
   "execution_count": null,
   "metadata": {},
   "outputs": [],
   "source": [
    "identified_estimand = model.identify_effect(proceed_when_unidentifiable=True)                         "
   ]
  },
  {
   "cell_type": "markdown",
   "metadata": {},
   "source": [
    "* Estimation"
   ]
  },
  {
   "cell_type": "code",
   "execution_count": null,
   "metadata": {},
   "outputs": [],
   "source": [
    "estimate = model.estimate_effect(identified_estimand,\n",
    "                                 method_name=\"backdoor.propensity_score_stratification\")         \n",
    "print(estimate)\n",
    "print(\"Causal Estimate is \" + str(estimate.value))"
   ]
  },
  {
   "cell_type": "markdown",
   "metadata": {},
   "source": [
    "## Refuting the estimate\n",
    "\n",
    "Let us now look at ways of refuting the estimate obtained."
   ]
  },
  {
   "cell_type": "markdown",
   "metadata": {},
   "source": [
    "### Adding a random common cause variable"
   ]
  },
  {
   "cell_type": "code",
   "execution_count": null,
   "metadata": {},
   "outputs": [],
   "source": [
    "res_random=model.refute_estimate(identified_estimand, estimate, method_name=\"random_common_cause\")\n",
    "print(res_random)"
   ]
  },
  {
   "cell_type": "markdown",
   "metadata": {},
   "source": [
    "### Adding an unobserved common cause variable"
   ]
  },
  {
   "cell_type": "code",
   "execution_count": null,
   "metadata": {},
   "outputs": [],
   "source": [
    "res_unobserved=model.refute_estimate(identified_estimand, estimate, method_name=\"add_unobserved_common_cause\",\n",
    "                                     confounders_effect_on_treatment=\"binary_flip\", confounders_effect_on_outcome=\"linear\",\n",
    "                                    effect_strength_on_treatment=0.01, effect_strength_on_outcome=0.02)\n",
    "print(res_unobserved)"
   ]
  },
  {
   "cell_type": "markdown",
   "metadata": {},
   "source": [
    "### Replacing treatment with a random (placebo) variable"
   ]
  },
  {
   "cell_type": "code",
   "execution_count": null,
   "metadata": {},
   "outputs": [],
   "source": [
    "res_placebo=model.refute_estimate(identified_estimand, estimate,\n",
    "        method_name=\"placebo_treatment_refuter\", placebo_type=\"permute\")\n",
    "print(res_placebo)"
   ]
  },
  {
   "cell_type": "markdown",
   "metadata": {},
   "source": [
    "### Removing a random subset of the data"
   ]
  },
  {
   "cell_type": "code",
   "execution_count": null,
   "metadata": {},
   "outputs": [],
   "source": [
    "res_subset=model.refute_estimate(identified_estimand, estimate,\n",
    "        method_name=\"data_subset_refuter\", subset_fraction=0.9)\n",
    "print(res_subset)\n"
   ]
  },
  {
   "cell_type": "markdown",
   "metadata": {},
   "source": [
    "As you can see, the propensity score stratification estimator is reasonably robust to refutations.\n",
    "For reproducibility, you can add a parameter \"random_seed\" to any refutation method, as shown below."
   ]
  },
  {
   "cell_type": "code",
   "execution_count": null,
   "metadata": {},
   "outputs": [],
   "source": [
    "res_subset=model.refute_estimate(identified_estimand, estimate,\n",
    "        method_name=\"data_subset_refuter\", subset_fraction=0.9, random_seed = 1)\n",
    "print(res_subset)"
   ]
  }
 ],
 "metadata": {
  "kernelspec": {
   "display_name": "Python 3",
   "language": "python",
   "name": "python3"
  },
  "language_info": {
   "codemirror_mode": {
    "name": "ipython",
    "version": 3
   },
   "file_extension": ".py",
   "mimetype": "text/x-python",
   "name": "python",
   "nbconvert_exporter": "python",
   "pygments_lexer": "ipython3",
   "version": "3.7.6"
  }
 },
 "nbformat": 4,
 "nbformat_minor": 4
}
